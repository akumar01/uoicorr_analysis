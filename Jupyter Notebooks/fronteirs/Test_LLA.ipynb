{
 "cells": [
  {
   "cell_type": "code",
   "execution_count": 1,
   "metadata": {},
   "outputs": [],
   "source": [
    "%load_ext autoreload\n",
    "%autoreload 2"
   ]
  },
  {
   "cell_type": "code",
   "execution_count": 2,
   "metadata": {},
   "outputs": [],
   "source": [
    "# %load ../../loaders/imports.py\n",
    "import sys, os\n",
    "import numpy as np\n",
    "import matplotlib.pyplot as plt\n",
    "import time\n",
    "import pdb\n",
    "\n",
    "# Add the uoicorr directory to the path\n",
    "sys.path.append('../../../uoicorr')\n",
    "\n",
    "# Add the root directory of this repository\n",
    "sys.path.append('../..')\n",
    "\n",
    "from utils import gen_covariance, gen_beta2, gen_data, get_cov_list\n",
    "from utils import selection_accuracy\n",
    "from sklearn.linear_model import LassoLars, lasso_path, LinearRegression\n",
    "\n",
    "from pyuoi.linear_model import UoI_Lasso"
   ]
  },
  {
   "cell_type": "code",
   "execution_count": 3,
   "metadata": {},
   "outputs": [],
   "source": [
    "from LLA.lla import LLA\n",
    "from LLA.lla import dSCAD, dMCP\n",
    "from LLA.lla import FISTA"
   ]
  },
  {
   "cell_type": "code",
   "execution_count": 13,
   "metadata": {},
   "outputs": [],
   "source": [
    "import pycasso"
   ]
  },
  {
   "cell_type": "code",
   "execution_count": 4,
   "metadata": {},
   "outputs": [],
   "source": [
    "from sklearn.preprocessing import StandardScaler"
   ]
  },
  {
   "cell_type": "code",
   "execution_count": 5,
   "metadata": {},
   "outputs": [],
   "source": [
    "# %load ../../loaders/datgen.py\n",
    "n_features = 50\n",
    "n_samples = 150\n",
    "\n",
    "sigma = gen_covariance(n_features, 0, n_features, 1, 0)\n",
    "beta = gen_beta2(n_features, n_features, sparsity = 0.2, betawidth = np.inf)\n",
    "X, X_test, y, y_test, ss = gen_data(n_samples, n_features, kappa = 100, \n",
    "\t\t\t\t\t\t\t\t\tcovariance = sigma, beta = beta)\n",
    "X = StandardScaler().fit_transform(X)\n",
    "y -= np.mean(y)"
   ]
  },
  {
   "cell_type": "code",
   "execution_count": 8,
   "metadata": {},
   "outputs": [],
   "source": [
    "def SCAD_loss(X, y, beta, alpha, gamma):\n",
    "    MSE = 1/(2 * n_samples) * np.linalg.norm(y - X @ beta)**2\n",
    "    penalty = np.sum([alpha * np.abs(xi) if np.abs(xi) <= alpha\n",
    "                      else (2 * gamma * alpha * np.abs(xi) - xi**2 - alpha**2)/(2 * (gamma - 1)) \n",
    "                      if np.abs(xi) > alpha and np.abs(xi) < alpha * gamma\n",
    "                      else alpha**2 * (gamma + 1)/2 for xi in beta])\n",
    "    \n",
    "    return MSE + penalty\n",
    "    "
   ]
  },
  {
   "cell_type": "code",
   "execution_count": 9,
   "metadata": {},
   "outputs": [],
   "source": [
    "def MCP_loss(X, y, beta, alpha, gamma): \n",
    "    \n",
    "    MSE = 1/(2 * n_samples) * np.linalg.norm(y - X @ beta)**2\n",
    "    penalty = np.sum([alpha * np.abs(xi) - xi**2/(2 * gamma) if np.abs(xi) <= gamma * alpha\n",
    "                      else 1/2 * gamma * alpha**2 for xi in beta])\n",
    "    return MSE + penalty"
   ]
  },
  {
   "cell_type": "code",
   "execution_count": 10,
   "metadata": {},
   "outputs": [],
   "source": [
    "# A few questions: \n",
    "# 1) Verify superiority of Pycasso to LLA using (1) 0 initialization across a few different designs\n",
    "#                                               (2) Lasso initialization\n",
    "#                                               (3) SCAD/MCP initialization"
   ]
  },
  {
   "cell_type": "code",
   "execution_count": 11,
   "metadata": {},
   "outputs": [],
   "source": [
    "# Next up: Debug empirical bayes and the use of aBIC across UoI with the stability selection knob turned down"
   ]
  },
  {
   "cell_type": "code",
   "execution_count": 25,
   "metadata": {},
   "outputs": [],
   "source": [
    "# Choose a block diagonal, exponential, uncorrelated design matrix, as well as equal and uniformly distributed\n",
    "# coefficients. Then, do 5 repetitions. Record the selection accuracy, SCAD/MCP loss for all\n",
    "n_features = 200\n",
    "n_samples = 800\n",
    "\n",
    "cov_params = [{'correlation' : 0.25, 'block_size' : 25, 'L' : 1, 't' : 0},\n",
    "              {'correlation' : 0, 'block_size' : 200, 'L' : 1, 't' : 0},\n",
    "              {'correlation' : 0.25, 'block_size' : 200, 'L' : 10, 't' : 1}]\n",
    "\n",
    "sparsity = 0.25\n",
    "betawidth = [0.1, np.inf]\n",
    "kappa = [1, 2, 5]\n",
    "reps = 5\n",
    "\n",
    "# 3 different initializations\n",
    "LLA_SCAD_loss = np.zeros((len(cov_params), len(betawidth), len(kappa), reps, 2))\n",
    "LLA_MCP_loss = np.zeros((len(cov_params), len(betawidth), len(kappa), reps, 2))\n",
    "pyc_SCAD_loss = np.zeros((len(cov_params), len(betawidth), len(kappa), reps))\n",
    "pyc_MCP_loss = np.zeros((len(cov_params), len(betawidth), len(kappa), reps))\n",
    "\n",
    "LLA_SCAD_sa = np.zeros((len(cov_params), len(betawidth), len(kappa), reps, 2))\n",
    "LLA_MCP_sa = np.zeros((len(cov_params), len(betawidth), len(kappa), reps, 2))\n",
    "pyc_SCAD_sa = np.zeros((len(cov_params), len(betawidth), len(kappa), reps))\n",
    "pyc_MCP_sa = np.zeros((len(cov_params), len(betawidth), len(kappa), reps))\n",
    "\n",
    "for i1, cov_param in enumerate(cov_params):\n",
    "    for i2, bw in enumerate(betawidth): \n",
    "        for i3, k in enumerate(kappa):\n",
    "            for rep in range(reps): \n",
    "                \n",
    "                # Generate data\n",
    "                sigma = gen_covariance(n_features, **cov_param)\n",
    "                beta = gen_beta2(n_features, cov_param['block_size'], sparsity = sparsity,\n",
    "                                 betawidth = bw)\n",
    "                X, X_test, y, y_test, ss = gen_data(n_samples, n_features, kappa = k, \n",
    "                                                    covariance = sigma, beta = beta)\n",
    "                X = StandardScaler().fit_transform(X)\n",
    "                y -= np.mean(y)\n",
    "                \n",
    "                ## SCAD ##\n",
    "                solver = pycasso.Solver(X, y, family='gaussian', useintercept=False, gamma=3,\n",
    "                                        penalty = 'scad', lambdas = (1, 0.5, 0.25))\n",
    "                solver.train()\n",
    "                pyc_coefs = solver.result['beta'][0, :]\n",
    "\n",
    "                pyc_SCAD_loss[i1, i2, i3, rep] = SCAD_loss(X, y.ravel(), pyc_coefs.ravel(), 1, 3)\n",
    "                pyc_SCAD_sa[i1, i2, i3, rep] = selection_accuracy(beta.ravel(), pyc_coefs.ravel())\n",
    "\n",
    "                # Zero initialization\n",
    "                lla_coefs = LLA(np.zeros(n_features), X, y.ravel(), dSCAD, (3, 1))[0]\n",
    "                \n",
    "                LLA_SCAD_loss[i1, i2, i3, rep, 0] = SCAD_loss(X, y.ravel(), lla_coefs.ravel(), 1, 3)\n",
    "                LLA_SCAD_sa[i1, i2, i3, rep, 0] = selection_accuracy(beta.ravel(), lla_coefs.ravel())\n",
    "                \n",
    "                # SCAD initialization\n",
    "                lla_coefs = LLA(pyc_coefs.ravel(), X, y.ravel(), dSCAD, (3, 1))[0]\n",
    "                LLA_SCAD_loss[i1, i2, i3, rep, 1] = SCAD_loss(X, y.ravel(), lla_coefs.ravel(), 1, 3)\n",
    "                LLA_SCAD_sa[i1, i2, i3, rep, 1] = selection_accuracy(beta.ravel(), lla_coefs.ravel())\n",
    "                \n",
    "                ## MCP ## \n",
    "                solver = pycasso.Solver(X, y, family='gaussian', useintercept=False, gamma=3,\n",
    "                                        penalty = 'mcp', lambdas = (1, 0.5, 0.25))\n",
    "                solver.train()\n",
    "                pyc_coefs = solver.result['beta'][0, :]\n",
    "                \n",
    "                pyc_MCP_loss[i1, i2, i3, rep] = MCP_loss(X, y.ravel(), pyc_coefs.ravel(), 1, 3)\n",
    "                pyc_MCP_sa[i1, i2, i3, rep] = selection_accuracy(beta.ravel(), pyc_coefs.ravel())\n",
    "\n",
    "                \n",
    "                # Zero initialization\n",
    "                lla_coefs = LLA(np.zeros(n_features), X, y.ravel(), dMCP, (3, 1))[0]\n",
    "                \n",
    "                LLA_MCP_loss[i1, i2, i3, rep, 0] = MCP_loss(X, y.ravel(), lla_coefs.ravel(), 1, 3)\n",
    "                LLA_MCP_sa[i1, i2, i3, rep, 0] = selection_accuracy(beta.ravel(), lla_coefs.ravel())\n",
    "                \n",
    "                # SCAD initialization\n",
    "                lla_coefs = LLA(pyc_coefs.ravel(), X, y.ravel(), dMCP, (3, 1))[0]\n",
    "                LLA_MCP_loss[i1, i2, i3, rep, 1] = MCP_loss(X, y.ravel(), lla_coefs.ravel(), 1, 3)\n",
    "                LLA_MCP_sa[i1, i2, i3, rep, 1] = selection_accuracy(beta.ravel(), lla_coefs.ravel())\n",
    "                \n",
    "                "
   ]
  },
  {
   "cell_type": "code",
   "execution_count": 27,
   "metadata": {},
   "outputs": [
    {
     "data": {
      "text/plain": [
       "68"
      ]
     },
     "execution_count": 27,
     "metadata": {},
     "output_type": "execute_result"
    }
   ],
   "source": [
    "np.argmax(LLA_SCAD_loss[..., 0].ravel() - pyc_SCAD_loss.ravel())"
   ]
  },
  {
   "cell_type": "code",
   "execution_count": 31,
   "metadata": {},
   "outputs": [
    {
     "data": {
      "text/plain": [
       "(array([ 1.,  2.,  1.,  0.,  1.,  5.,  0.,  8., 10., 62.]),\n",
       " array([-121.59738453, -108.7592492 ,  -95.92111388,  -83.08297856,\n",
       "         -70.24484324,  -57.40670791,  -44.56857259,  -31.73043727,\n",
       "         -18.89230195,   -6.05416662,    6.7839687 ]),\n",
       " <a list of 10 Patch objects>)"
      ]
     },
     "execution_count": 31,
     "metadata": {},
     "output_type": "execute_result"
    },
    {
     "data": {
      "image/png": "[encoded data removed]",
      "text/plain": [
       "<Figure size 432x288 with 1 Axes>"
      ]
     },
     "metadata": {
      "needs_background": "light"
     },
     "output_type": "display_data"
    }
   ],
   "source": [
    "plt.hist(LLA_SCAD_loss[..., 0].ravel() - pyc_SCAD_loss.ravel())"
   ]
  },
  {
   "cell_type": "code",
   "execution_count": 19,
   "metadata": {},
   "outputs": [
    {
     "data": {
      "text/plain": [
       "(array([0, 0, 0, 0, 0, 0, 0, 0, 0, 0, 0, 0, 0, 0, 0, 0, 0, 0, 0, 0, 0, 0,\n",
       "        0, 0, 0, 0, 0, 0, 0, 0, 1, 1, 1, 1, 1, 1, 1, 1, 1, 1, 1, 1, 1, 1,\n",
       "        1, 1, 1, 1, 1, 1, 1, 1, 1, 1, 1, 1, 1, 1, 1, 1, 2, 2, 2, 2, 2, 2,\n",
       "        2, 2, 2, 2, 2, 2, 2, 2, 2, 2, 2, 2, 2, 2, 2, 2, 2, 2, 2, 2, 2, 2,\n",
       "        2]),\n",
       " array([0, 0, 0, 0, 0, 0, 0, 0, 0, 0, 0, 0, 0, 0, 0, 1, 1, 1, 1, 1, 1, 1,\n",
       "        1, 1, 1, 1, 1, 1, 1, 1, 0, 0, 0, 0, 0, 0, 0, 0, 0, 0, 0, 0, 0, 0,\n",
       "        0, 1, 1, 1, 1, 1, 1, 1, 1, 1, 1, 1, 1, 1, 1, 1, 0, 0, 0, 0, 0, 0,\n",
       "        0, 0, 0, 0, 0, 0, 0, 0, 0, 1, 1, 1, 1, 1, 1, 1, 1, 1, 1, 1, 1, 1,\n",
       "        1]),\n",
       " array([0, 0, 0, 0, 0, 1, 1, 1, 1, 1, 2, 2, 2, 2, 2, 0, 0, 0, 0, 0, 1, 1,\n",
       "        1, 1, 1, 2, 2, 2, 2, 2, 0, 0, 0, 0, 0, 1, 1, 1, 1, 1, 2, 2, 2, 2,\n",
       "        2, 0, 0, 0, 0, 0, 1, 1, 1, 1, 1, 2, 2, 2, 2, 2, 0, 0, 0, 0, 0, 1,\n",
       "        1, 1, 1, 1, 2, 2, 2, 2, 2, 0, 0, 0, 0, 0, 1, 1, 1, 1, 2, 2, 2, 2,\n",
       "        2]),\n",
       " array([0, 1, 2, 3, 4, 0, 1, 2, 3, 4, 0, 1, 2, 3, 4, 0, 1, 2, 3, 4, 0, 1,\n",
       "        2, 3, 4, 0, 1, 2, 3, 4, 0, 1, 2, 3, 4, 0, 1, 2, 3, 4, 0, 1, 2, 3,\n",
       "        4, 0, 1, 2, 3, 4, 0, 1, 2, 3, 4, 0, 1, 2, 3, 4, 0, 1, 2, 3, 4, 0,\n",
       "        1, 2, 3, 4, 0, 1, 2, 3, 4, 0, 1, 2, 3, 4, 0, 2, 3, 4, 0, 1, 2, 3,\n",
       "        4]))"
      ]
     },
     "execution_count": 19,
     "metadata": {},
     "output_type": "execute_result"
    }
   ],
   "source": [
    "# Achieved loss, 0 initialization\n",
    "np.where(LLA_MCP_loss[..., 0] < pyc_MCP_loss)"
   ]
  },
  {
   "cell_type": "code",
   "execution_count": 17,
   "metadata": {},
   "outputs": [
    {
     "data": {
      "text/plain": [
       "array([[[[ True,  True,  True,  True,  True],\n",
       "         [ True,  True,  True,  True,  True],\n",
       "         [ True,  True,  True,  True,  True]],\n",
       "\n",
       "        [[ True,  True,  True,  True,  True],\n",
       "         [ True,  True,  True,  True,  True],\n",
       "         [ True,  True,  True,  True,  True]]],\n",
       "\n",
       "\n",
       "       [[[ True,  True,  True,  True,  True],\n",
       "         [ True,  True,  True,  True,  True],\n",
       "         [ True,  True,  True,  True,  True]],\n",
       "\n",
       "        [[ True,  True,  True,  True,  True],\n",
       "         [ True,  True,  True,  True,  True],\n",
       "         [ True,  True,  True,  True,  True]]],\n",
       "\n",
       "\n",
       "       [[[ True,  True,  True,  True,  True],\n",
       "         [ True,  True,  True,  True,  True],\n",
       "         [ True,  True,  True,  True,  True]],\n",
       "\n",
       "        [[ True,  True,  True,  True,  True],\n",
       "         [ True,  True,  True,  True,  True],\n",
       "         [ True,  True,  True,  True,  True]]]])"
      ]
     },
     "execution_count": 17,
     "metadata": {},
     "output_type": "execute_result"
    }
   ],
   "source": [
    "LLA_SCAD_loss[..., 0] < pyc_SCAD_loss"
   ]
  },
  {
   "cell_type": "code",
   "execution_count": 29,
   "metadata": {},
   "outputs": [
    {
     "data": {
      "text/plain": [
       "0.43333333333333335"
      ]
     },
     "execution_count": 29,
     "metadata": {},
     "output_type": "execute_result"
    }
   ],
   "source": [
    "np.count_nonzero(1 * LLA_SCAD_sa[..., 0] > pyc_SCAD_sa)/pyc_SCAD_sa.size"
   ]
  },
  {
   "cell_type": "code",
   "execution_count": null,
   "metadata": {},
   "outputs": [],
   "source": [
    "# results not dramatic enough to warrant switching away."
   ]
  },
  {
   "cell_type": "code",
   "execution_count": null,
   "metadata": {},
   "outputs": [],
   "source": [
    "# Testing matrix multiplication"
   ]
  },
  {
   "cell_type": "code",
   "execution_count": 33,
   "metadata": {},
   "outputs": [],
   "source": [
    "x = np.arange(10000)\n",
    "y = np.arange(10000)"
   ]
  },
  {
   "cell_type": "code",
   "execution_count": 41,
   "metadata": {},
   "outputs": [],
   "source": [
    "nlogn = lambda x: x * np.log(x) if x > 0 else 0"
   ]
  },
  {
   "cell_type": "code",
   "execution_count": 46,
   "metadata": {},
   "outputs": [],
   "source": [
    "nlogn2 = lambda x: np.ma.masked_equal(np.multiply(x, np.log(x)), -np.inf)"
   ]
  },
  {
   "cell_type": "code",
   "execution_count": 47,
   "metadata": {},
   "outputs": [
    {
     "name": "stderr",
     "output_type": "stream",
     "text": [
      "/home/akumar/anaconda3/envs/nse/lib/python3.7/site-packages/ipykernel_launcher.py:1: RuntimeWarning: divide by zero encountered in log\n",
      "  \"\"\"Entry point for launching an IPython kernel.\n",
      "/home/akumar/anaconda3/envs/nse/lib/python3.7/site-packages/ipykernel_launcher.py:1: RuntimeWarning: invalid value encountered in multiply\n",
      "  \"\"\"Entry point for launching an IPython kernel.\n"
     ]
    },
    {
     "name": "stdout",
     "output_type": "stream",
     "text": [
      "207 µs ± 2.43 µs per loop (mean ± std. dev. of 7 runs, 1000 loops each)\n"
     ]
    }
   ],
   "source": [
    "%timeit nlogn2(x)"
   ]
  },
  {
   "cell_type": "code",
   "execution_count": 51,
   "metadata": {},
   "outputs": [],
   "source": [
    "thres_log = lambda x : np.array([np.log(xx) if xx > 1 else 0 for xx in x])"
   ]
  },
  {
   "cell_type": "code",
   "execution_count": 54,
   "metadata": {},
   "outputs": [],
   "source": [
    "thres_log2 = lambda x : np.log(np.maximum(x, 1))"
   ]
  },
  {
   "cell_type": "code",
   "execution_count": 52,
   "metadata": {},
   "outputs": [
    {
     "name": "stdout",
     "output_type": "stream",
     "text": [
      "16.5 ms ± 523 µs per loop (mean ± std. dev. of 7 runs, 100 loops each)\n"
     ]
    }
   ],
   "source": [
    "%timeit thres_log(x)"
   ]
  },
  {
   "cell_type": "code",
   "execution_count": 55,
   "metadata": {},
   "outputs": [
    {
     "name": "stdout",
     "output_type": "stream",
     "text": [
      "148 µs ± 137 ns per loop (mean ± std. dev. of 7 runs, 10000 loops each)\n"
     ]
    }
   ],
   "source": [
    "%timeit thres_log2(x)"
   ]
  },
  {
   "cell_type": "code",
   "execution_count": 57,
   "metadata": {},
   "outputs": [
    {
     "data": {
      "text/plain": [
       "array([   0,    1,    2, ..., 9997, 9998, 9999])"
      ]
     },
     "execution_count": 57,
     "metadata": {},
     "output_type": "execute_result"
    }
   ],
   "source": []
  },
  {
   "cell_type": "code",
   "execution_count": null,
   "metadata": {},
   "outputs": [],
   "source": []
  }
 ],
 "metadata": {
  "kernelspec": {
   "display_name": "Python 3",
   "language": "python",
   "name": "python3"
  },
  "language_info": {
   "codemirror_mode": {
    "name": "ipython",
    "version": 3
   },
   "file_extension": ".py",
   "mimetype": "text/x-python",
   "name": "python",
   "nbconvert_exporter": "python",
   "pygments_lexer": "ipython3",
   "version": "3.7.3"
  }
 },
 "nbformat": 4,
 "nbformat_minor": 2
}
