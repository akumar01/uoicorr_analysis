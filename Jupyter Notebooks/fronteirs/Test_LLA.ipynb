{
 "cells": [
  {
   "cell_type": "code",
   "execution_count": 1,
   "metadata": {},
   "outputs": [],
   "source": [
    "%load_ext autoreload\n",
    "%autoreload 2"
   ]
  },
  {
   "cell_type": "code",
   "execution_count": 2,
   "metadata": {},
   "outputs": [],
   "source": [
    "# %load ../../loaders/imports.py\n",
    "import sys, os\n",
    "import numpy as np\n",
    "import matplotlib.pyplot as plt\n",
    "import time\n",
    "import pdb\n",
    "\n",
    "# Add the uoicorr directory to the path\n",
    "sys.path.append('../../../uoicorr')\n",
    "\n",
    "# Add the root directory of this repository\n",
    "sys.path.append('../..')\n",
    "\n",
    "from utils import gen_covariance, gen_beta2, gen_data, get_cov_list\n",
    "from utils import selection_accuracy\n",
    "from sklearn.linear_model import LassoLars, lasso_path, LinearRegression\n",
    "\n",
    "from pyuoi.linear_model import UoI_Lasso"
   ]
  },
  {
   "cell_type": "code",
   "execution_count": 6,
   "metadata": {},
   "outputs": [],
   "source": [
    "from LLA.lla import LLA\n",
    "from LLA.lla import dSCAD, dMCP\n",
    "from LLA.lla import FISTA"
   ]
  },
  {
   "cell_type": "code",
   "execution_count": 4,
   "metadata": {},
   "outputs": [],
   "source": [
    "from sklearn.preprocessing import StandardScaler"
   ]
  },
  {
   "cell_type": "code",
   "execution_count": 5,
   "metadata": {},
   "outputs": [],
   "source": [
    "# %load ../../loaders/datgen.py\n",
    "n_features = 50\n",
    "n_samples = 150\n",
    "\n",
    "sigma = gen_covariance(n_features, 0, n_features, 1, 0)\n",
    "beta = gen_beta2(n_features, n_features, sparsity = 0.2, betawidth = np.inf)\n",
    "X, X_test, y, y_test, ss = gen_data(n_samples, n_features, kappa = 100, \n",
    "\t\t\t\t\t\t\t\t\tcovariance = sigma, beta = beta)\n",
    "X = StandardScaler().fit_transform(X)\n",
    "y -= np.mean(y)"
   ]
  },
  {
   "cell_type": "code",
   "execution_count": 9,
   "metadata": {},
   "outputs": [],
   "source": [
    "# Initialize with Lasso\n",
    "from sklearn.linear_model import Lasso"
   ]
  },
  {
   "cell_type": "code",
   "execution_count": null,
   "metadata": {},
   "outputs": [],
   "source": [
    "l = Lasso(fit_intercept=False, alpha = 1)"
   ]
  },
  {
   "cell_type": "code",
   "execution_count": 53,
   "metadata": {},
   "outputs": [
    {
     "name": "stdout",
     "output_type": "stream",
     "text": [
      "244 µs ± 12.7 µs per loop (mean ± std. dev. of 7 runs, 1000 loops each)\n"
     ]
    }
   ],
   "source": [
    "%timeit l.fit(X, y)"
   ]
  },
  {
   "cell_type": "code",
   "execution_count": 33,
   "metadata": {},
   "outputs": [
    {
     "data": {
      "text/plain": [
       "array([ 0.        ,  0.        , -0.        , -0.        ,  0.        ,\n",
       "       -0.        ,  6.88007303, -0.        ,  0.        ,  8.2038499 ,\n",
       "        0.        ,  8.91877782, -0.        ,  3.62031202,  0.        ,\n",
       "       -0.        , -0.        , -0.        ,  0.        ,  0.        ,\n",
       "       -0.        , -0.        ,  3.99104761, -0.        ,  5.62299789,\n",
       "        2.25769429, -0.        ,  0.        ,  0.        , -0.        ,\n",
       "       -0.        ,  0.        , -0.        ,  0.        ,  0.        ,\n",
       "        0.        ,  0.        ,  0.        ,  0.        ,  0.        ,\n",
       "        0.        , -0.        ,  4.07008385, -0.        , -0.        ,\n",
       "        0.        , -0.        ,  0.        ,  0.        ,  4.6829654 ])"
      ]
     },
     "execution_count": 33,
     "metadata": {},
     "output_type": "execute_result"
    }
   ],
   "source": [
    "l.coef_"
   ]
  },
  {
   "cell_type": "code",
   "execution_count": 55,
   "metadata": {},
   "outputs": [
    {
     "name": "stdout",
     "output_type": "stream",
     "text": [
      "1.43 ms ± 22.5 µs per loop (mean ± std. dev. of 7 runs, 1000 loops each)\n"
     ]
    }
   ],
   "source": [
    "# Test whether the FISTA algorithm gives good solutions to the Lasso\n",
    "%timeit coefs = FISTA(np.zeros(n_features), X, y.ravel(), np.ones(n_features), max_iter=2000)"
   ]
  },
  {
   "cell_type": "code",
   "execution_count": 49,
   "metadata": {},
   "outputs": [
    {
     "data": {
      "text/plain": [
       "(array([ 0.        ,  0.        , -0.        , -0.        ,  0.        ,\n",
       "        -0.        ,  6.88008002, -0.        ,  0.        ,  8.20372679,\n",
       "         0.        ,  8.92006094, -0.        ,  3.62028592,  0.        ,\n",
       "        -0.        , -0.        , -0.        ,  0.        ,  0.        ,\n",
       "        -0.        , -0.        ,  3.99331747, -0.        ,  5.62351295,\n",
       "         2.25541176, -0.        ,  0.        ,  0.        , -0.        ,\n",
       "        -0.        ,  0.        , -0.        ,  0.        ,  0.        ,\n",
       "         0.        ,  0.        ,  0.        ,  0.        ,  0.        ,\n",
       "         0.        , -0.        ,  4.06947193, -0.        , -0.        ,\n",
       "         0.        , -0.        ,  0.        ,  0.        ,  4.68497351]),\n",
       " 54.61932325012915,\n",
       " 8.579585468737605e-07,\n",
       " 37)"
      ]
     },
     "execution_count": 49,
     "metadata": {},
     "output_type": "execute_result"
    }
   ],
   "source": [
    "coefs"
   ]
  },
  {
   "cell_type": "code",
   "execution_count": 61,
   "metadata": {},
   "outputs": [],
   "source": [
    "beta = LLA(np.zeros(n_features), X, y.ravel(), dSCAD, (3, 1))"
   ]
  },
  {
   "cell_type": "code",
   "execution_count": 65,
   "metadata": {},
   "outputs": [
    {
     "data": {
      "text/plain": [
       "2"
      ]
     },
     "execution_count": 65,
     "metadata": {},
     "output_type": "execute_result"
    }
   ],
   "source": [
    "len(beta)"
   ]
  },
  {
   "cell_type": "markdown",
   "metadata": {},
   "source": [
    "#### Pycasso solver"
   ]
  },
  {
   "cell_type": "code",
   "execution_count": 56,
   "metadata": {},
   "outputs": [],
   "source": [
    "import pycasso"
   ]
  },
  {
   "cell_type": "code",
   "execution_count": 57,
   "metadata": {},
   "outputs": [],
   "source": [
    "solver = pycasso.Solver(X, y, family='gaussian', useintercept=False, gamma=3, penalty = 'scad', lambdas = (1, 0.5, 0.25))"
   ]
  },
  {
   "cell_type": "code",
   "execution_count": 58,
   "metadata": {},
   "outputs": [],
   "source": [
    "solver.train()"
   ]
  },
  {
   "cell_type": "code",
   "execution_count": 59,
   "metadata": {},
   "outputs": [
    {
     "data": {
      "text/plain": [
       "array([[ 0.00000000e+00,  0.00000000e+00,  0.00000000e+00,\n",
       "         0.00000000e+00,  0.00000000e+00,  0.00000000e+00,\n",
       "         8.16006833e+00,  0.00000000e+00,  0.00000000e+00,\n",
       "         8.88281286e+00,  0.00000000e+00,  9.47446164e+00,\n",
       "         0.00000000e+00,  4.40699424e+00,  0.00000000e+00,\n",
       "         0.00000000e+00,  0.00000000e+00,  0.00000000e+00,\n",
       "         0.00000000e+00,  0.00000000e+00,  0.00000000e+00,\n",
       "         0.00000000e+00,  5.13220065e+00,  0.00000000e+00,\n",
       "         6.27599722e+00,  3.12171391e+00,  0.00000000e+00,\n",
       "         0.00000000e+00,  0.00000000e+00,  0.00000000e+00,\n",
       "         0.00000000e+00,  0.00000000e+00,  0.00000000e+00,\n",
       "         0.00000000e+00,  0.00000000e+00,  0.00000000e+00,\n",
       "         0.00000000e+00,  0.00000000e+00,  0.00000000e+00,\n",
       "         0.00000000e+00,  0.00000000e+00,  0.00000000e+00,\n",
       "         4.91220639e+00,  0.00000000e+00,  0.00000000e+00,\n",
       "         0.00000000e+00,  0.00000000e+00,  0.00000000e+00,\n",
       "         0.00000000e+00,  5.77869005e+00],\n",
       "       [ 0.00000000e+00,  0.00000000e+00,  0.00000000e+00,\n",
       "         0.00000000e+00,  0.00000000e+00,  0.00000000e+00,\n",
       "         8.15899601e+00,  0.00000000e+00,  0.00000000e+00,\n",
       "         8.88324425e+00,  0.00000000e+00,  9.47752929e+00,\n",
       "         0.00000000e+00,  4.40555965e+00,  0.00000000e+00,\n",
       "         0.00000000e+00,  0.00000000e+00,  0.00000000e+00,\n",
       "         0.00000000e+00,  0.00000000e+00,  0.00000000e+00,\n",
       "         0.00000000e+00,  5.13117476e+00,  0.00000000e+00,\n",
       "         6.27514035e+00,  3.12136144e+00,  0.00000000e+00,\n",
       "         0.00000000e+00,  0.00000000e+00,  0.00000000e+00,\n",
       "         0.00000000e+00,  0.00000000e+00,  0.00000000e+00,\n",
       "         0.00000000e+00,  0.00000000e+00,  0.00000000e+00,\n",
       "         0.00000000e+00,  0.00000000e+00,  0.00000000e+00,\n",
       "         0.00000000e+00,  0.00000000e+00,  0.00000000e+00,\n",
       "         4.91260679e+00,  0.00000000e+00,  0.00000000e+00,\n",
       "         0.00000000e+00,  0.00000000e+00,  0.00000000e+00,\n",
       "         0.00000000e+00,  5.77854755e+00],\n",
       "       [ 0.00000000e+00,  0.00000000e+00,  0.00000000e+00,\n",
       "        -1.05921230e-01,  0.00000000e+00,  0.00000000e+00,\n",
       "         8.15322801e+00,  0.00000000e+00,  0.00000000e+00,\n",
       "         8.89866845e+00,  1.63275748e-01,  9.46457811e+00,\n",
       "        -1.57904272e-01,  4.37174107e+00,  0.00000000e+00,\n",
       "         0.00000000e+00, -9.71460092e-03,  0.00000000e+00,\n",
       "         0.00000000e+00,  0.00000000e+00,  0.00000000e+00,\n",
       "         0.00000000e+00,  5.12517009e+00,  0.00000000e+00,\n",
       "         6.27999027e+00,  3.14371531e+00,  0.00000000e+00,\n",
       "         0.00000000e+00,  0.00000000e+00,  0.00000000e+00,\n",
       "         0.00000000e+00,  0.00000000e+00,  0.00000000e+00,\n",
       "         0.00000000e+00,  0.00000000e+00,  0.00000000e+00,\n",
       "         0.00000000e+00, -6.91361563e-02,  2.14397429e-01,\n",
       "         0.00000000e+00,  0.00000000e+00, -6.26336130e-03,\n",
       "         4.93799370e+00,  0.00000000e+00,  0.00000000e+00,\n",
       "         0.00000000e+00,  0.00000000e+00,  0.00000000e+00,\n",
       "         0.00000000e+00,  5.76356770e+00]])"
      ]
     },
     "execution_count": 59,
     "metadata": {},
     "output_type": "execute_result"
    }
   ],
   "source": [
    "solver.result['beta']"
   ]
  },
  {
   "cell_type": "code",
   "execution_count": 62,
   "metadata": {},
   "outputs": [
    {
     "data": {
      "text/plain": [
       "[array([-0.        , -0.        , -0.        , -0.        ,  0.        ,\n",
       "        -0.        ,  8.15897958,  0.        ,  0.        ,  8.88319147,\n",
       "         0.        ,  9.47755123, -0.        ,  4.40555114, -0.        ,\n",
       "        -0.        , -0.        , -0.        , -0.        , -0.        ,\n",
       "         0.        ,  0.        ,  5.13116975,  0.        ,  6.27514289,\n",
       "         3.1213641 , -0.        , -0.        , -0.        , -0.        ,\n",
       "        -0.        ,  0.        ,  0.        ,  0.        ,  0.        ,\n",
       "        -0.        ,  0.        , -0.        ,  0.        ,  0.        ,\n",
       "         0.        , -0.        ,  4.91260809,  0.        , -0.        ,\n",
       "         0.        , -0.        ,  0.        , -0.        ,  5.77854679]),\n",
       " array([-0.        , -0.        , -0.        , -0.        ,  0.        ,\n",
       "        -0.        ,  8.15897996,  0.        ,  0.        ,  8.88319136,\n",
       "         0.        ,  9.47755102, -0.        ,  4.40555117, -0.        ,\n",
       "        -0.        , -0.        , -0.        , -0.        , -0.        ,\n",
       "         0.        ,  0.        ,  5.13116968,  0.        ,  6.27514266,\n",
       "         3.12136454, -0.        , -0.        , -0.        , -0.        ,\n",
       "        -0.        ,  0.        ,  0.        ,  0.        ,  0.        ,\n",
       "        -0.        ,  0.        , -0.        ,  0.        ,  0.        ,\n",
       "         0.        , -0.        ,  4.91260833,  0.        , -0.        ,\n",
       "         0.        , -0.        ,  0.        , -0.        ,  5.77854684])]"
      ]
     },
     "execution_count": 62,
     "metadata": {},
     "output_type": "execute_result"
    }
   ],
   "source": []
  },
  {
   "cell_type": "code",
   "execution_count": 63,
   "metadata": {},
   "outputs": [],
   "source": [
    "def SCAD_loss(X, y, beta, alpha, gamma):\n",
    "    MSE = 1/(2 * n_samples) * np.linalg.norm(y - X @ beta)**2\n",
    "    penalty = np.sum([alpha * np.abs(xi) if np.abs(xi) <= alpha\n",
    "                      else (2 * gamma * alpha * np.abs(xi) - xi**2 - alpha**2)/(2 * (gamma - 1)) \n",
    "                      if np.abs(xi) > alpha and np.abs(xi) < alpha * gamma\n",
    "                      else alpha**2 * (gamma + 1)/2 for xi in beta])\n",
    "    \n",
    "    return MSE + penalty\n",
    "    "
   ]
  },
  {
   "cell_type": "code",
   "execution_count": 69,
   "metadata": {},
   "outputs": [],
   "source": [
    "def MCP_loss(X, y, beta, alpha, gamma): \n",
    "    \n",
    "    MSE = 1/(2 * n_samples) * np.linalg.norm(y - X @ beta)**2\n",
    "    penalty = np.sum([alpha * np.abs(xi) - xi**2/(2 * gamma) if np.abs(xi) <= gamma * alpha\n",
    "                      else 1/2 * gamma * alpha**2 for xi in beta])\n",
    "    return MSE + penalty"
   ]
  },
  {
   "cell_type": "code",
   "execution_count": 64,
   "metadata": {},
   "outputs": [
    {
     "data": {
      "text/plain": [
       "70964.58975323693"
      ]
     },
     "execution_count": 64,
     "metadata": {},
     "output_type": "execute_result"
    }
   ],
   "source": [
    "SCAD_loss(X, y, solver.result['beta'][0, :], 1, 3)"
   ]
  },
  {
   "cell_type": "code",
   "execution_count": 68,
   "metadata": {},
   "outputs": [
    {
     "data": {
      "text/plain": [
       "70966.64522035174"
      ]
     },
     "execution_count": 68,
     "metadata": {},
     "output_type": "execute_result"
    }
   ],
   "source": [
    "SCAD_loss(X, y, beta[1], 1, 3)"
   ]
  },
  {
   "cell_type": "code",
   "execution_count": null,
   "metadata": {},
   "outputs": [],
   "source": [
    "# A few questions: \n",
    "# 1) Verify superiority of Pycasso to LLA using (1) 0 initialization across a few different designs\n",
    "#                                               (2) Lasso initialization\n",
    "#                                               (3) SCAD/MCP initialization"
   ]
  },
  {
   "cell_type": "code",
   "execution_count": null,
   "metadata": {},
   "outputs": [],
   "source": [
    "# Next up: Debug empirical bayes and the use of aBIC across UoI with the stability selection knob turned down"
   ]
  },
  {
   "cell_type": "code",
   "execution_count": 71,
   "metadata": {},
   "outputs": [],
   "source": [
    "# Choose a block diagonal, exponential, uncorrelated design matrix, as well as equal and uniformly distributed\n",
    "# coefficients. Then, do 5 repetitions. Record the selection accuracy, SCAD/MCP loss for all\n",
    "n_features = 200\n",
    "n_samples = 800\n",
    "\n",
    "cov_params = [{'correlation' : 0.25, 'block_size' : 25, 'L' : 1, 't' : 0},\n",
    "              {'correlation' : 0, 'block_size' : 200, 'L' : 1, 't' : 0},\n",
    "              {'correlation' : 0.25, 'block_size' : 200, 'L' : 10, 't' : 1}]\n",
    "\n",
    "sparsity = 0.25\n",
    "betawidth = [0.1, np.inf]\n",
    "kappa = [1, 2, 5]\n",
    "reps = 5\n",
    "\n",
    "# 3 different initializations\n",
    "LLA_SCAD_loss = np.zeros((len(cov_params), len(betawidth), len(kappa), reps, 2))\n",
    "LLA_MCP_loss = np.zeros((len(cov_params), len(betawidth), len(kappa), reps, 2))\n",
    "pyc_SCAD_loss = np.zeros((len(cov_params), len(betawidth), len(kappa), reps))\n",
    "pyc_MCP_loss = np.zeros((len(cov_params), len(betawidth), len(kappa), reps))\n",
    "\n",
    "LLA_SCAD_sa = np.zeros((len(cov_params), len(betawidth), len(kappa), reps, 2))\n",
    "LLA_MCP_sa = np.zeros((len(cov_params), len(betawidth), len(kappa), reps, 2))\n",
    "pyc_SCAD_sa = np.zeros((len(cov_params), len(betawidth), len(kappa), reps))\n",
    "pyc_MCP_sa = np.zeros((len(cov_params), len(betawidth), len(kappa), reps))\n",
    "\n",
    "for i1, cov_param in enumerate(cov_params):\n",
    "    for i2, bw in enumerate(betawidth): \n",
    "        for i3, k in enumerate(kappa):\n",
    "            for rep in range(reps): \n",
    "                \n",
    "                # Generate data\n",
    "                sigma = gen_covariance(n_features, **cov_param)\n",
    "                beta = gen_beta2(n_features, cov_param['block_size'], sparsity = sparsity,\n",
    "                                 betawidth = bw)\n",
    "                X, X_test, y, y_test, ss = gen_data(n_samples, n_features, kappa = k, \n",
    "                                                    covariance = sigma, beta = beta)\n",
    "                X = StandardScaler().fit_transform(X)\n",
    "                y -= np.mean(y)\n",
    "                \n",
    "                ## SCAD ##\n",
    "                solver = pycasso.Solver(X, y, family='gaussian', useintercept=False, gamma=3,\n",
    "                                        penalty = 'scad', lambdas = (1, 0.5, 0.25))\n",
    "\n",
    "                pyc_coefs = solver.result['beta'][0, :]\n",
    "\n",
    "                pyc_SCAD_loss[i1, i2, i3, rep] = SCAD_loss(X, y.ravel(), pyc_coefs.ravel(), 1, 3)\n",
    "                pyc_SCAD_sa[i1, i2, i3, rep] = selection_accuracy(beta.ravel(), pyc_coefs.ravel())\n",
    "\n",
    "                # Zero initialization\n",
    "                lla_coefs = LLA(np.zeros(n_features), X, y.ravel(), dSCAD, (3, 1))[0]\n",
    "                \n",
    "                LLA_SCAD_loss[i1, i2, i3, rep, 0] = SCAD_loss(X, y.ravel(), lla_coefs.ravel(), 1, 3)\n",
    "                LLA_SCAD_sa[i1, i2, i3, rep, 0] = selection_accuracy(beta.ravel(), lla_coefs.ravel())\n",
    "                \n",
    "                # SCAD initialization\n",
    "                lla_coefs = LLA(pyc_coefs.ravel(), X, y.ravel(), dSCAD, (3, 1))[0]\n",
    "                LLA_SCAD_loss[i1, i2, i3, rep, 1] = SCAD_loss(X, y.ravel(), lla_coefs.ravel(), 1, 3)\n",
    "                LLA_SCAD_sa[i1, i2, i3, rep, 1] = selection_accuracy(beta.ravel(), lla_coefs.ravel())\n",
    "                \n",
    "                \n",
    "                ## MCP ## \n",
    "                solver = pycasso.Solver(X, y, family='gaussian', useintercept=False, gamma=3,\n",
    "                                        penalty = 'mcp', lambdas = (1, 0.5, 0.25))\n",
    "                \n",
    "                pyc_coefs = solver.result['beta'][0, :]\n",
    "                \n",
    "                pyc_MCP_loss[i1, i2, i3, rep] = MCP_loss(X, y.ravel(), pyc_coefs.ravel(), 1, 3)\n",
    "                pyc_MCP_sa[i1, i2, i3, rep] = selection_accuracy(beta.ravel(), pyc_coefs.ravel())\n",
    "\n",
    "                \n",
    "                # Zero initialization\n",
    "                lla_coefs = LLA(np.zeros(n_features), X, y.ravel(), dMCP, (3, 1))[0]\n",
    "                \n",
    "                LLA_MCP_loss[i1, i2, i3, rep, 0] = MCP_loss(X, y.ravel(), lla_coefs.ravel(), 1, 3)\n",
    "                LLA_MCP_sa[i1, i2, i3, rep, 0] = selection_accuracy(beta.ravel(), lla_coefs.ravel())\n",
    "                \n",
    "                # SCAD initialization\n",
    "                lla_coefs = LLA(pyc_coefs.ravel(), X, y.ravel(), dMCP, (3, 1))[0]\n",
    "                LLA_MCP_loss[i1, i2, i3, rep, 1] = MCP_loss(X, y.ravel(), lla_coefs.ravel(), 1, 3)\n",
    "                LLA_MCP_sa[i1, i2, i3, rep, 1] = selection_accuracy(beta.ravel(), lla_coefs.ravel())\n",
    "                \n",
    "                "
   ]
  },
  {
   "cell_type": "code",
   "execution_count": 73,
   "metadata": {},
   "outputs": [
    {
     "data": {
      "text/plain": [
       "(array([0, 0, 0, 0, 0, 0, 0, 0, 0, 0, 0, 0, 0, 0, 0, 0, 0, 0, 0, 0, 0, 0,\n",
       "        0, 0, 0, 0, 0, 0, 0, 0, 1, 1, 1, 1, 1, 1, 1, 1, 1, 1, 1, 1, 1, 1,\n",
       "        1, 1, 1, 1, 1, 1, 1, 1, 1, 1, 1, 1, 1, 1, 1, 1, 2, 2, 2, 2, 2, 2,\n",
       "        2, 2, 2, 2, 2, 2, 2, 2, 2, 2, 2, 2, 2, 2, 2, 2, 2, 2, 2, 2, 2, 2,\n",
       "        2, 2]),\n",
       " array([0, 0, 0, 0, 0, 0, 0, 0, 0, 0, 0, 0, 0, 0, 0, 1, 1, 1, 1, 1, 1, 1,\n",
       "        1, 1, 1, 1, 1, 1, 1, 1, 0, 0, 0, 0, 0, 0, 0, 0, 0, 0, 0, 0, 0, 0,\n",
       "        0, 1, 1, 1, 1, 1, 1, 1, 1, 1, 1, 1, 1, 1, 1, 1, 0, 0, 0, 0, 0, 0,\n",
       "        0, 0, 0, 0, 0, 0, 0, 0, 0, 1, 1, 1, 1, 1, 1, 1, 1, 1, 1, 1, 1, 1,\n",
       "        1, 1]),\n",
       " array([0, 0, 0, 0, 0, 1, 1, 1, 1, 1, 2, 2, 2, 2, 2, 0, 0, 0, 0, 0, 1, 1,\n",
       "        1, 1, 1, 2, 2, 2, 2, 2, 0, 0, 0, 0, 0, 1, 1, 1, 1, 1, 2, 2, 2, 2,\n",
       "        2, 0, 0, 0, 0, 0, 1, 1, 1, 1, 1, 2, 2, 2, 2, 2, 0, 0, 0, 0, 0, 1,\n",
       "        1, 1, 1, 1, 2, 2, 2, 2, 2, 0, 0, 0, 0, 0, 1, 1, 1, 1, 1, 2, 2, 2,\n",
       "        2, 2]),\n",
       " array([0, 1, 2, 3, 4, 0, 1, 2, 3, 4, 0, 1, 2, 3, 4, 0, 1, 2, 3, 4, 0, 1,\n",
       "        2, 3, 4, 0, 1, 2, 3, 4, 0, 1, 2, 3, 4, 0, 1, 2, 3, 4, 0, 1, 2, 3,\n",
       "        4, 0, 1, 2, 3, 4, 0, 1, 2, 3, 4, 0, 1, 2, 3, 4, 0, 1, 2, 3, 4, 0,\n",
       "        1, 2, 3, 4, 0, 1, 2, 3, 4, 0, 1, 2, 3, 4, 0, 1, 2, 3, 4, 0, 1, 2,\n",
       "        3, 4]))"
      ]
     },
     "execution_count": 73,
     "metadata": {},
     "output_type": "execute_result"
    }
   ],
   "source": [
    "# Achieved loss, 0 initialization\n",
    "np.where(LLA_MCP_loss[..., 0] < pyc_MCP_loss)"
   ]
  },
  {
   "cell_type": "code",
   "execution_count": 79,
   "metadata": {},
   "outputs": [
    {
     "data": {
      "text/plain": [
       "array([[[[ True,  True,  True,  True,  True],\n",
       "         [ True,  True,  True,  True,  True],\n",
       "         [ True,  True,  True,  True,  True]],\n",
       "\n",
       "        [[ True,  True,  True,  True,  True],\n",
       "         [ True,  True,  True,  True,  True],\n",
       "         [ True,  True,  True,  True,  True]]],\n",
       "\n",
       "\n",
       "       [[[ True,  True,  True,  True,  True],\n",
       "         [ True,  True,  True,  True,  True],\n",
       "         [ True,  True,  True,  True,  True]],\n",
       "\n",
       "        [[ True,  True,  True,  True,  True],\n",
       "         [ True,  True,  True,  True,  True],\n",
       "         [ True,  True,  True,  True,  True]]],\n",
       "\n",
       "\n",
       "       [[[ True,  True,  True,  True,  True],\n",
       "         [ True,  True,  True,  True,  True],\n",
       "         [ True,  True,  True,  True,  True]],\n",
       "\n",
       "        [[ True,  True,  True,  True,  True],\n",
       "         [ True,  True,  True,  True,  True],\n",
       "         [ True,  True,  True,  True,  True]]]])"
      ]
     },
     "execution_count": 79,
     "metadata": {},
     "output_type": "execute_result"
    }
   ],
   "source": [
    "LLA_SCAD_loss[..., 0] < pyc_SCAD_loss"
   ]
  },
  {
   "cell_type": "code",
   "execution_count": 80,
   "metadata": {},
   "outputs": [
    {
     "data": {
      "text/plain": [
       "array([[[[ True,  True,  True,  True,  True],\n",
       "         [ True,  True,  True,  True,  True],\n",
       "         [ True,  True,  True,  True,  True]],\n",
       "\n",
       "        [[ True,  True,  True,  True,  True],\n",
       "         [ True,  True,  True,  True,  True],\n",
       "         [ True,  True,  True,  True,  True]]],\n",
       "\n",
       "\n",
       "       [[[ True,  True,  True,  True,  True],\n",
       "         [ True,  True,  True,  True,  True],\n",
       "         [ True,  True,  True,  True,  True]],\n",
       "\n",
       "        [[ True,  True,  True,  True,  True],\n",
       "         [ True,  True,  True,  True,  True],\n",
       "         [ True,  True,  True,  True,  True]]],\n",
       "\n",
       "\n",
       "       [[[ True,  True,  True,  True,  True],\n",
       "         [ True,  True,  True,  True,  True],\n",
       "         [ True,  True,  True,  True,  True]],\n",
       "\n",
       "        [[ True,  True,  True,  True,  True],\n",
       "         [ True,  True,  True,  True,  True],\n",
       "         [ True,  True,  True,  True,  True]]]])"
      ]
     },
     "execution_count": 80,
     "metadata": {},
     "output_type": "execute_result"
    }
   ],
   "source": [
    "LLA_SCAD_sa[..., 0] > pyc_SCAD_sa"
   ]
  }
 ],
 "metadata": {
  "kernelspec": {
   "display_name": "Python 3",
   "language": "python",
   "name": "python3"
  },
  "language_info": {
   "codemirror_mode": {
    "name": "ipython",
    "version": 3
   },
   "file_extension": ".py",
   "mimetype": "text/x-python",
   "name": "python",
   "nbconvert_exporter": "python",
   "pygments_lexer": "ipython3",
   "version": "3.6.7"
  }
 },
 "nbformat": 4,
 "nbformat_minor": 2
}
