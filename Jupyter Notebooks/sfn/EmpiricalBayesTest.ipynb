{
 "cells": [
  {
   "cell_type": "code",
   "execution_count": 1,
   "metadata": {},
   "outputs": [],
   "source": [
    "%load_ext autoreload\n",
    "%autoreload 2"
   ]
  },
  {
   "cell_type": "code",
   "execution_count": 2,
   "metadata": {},
   "outputs": [],
   "source": [
    "# %load ../../loaders/imports.py\n",
    "import sys, os\n",
    "import numpy as np\n",
    "import matplotlib.pyplot as plt\n",
    "import time\n",
    "import pdb\n",
    "\n",
    "# Add the uoicorr directory to the path\n",
    "sys.path.append('../../../uoicorr_run')\n",
    "\n",
    "# Add the root directory of this repository\n",
    "sys.path.append('../..')\n",
    "\n",
    "from utils import gen_covariance, gen_beta2, gen_data, get_cov_list\n",
    "from utils import selection_accuracy\n",
    "from sklearn.linear_model import LassoLars, lasso_path, LinearRegression, LassoCV\n",
    "\n",
    "from pyuoi.linear_model import UoI_Lasso\n",
    "from pyc_based.lm import PycassoLasso"
   ]
  },
  {
   "cell_type": "code",
   "execution_count": 3,
   "metadata": {},
   "outputs": [],
   "source": [
    "from sklearn.preprocessing import StandardScaler"
   ]
  },
  {
   "cell_type": "code",
   "execution_count": 4,
   "metadata": {},
   "outputs": [],
   "source": [
    "# %load ../../loaders/datgen.py\n",
    "n_features = 50\n",
    "n_samples = 150\n",
    "\n",
    "sigma = gen_covariance(n_features, 0, n_features, 1, 0)\n",
    "beta = gen_beta2(n_features, n_features, sparsity = 0.2, betawidth = np.inf)\n",
    "X, X_test, y, y_test, ss = gen_data(n_samples, n_features, kappa = 100, \n",
    "\t\t\t\t\t\t\t\t\tcovariance = sigma, beta = beta)\n",
    "X = StandardScaler().fit_transform(X)\n",
    "y -= np.mean(y)"
   ]
  },
  {
   "cell_type": "code",
   "execution_count": 5,
   "metadata": {},
   "outputs": [],
   "source": [
    "from sklearn.linear_model.coordinate_descent import _alpha_grid"
   ]
  },
  {
   "cell_type": "code",
   "execution_count": 6,
   "metadata": {},
   "outputs": [],
   "source": [
    "lasso = PycassoLasso(fit_intercept=False, alphas = _alpha_grid(X, y))"
   ]
  },
  {
   "cell_type": "code",
   "execution_count": 7,
   "metadata": {},
   "outputs": [],
   "source": [
    "lasso.fit(X, y)"
   ]
  },
  {
   "cell_type": "code",
   "execution_count": 8,
   "metadata": {},
   "outputs": [],
   "source": [
    "from info_criteria import GIC, empirical_bayes"
   ]
  },
  {
   "cell_type": "code",
   "execution_count": 9,
   "metadata": {},
   "outputs": [],
   "source": [
    "y_pred = lasso.coef_ @ X.T"
   ]
  },
  {
   "cell_type": "code",
   "execution_count": 10,
   "metadata": {},
   "outputs": [],
   "source": [
    "# BIC scores\n",
    "BIC_scores = np.array([GIC(y.ravel(), y_pred[i, :], np.count_nonzero(lasso.coef_[i, :]), np.log(n_samples))\n",
    "                       for i in range(100)])"
   ]
  },
  {
   "cell_type": "code",
   "execution_count": 11,
   "metadata": {},
   "outputs": [],
   "source": [
    "bfull = LinearRegression().fit(X, y).coef_.ravel()\n",
    "ssq_hat = (y.T @ y - bfull.T @ X.T @ X @ bfull)/(X.shape[0] - X.shape[1])"
   ]
  },
  {
   "cell_type": "code",
   "execution_count": 14,
   "metadata": {},
   "outputs": [],
   "source": [
    "EB_scores = np.array([empirical_bayes(X, y, y_pred[i, :], ssq_hat, lasso.coef_[i, :]) for i in range(100)])"
   ]
  },
  {
   "cell_type": "code",
   "execution_count": 16,
   "metadata": {},
   "outputs": [
    {
     "data": {
      "text/plain": [
       "(100, 3)"
      ]
     },
     "execution_count": 16,
     "metadata": {},
     "output_type": "execute_result"
    }
   ],
   "source": [
    "EB_scores.shape"
   ]
  },
  {
   "cell_type": "code",
   "execution_count": 18,
   "metadata": {},
   "outputs": [
    {
     "data": {
      "text/plain": [
       "0"
      ]
     },
     "execution_count": 18,
     "metadata": {},
     "output_type": "execute_result"
    }
   ],
   "source": [
    "np.argmin(EB_scores[:, 0])"
   ]
  },
  {
   "cell_type": "code",
   "execution_count": 27,
   "metadata": {},
   "outputs": [
    {
     "data": {
      "text/plain": [
       "array([8.31701376, 7.75647487, 7.23371442, 6.74618628, 6.2915159 ,\n",
       "       5.86748879, 5.47203968, 5.10324252, 4.75930105, 4.43854009,\n",
       "       4.13939735, 3.86041582, 3.60023671, 3.35759281, 3.13130229,\n",
       "       2.920263  , 2.72344704, 2.53989583, 2.36871535, 2.20907186,\n",
       "       2.06018781, 1.92133805, 1.7918463 , 1.67108185, 1.55845653,\n",
       "       1.45342177, 1.35546601, 1.26411214, 1.17891521, 1.09946027,\n",
       "       1.02536033, 0.95625447, 0.89180612, 0.83170138, 0.77564749,\n",
       "       0.72337144, 0.67461863, 0.62915159, 0.58674888, 0.54720397,\n",
       "       0.51032425, 0.47593011, 0.44385401, 0.41393973, 0.38604158,\n",
       "       0.36002367, 0.33575928, 0.31313023, 0.2920263 , 0.2723447 ,\n",
       "       0.25398958, 0.23687153, 0.22090719, 0.20601878, 0.1921338 ,\n",
       "       0.17918463, 0.16710819, 0.15584565, 0.14534218, 0.1355466 ,\n",
       "       0.12641121, 0.11789152, 0.10994603, 0.10253603, 0.09562545,\n",
       "       0.08918061, 0.08317014, 0.07756475, 0.07233714, 0.06746186,\n",
       "       0.06291516, 0.05867489, 0.0547204 , 0.05103243, 0.04759301,\n",
       "       0.0443854 , 0.04139397, 0.03860416, 0.03600237, 0.03357593,\n",
       "       0.03131302, 0.02920263, 0.02723447, 0.02539896, 0.02368715,\n",
       "       0.02209072, 0.02060188, 0.01921338, 0.01791846, 0.01671082,\n",
       "       0.01558457, 0.01453422, 0.01355466, 0.01264112, 0.01178915,\n",
       "       0.0109946 , 0.0102536 , 0.00956254, 0.00891806, 0.00831701])"
      ]
     },
     "execution_count": 27,
     "metadata": {},
     "output_type": "execute_result"
    }
   ],
   "source": [
    "_alpha_grid(X, y)"
   ]
  },
  {
   "cell_type": "code",
   "execution_count": 32,
   "metadata": {},
   "outputs": [
    {
     "data": {
      "text/plain": [
       "10"
      ]
     },
     "execution_count": 32,
     "metadata": {},
     "output_type": "execute_result"
    }
   ],
   "source": [
    "np.count_nonzero(lasso.coef_, axis = 1)[52]"
   ]
  },
  {
   "cell_type": "code",
   "execution_count": 21,
   "metadata": {},
   "outputs": [
    {
     "data": {
      "text/plain": [
       "1"
      ]
     },
     "execution_count": 21,
     "metadata": {},
     "output_type": "execute_result"
    }
   ],
   "source": [
    "np.argmax(BIC_scores)"
   ]
  },
  {
   "cell_type": "code",
   "execution_count": 30,
   "metadata": {},
   "outputs": [
    {
     "data": {
      "text/plain": [
       "(100, 3)"
      ]
     },
     "execution_count": 30,
     "metadata": {},
     "output_type": "execute_result"
    }
   ],
   "source": [
    "EB_scores.shape"
   ]
  },
  {
   "cell_type": "code",
   "execution_count": 31,
   "metadata": {},
   "outputs": [
    {
     "data": {
      "text/plain": [
       "52"
      ]
     },
     "execution_count": 31,
     "metadata": {},
     "output_type": "execute_result"
    }
   ],
   "source": [
    "np.argmin(EB_scores[1:, 0])"
   ]
  },
  {
   "cell_type": "code",
   "execution_count": null,
   "metadata": {},
   "outputs": [],
   "source": []
  }
 ],
 "metadata": {
  "kernelspec": {
   "display_name": "Python 3",
   "language": "python",
   "name": "python3"
  },
  "language_info": {
   "codemirror_mode": {
    "name": "ipython",
    "version": 3
   },
   "file_extension": ".py",
   "mimetype": "text/x-python",
   "name": "python",
   "nbconvert_exporter": "python",
   "pygments_lexer": "ipython3",
   "version": "3.6.7"
  }
 },
 "nbformat": 4,
 "nbformat_minor": 2
}
