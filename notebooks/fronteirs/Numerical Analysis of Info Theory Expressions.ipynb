{
 "cells": [
  {
   "cell_type": "code",
   "execution_count": 1,
   "metadata": {},
   "outputs": [],
   "source": [
    "import os\n",
    "import sys\n",
    "import numpy as np \n",
    "import scipy \n",
    "import pdb\n",
    "import matplotlib.pyplot as plt"
   ]
  },
  {
   "cell_type": "code",
   "execution_count": 2,
   "metadata": {},
   "outputs": [],
   "source": [
    "sys.path.append('/home/akumar/nse/uoicorr')"
   ]
  },
  {
   "cell_type": "code",
   "execution_count": 3,
   "metadata": {},
   "outputs": [],
   "source": [
    "from utils import gen_covariance "
   ]
  },
  {
   "cell_type": "code",
   "execution_count": 4,
   "metadata": {},
   "outputs": [],
   "source": [
    "# First thing to understand: Does the final result, in the form of A.S, actually perform better when \n",
    "# correlations are present?"
   ]
  },
  {
   "cell_type": "code",
   "execution_count": 5,
   "metadata": {},
   "outputs": [],
   "source": [
    "def error_bound(X, Sigma, subset, delta, sigma_beta_sq, sigma_sq):\n",
    "    \n",
    "    normalization = 1/np.power(2 * np.pi * np.linalg.det(Sigma), (1 + delta)/2)\n",
    "    \n",
    "    gaussian_weight = normalization * np.exp(-1/2 * X.T @ np.lianlg.inv(Sigma) @ X * 1/(1 + delta))\n",
    "    error_expression = (1 + sigma_beta_sq * X[subset].T @ X[subset]/((1 + delta) * sigma_sq))**(-delta/2)\n",
    "    \n",
    "    return error_expression * gaussian_weight"
   ]
  },
  {
   "cell_type": "code",
   "execution_count": 6,
   "metadata": {},
   "outputs": [],
   "source": [
    "def error_expression(X, subset, delta, sigma_beta_sq, sigma_sq):\n",
    "    error_expression = (1 + sigma_beta_sq * X[subset].T @ X[subset]/((1 + delta) * sigma_sq))**(-delta/2)\n",
    "    return error_expression"
   ]
  },
  {
   "cell_type": "code",
   "execution_count": 10,
   "metadata": {},
   "outputs": [
    {
     "name": "stdout",
     "output_type": "stream",
     "text": [
      "L: 0.010000\n",
      "L: 0.500000\n",
      "L: 1.000000\n",
      "L: 2.000000\n",
      "L: 3.000000\n",
      "L: 4.000000\n",
      "L: 5.000000\n",
      "L: 10.000000\n",
      "L: 20.000000\n",
      "L: 50.000000\n"
     ]
    }
   ],
   "source": [
    "# Numerically integrate the error expression\n",
    "delta = 0.5\n",
    "\n",
    "# In the first case, keep things I.I.D\n",
    "n_features = 100\n",
    "nsamples = int(1e6)\n",
    "sparsity = 0.25\n",
    "# Choose a fixed support subset \n",
    "support = np.arange(n_features)[:int(n_features * sparsity)]\n",
    "\n",
    "# Modulate exponential falloff length and observe the resulting value of the integral\n",
    "L = [0.01, 0.5, 1, 2, 3, 4, 5, 10, 20, 50]\n",
    "I = np.zeros(len(L))\n",
    "int_error = np.zeros(len(L))\n",
    "for i, ll in enumerate(L):\n",
    "    print('L: %f' % ll)\n",
    "    Sigma = gen_covariance(n_features, 0, n_features, ll, 1) * (1 + delta)    \n",
    "    \n",
    "    # Draw sample:\n",
    "    X = np.random.multivariate_normal(mean=np.zeros(n_features), cov=Sigma, size=nsamples)\n",
    "    # Calculate error expression\n",
    "    I[i] = 1/nsamples * np.sum([error_expression(X[i, :], support, 0.5, 1, 1) for i in range(nsamples)])\n",
    "\n",
    "    # Determine the error bound\n",
    "    I2 = 1/nsamples * np.sum([error_expression(X[i, :]**2, support, 0.5, 1, 1) for i in range(nsamples)])\n",
    "    int_error[i] = (I2 - I[i]**2)/np.sqrt(nsamples)\n",
    "    "
   ]
  },
  {
   "cell_type": "code",
   "execution_count": 11,
   "metadata": {},
   "outputs": [
    {
     "data": {
      "text/plain": [
       "[<matplotlib.lines.Line2D at 0x7effefc0a240>]"
      ]
     },
     "execution_count": 11,
     "metadata": {},
     "output_type": "execute_result"
    },
    {
     "data": {
      "image/png": "[encoded data removed]",
      "text/plain": [
       "<Figure size 432x288 with 1 Axes>"
      ]
     },
     "metadata": {
      "needs_background": "light"
     },
     "output_type": "display_data"
    }
   ],
   "source": [
    "plt.plot(L, I)"
   ]
  },
  {
   "cell_type": "code",
   "execution_count": 12,
   "metadata": {},
   "outputs": [
    {
     "data": {
      "text/plain": [
       "[<matplotlib.lines.Line2D at 0x7effefb6c908>]"
      ]
     },
     "execution_count": 12,
     "metadata": {},
     "output_type": "execute_result"
    },
    {
     "data": {
      "image/png": "[encoded data removed]",
      "text/plain": [
       "<Figure size 432x288 with 1 Axes>"
      ]
     },
     "metadata": {
      "needs_background": "light"
     },
     "output_type": "display_data"
    }
   ],
   "source": [
    "plt.plot(L, int_error)"
   ]
  },
  {
   "cell_type": "code",
   "execution_count": 15,
   "metadata": {},
   "outputs": [],
   "source": [
    "def error_expression2(X, subset, delta, sigma_beta_sq, sigma_sq):\n",
    "    error_expression = (1 + sigma_beta_sq * X[subset].T @ X[subset]/((1 + delta) * sigma_sq))\n",
    "    return error_expression"
   ]
  },
  {
   "cell_type": "code",
   "execution_count": 16,
   "metadata": {},
   "outputs": [
    {
     "name": "stdout",
     "output_type": "stream",
     "text": [
      "L: 0.010000\n",
      "L: 0.500000\n",
      "L: 1.000000\n",
      "L: 2.000000\n",
      "L: 3.000000\n",
      "L: 4.000000\n",
      "L: 5.000000\n",
      "L: 10.000000\n",
      "L: 20.000000\n",
      "L: 50.000000\n"
     ]
    }
   ],
   "source": [
    "# What happens when we do the same thing with the upper bound?\n",
    "# Numerically integrate the error expression\n",
    "# In the first case, keep things I.I.D\n",
    "n_features = 100\n",
    "nsamples = int(1e6)\n",
    "sparsity = 0.25\n",
    "# Choose a fixed support subset \n",
    "support = np.arange(n_features)[:int(n_features * sparsity)]\n",
    "\n",
    "# Modulate exponential falloff length and observe the resulting value of the integral\n",
    "L = [0.01, 0.5, 1, 2, 3, 4, 5, 10, 20, 50]\n",
    "I_ = np.zeros(len(L))\n",
    "int_error = np.zeros(len(L))\n",
    "for i, ll in enumerate(L):\n",
    "    print('L: %f' % ll)\n",
    "    Sigma = gen_covariance(n_features, 0, n_features, ll, 1)    \n",
    "    \n",
    "    # Draw sample:\n",
    "    X = np.random.multivariate_normal(mean=np.zeros(n_features), cov=Sigma, size=nsamples)\n",
    "    # Calculate error expression\n",
    "    I_[i] = 1/nsamples * np.sum([error_expression2(X[i, :], support, 0.5, 1, 1) for i in range(nsamples)])**(-1/2)    "
   ]
  },
  {
   "cell_type": "code",
   "execution_count": null,
   "metadata": {},
   "outputs": [],
   "source": [
    "# Compare to the analytic expression"
   ]
  }
 ],
 "metadata": {
  "kernelspec": {
   "display_name": "Python 3",
   "language": "python",
   "name": "python3"
  },
  "language_info": {
   "codemirror_mode": {
    "name": "ipython",
    "version": 3
   },
   "file_extension": ".py",
   "mimetype": "text/x-python",
   "name": "python",
   "nbconvert_exporter": "python",
   "pygments_lexer": "ipython3",
   "version": "3.7.3"
  }
 },
 "nbformat": 4,
 "nbformat_minor": 2
}
