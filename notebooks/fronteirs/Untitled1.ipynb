{
 "cells": [
  {
   "cell_type": "code",
   "execution_count": 1,
   "metadata": {},
   "outputs": [],
   "source": [
    "# %load ../../loaders/imports.py\n",
    "import sys, os\n",
    "import numpy as np\n",
    "import matplotlib.pyplot as plt\n",
    "import time\n",
    "import pdb\n",
    "\n",
    "# Add the uoicorr directory to the path\n",
    "sys.path.append('../../../uoicorr')\n",
    "\n",
    "# Add the root directory of this repository\n",
    "sys.path.append('../..')\n",
    "\n",
    "from utils import gen_covariance, gen_beta2, gen_data, get_cov_list\n",
    "from utils import selection_accuracy\n",
    "from sklearn.linear_model import LassoLars, lasso_path, LinearRegression\n",
    "\n",
    "from pyuoi.linear_model import UoI_Lasso"
   ]
  },
  {
   "cell_type": "code",
   "execution_count": 17,
   "metadata": {},
   "outputs": [],
   "source": [
    "sigma = gen_covariance(100, 0.25, 10, 5, 1)"
   ]
  },
  {
   "cell_type": "code",
   "execution_count": 19,
   "metadata": {},
   "outputs": [
    {
     "data": {
      "text/plain": [
       "array([[1.00000000e+00, 8.18730753e-01, 6.70320046e-01, ...,\n",
       "        3.75566677e-09, 3.07487988e-09, 2.51749872e-09],\n",
       "       [8.18730753e-01, 1.00000000e+00, 8.18730753e-01, ...,\n",
       "        4.58718175e-09, 3.75566677e-09, 3.07487988e-09],\n",
       "       [6.70320046e-01, 8.18730753e-01, 1.00000000e+00, ...,\n",
       "        5.60279644e-09, 4.58718175e-09, 3.75566677e-09],\n",
       "       ...,\n",
       "       [3.75566677e-09, 4.58718175e-09, 5.60279644e-09, ...,\n",
       "        1.00000000e+00, 8.18730753e-01, 6.70320046e-01],\n",
       "       [3.07487988e-09, 3.75566677e-09, 4.58718175e-09, ...,\n",
       "        8.18730753e-01, 1.00000000e+00, 8.18730753e-01],\n",
       "       [2.51749872e-09, 3.07487988e-09, 3.75566677e-09, ...,\n",
       "        6.70320046e-01, 8.18730753e-01, 1.00000000e+00]])"
      ]
     },
     "execution_count": 19,
     "metadata": {},
     "output_type": "execute_result"
    }
   ],
   "source": [
    "sigma"
   ]
  },
  {
   "cell_type": "code",
   "execution_count": 23,
   "metadata": {},
   "outputs": [],
   "source": [
    "lam = np.linalg.eig(sigma)[0]"
   ]
  },
  {
   "cell_type": "code",
   "execution_count": 26,
   "metadata": {},
   "outputs": [],
   "source": [
    "G = np.linalg.eig(sigma)[1] @ np.diag(np.sqrt(lam - np.min(lam)))"
   ]
  },
  {
   "cell_type": "code",
   "execution_count": 27,
   "metadata": {},
   "outputs": [
    {
     "data": {
      "text/plain": [
       "array([[1.00000000e+00, 8.18730753e-01, 6.70320046e-01, ...,\n",
       "        3.75566733e-09, 3.07488063e-09, 2.51749993e-09],\n",
       "       [8.18730753e-01, 1.00000000e+00, 8.18730753e-01, ...,\n",
       "        4.58718158e-09, 3.75566628e-09, 3.07488013e-09],\n",
       "       [6.70320046e-01, 8.18730753e-01, 1.00000000e+00, ...,\n",
       "        5.60279445e-09, 4.58717969e-09, 3.75566528e-09],\n",
       "       ...,\n",
       "       [3.75566733e-09, 4.58718158e-09, 5.60279445e-09, ...,\n",
       "        1.00000000e+00, 8.18730753e-01, 6.70320046e-01],\n",
       "       [3.07488063e-09, 3.75566628e-09, 4.58717969e-09, ...,\n",
       "        8.18730753e-01, 1.00000000e+00, 8.18730753e-01],\n",
       "       [2.51749993e-09, 3.07488013e-09, 3.75566528e-09, ...,\n",
       "        6.70320046e-01, 8.18730753e-01, 1.00000000e+00]])"
      ]
     },
     "execution_count": 27,
     "metadata": {},
     "output_type": "execute_result"
    }
   ],
   "source": []
  },
  {
   "cell_type": "code",
   "execution_count": 28,
   "metadata": {},
   "outputs": [
    {
     "data": {
      "text/plain": [
       "True"
      ]
     },
     "execution_count": 28,
     "metadata": {},
     "output_type": "execute_result"
    }
   ],
   "source": [
    "np.allclose(G @ G.T + np.min(lam) * np.eye(100), sigma)"
   ]
  },
  {
   "cell_type": "code",
   "execution_count": 9,
   "metadata": {},
   "outputs": [],
   "source": [
    "sigma = 0.25 * np.ones((10, 10))"
   ]
  },
  {
   "cell_type": "code",
   "execution_count": 12,
   "metadata": {},
   "outputs": [
    {
     "data": {
      "text/plain": [
       "array([0. , 2.5, 0. , 0. , 0. , 0. , 0. , 0. , 0. , 0. ])"
      ]
     },
     "execution_count": 12,
     "metadata": {},
     "output_type": "execute_result"
    }
   ],
   "source": [
    "np.linalg.eig(sigma)[0]"
   ]
  },
  {
   "cell_type": "code",
   "execution_count": 13,
   "metadata": {},
   "outputs": [
    {
     "data": {
      "text/plain": [
       "array([[-9.48683298e-01,  3.16227766e-01, -5.55111512e-18,\n",
       "        -5.55111512e-18, -5.55111512e-18, -5.55111512e-18,\n",
       "        -5.55111512e-18, -5.55111512e-18, -5.55111512e-18,\n",
       "        -5.55111512e-18],\n",
       "       [ 1.05409255e-01,  3.16227766e-01, -3.33333333e-01,\n",
       "        -3.33333333e-01, -3.33333333e-01, -3.33333333e-01,\n",
       "        -3.33333333e-01, -3.33333333e-01, -3.33333333e-01,\n",
       "        -3.33333333e-01],\n",
       "       [ 1.05409255e-01,  3.16227766e-01,  9.16666667e-01,\n",
       "        -8.33333333e-02, -8.33333333e-02, -8.33333333e-02,\n",
       "        -8.33333333e-02, -8.33333333e-02, -8.33333333e-02,\n",
       "        -8.33333333e-02],\n",
       "       [ 1.05409255e-01,  3.16227766e-01, -8.33333333e-02,\n",
       "         9.16666667e-01, -8.33333333e-02, -8.33333333e-02,\n",
       "        -8.33333333e-02, -8.33333333e-02, -8.33333333e-02,\n",
       "        -8.33333333e-02],\n",
       "       [ 1.05409255e-01,  3.16227766e-01, -8.33333333e-02,\n",
       "        -8.33333333e-02,  9.16666667e-01, -8.33333333e-02,\n",
       "        -8.33333333e-02, -8.33333333e-02, -8.33333333e-02,\n",
       "        -8.33333333e-02],\n",
       "       [ 1.05409255e-01,  3.16227766e-01, -8.33333333e-02,\n",
       "        -8.33333333e-02, -8.33333333e-02,  9.16666667e-01,\n",
       "        -8.33333333e-02, -8.33333333e-02, -8.33333333e-02,\n",
       "        -8.33333333e-02],\n",
       "       [ 1.05409255e-01,  3.16227766e-01, -8.33333333e-02,\n",
       "        -8.33333333e-02, -8.33333333e-02, -8.33333333e-02,\n",
       "         9.16666667e-01, -8.33333333e-02, -8.33333333e-02,\n",
       "        -8.33333333e-02],\n",
       "       [ 1.05409255e-01,  3.16227766e-01, -8.33333333e-02,\n",
       "        -8.33333333e-02, -8.33333333e-02, -8.33333333e-02,\n",
       "        -8.33333333e-02,  9.16666667e-01, -8.33333333e-02,\n",
       "        -8.33333333e-02],\n",
       "       [ 1.05409255e-01,  3.16227766e-01, -8.33333333e-02,\n",
       "        -8.33333333e-02, -8.33333333e-02, -8.33333333e-02,\n",
       "        -8.33333333e-02, -8.33333333e-02,  9.16666667e-01,\n",
       "        -8.33333333e-02],\n",
       "       [ 1.05409255e-01,  3.16227766e-01, -8.33333333e-02,\n",
       "        -8.33333333e-02, -8.33333333e-02, -8.33333333e-02,\n",
       "        -8.33333333e-02, -8.33333333e-02, -8.33333333e-02,\n",
       "         9.16666667e-01]])"
      ]
     },
     "execution_count": 13,
     "metadata": {},
     "output_type": "execute_result"
    }
   ],
   "source": [
    "np.linalg.eig(sigma)[1]"
   ]
  },
  {
   "cell_type": "code",
   "execution_count": 14,
   "metadata": {},
   "outputs": [
    {
     "name": "stderr",
     "output_type": "stream",
     "text": [
      "/home/akumar/anaconda3/envs/nse/lib/python3.7/site-packages/ipykernel_launcher.py:1: VisibleDeprecationWarning: `rank` is deprecated; use the `ndim` attribute or function instead. To find the rank of a matrix see `numpy.linalg.matrix_rank`.\n",
      "  \"\"\"Entry point for launching an IPython kernel.\n"
     ]
    },
    {
     "data": {
      "text/plain": [
       "2"
      ]
     },
     "execution_count": 14,
     "metadata": {},
     "output_type": "execute_result"
    }
   ],
   "source": [
    "np.rank(sigma)"
   ]
  },
  {
   "cell_type": "code",
   "execution_count": 16,
   "metadata": {},
   "outputs": [
    {
     "data": {
      "text/plain": [
       "array([[0.25, 0.25, 0.25, 0.25, 0.25, 0.25, 0.25, 0.25, 0.25, 0.25],\n",
       "       [0.25, 0.25, 0.25, 0.25, 0.25, 0.25, 0.25, 0.25, 0.25, 0.25],\n",
       "       [0.25, 0.25, 0.25, 0.25, 0.25, 0.25, 0.25, 0.25, 0.25, 0.25],\n",
       "       [0.25, 0.25, 0.25, 0.25, 0.25, 0.25, 0.25, 0.25, 0.25, 0.25],\n",
       "       [0.25, 0.25, 0.25, 0.25, 0.25, 0.25, 0.25, 0.25, 0.25, 0.25],\n",
       "       [0.25, 0.25, 0.25, 0.25, 0.25, 0.25, 0.25, 0.25, 0.25, 0.25],\n",
       "       [0.25, 0.25, 0.25, 0.25, 0.25, 0.25, 0.25, 0.25, 0.25, 0.25],\n",
       "       [0.25, 0.25, 0.25, 0.25, 0.25, 0.25, 0.25, 0.25, 0.25, 0.25],\n",
       "       [0.25, 0.25, 0.25, 0.25, 0.25, 0.25, 0.25, 0.25, 0.25, 0.25],\n",
       "       [0.25, 0.25, 0.25, 0.25, 0.25, 0.25, 0.25, 0.25, 0.25, 0.25]])"
      ]
     },
     "execution_count": 16,
     "metadata": {},
     "output_type": "execute_result"
    }
   ],
   "source": [
    "sigma"
   ]
  },
  {
   "cell_type": "code",
   "execution_count": 21,
   "metadata": {},
   "outputs": [
    {
     "data": {
      "text/plain": [
       "array([[0.25, 0.25, 0.25, 0.25, 0.25, 0.25, 0.25, 0.25, 0.25, 0.25],\n",
       "       [0.25, 0.25, 0.25, 0.25, 0.25, 0.25, 0.25, 0.25, 0.25, 0.25],\n",
       "       [0.25, 0.25, 0.25, 0.25, 0.25, 0.25, 0.25, 0.25, 0.25, 0.25],\n",
       "       [0.25, 0.25, 0.25, 0.25, 0.25, 0.25, 0.25, 0.25, 0.25, 0.25],\n",
       "       [0.25, 0.25, 0.25, 0.25, 0.25, 0.25, 0.25, 0.25, 0.25, 0.25],\n",
       "       [0.25, 0.25, 0.25, 0.25, 0.25, 0.25, 0.25, 0.25, 0.25, 0.25],\n",
       "       [0.25, 0.25, 0.25, 0.25, 0.25, 0.25, 0.25, 0.25, 0.25, 0.25],\n",
       "       [0.25, 0.25, 0.25, 0.25, 0.25, 0.25, 0.25, 0.25, 0.25, 0.25],\n",
       "       [0.25, 0.25, 0.25, 0.25, 0.25, 0.25, 0.25, 0.25, 0.25, 0.25],\n",
       "       [0.25, 0.25, 0.25, 0.25, 0.25, 0.25, 0.25, 0.25, 0.25, 0.25]])"
      ]
     },
     "execution_count": 21,
     "metadata": {},
     "output_type": "execute_result"
    }
   ],
   "source": [
    "sigma.T @ sigma"
   ]
  },
  {
   "cell_type": "code",
   "execution_count": null,
   "metadata": {},
   "outputs": [],
   "source": []
  }
 ],
 "metadata": {
  "kernelspec": {
   "display_name": "Python 3",
   "language": "python",
   "name": "python3"
  },
  "language_info": {
   "codemirror_mode": {
    "name": "ipython",
    "version": 3
   },
   "file_extension": ".py",
   "mimetype": "text/x-python",
   "name": "python",
   "nbconvert_exporter": "python",
   "pygments_lexer": "ipython3",
   "version": "3.7.3"
  }
 },
 "nbformat": 4,
 "nbformat_minor": 2
}
