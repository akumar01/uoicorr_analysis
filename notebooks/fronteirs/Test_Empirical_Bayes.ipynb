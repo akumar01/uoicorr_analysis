{
 "cells": [
  {
   "cell_type": "code",
   "execution_count": 2,
   "metadata": {},
   "outputs": [],
   "source": [
    "%load_ext autoreload\n",
    "%autoreload 2"
   ]
  },
  {
   "cell_type": "code",
   "execution_count": 3,
   "metadata": {},
   "outputs": [],
   "source": [
    "import sys"
   ]
  },
  {
   "cell_type": "code",
   "execution_count": 4,
   "metadata": {},
   "outputs": [],
   "source": [
    "sys.path.append('../../../uoicorr')"
   ]
  },
  {
   "cell_type": "code",
   "execution_count": 7,
   "metadata": {},
   "outputs": [],
   "source": [
    "from test_empirical_bayes import orthogonal_sim, nonorthog_sim"
   ]
  },
  {
   "cell_type": "code",
   "execution_count": 8,
   "metadata": {},
   "outputs": [],
   "source": [
    "import numpy as np"
   ]
  },
  {
   "cell_type": "code",
   "execution_count": 44,
   "metadata": {},
   "outputs": [
    {
     "name": "stdout",
     "output_type": "stream",
     "text": [
      "q=100, 192.453700 s\n",
      "q=200, 195.249882 s\n",
      "q=300, 199.595987 s\n",
      "q=400, 193.444137 s\n",
      "q=500, 174.011767 s\n"
     ]
    }
   ],
   "source": [
    "X = orthogonal_sim()"
   ]
  },
  {
   "cell_type": "code",
   "execution_count": 45,
   "metadata": {},
   "outputs": [],
   "source": [
    "BIC_loss = np.array(X[0])\n",
    "CCML_loss = np.array(X[1])"
   ]
  },
  {
   "cell_type": "code",
   "execution_count": 21,
   "metadata": {},
   "outputs": [],
   "source": [
    "import matplotlib.pyplot as plt"
   ]
  },
  {
   "cell_type": "code",
   "execution_count": 42,
   "metadata": {},
   "outputs": [
    {
     "data": {
      "text/plain": [
       "array([[507.66654577, 494.47707033, 527.67330352, 509.08995314,\n",
       "        461.97443625, 490.8231134 , 470.22805244, 503.19665927,\n",
       "        494.27380518, 473.06766014, 461.50041106, 505.16015349,\n",
       "        514.65048542, 552.71617659, 524.88613803, 521.23884381,\n",
       "        506.55849717, 520.52640682, 539.25649756, 488.11503281,\n",
       "        527.09307536, 479.6307594 , 489.20573356, 492.59408804,\n",
       "        527.94562723, 521.55934812, 457.13487716, 510.85163771,\n",
       "        487.99616845, 557.67349277, 477.0296057 , 486.73060253,\n",
       "        556.70618567, 528.53842305, 469.09148146, 558.25925476,\n",
       "        446.99474651, 540.57979119, 552.42630653, 541.21776745,\n",
       "        504.50998759, 510.69895801, 506.05178267, 422.86868093,\n",
       "        491.56426269, 508.14346946, 520.26028031, 508.65436368,\n",
       "        485.3383822 , 520.02501291, 507.37070919, 498.38270806,\n",
       "        540.42336867, 479.8142337 , 462.46812138, 500.24775609,\n",
       "        500.45891938, 512.18183991, 506.47147486, 533.38589957,\n",
       "        559.17151579, 538.01328307, 474.96832257, 412.49224723,\n",
       "        509.14295143, 505.2216565 , 457.1002676 , 559.42578693,\n",
       "        510.14291222, 519.18199702, 475.85039001, 490.75205299,\n",
       "        490.51337819, 551.80064013, 491.27366115, 542.03461088,\n",
       "        514.32262678, 503.93069429, 441.59195604, 471.69798958,\n",
       "        526.43727076, 465.0392947 , 465.02157442, 530.06361274,\n",
       "        504.94637013, 513.98468649, 490.25988364, 489.84706893,\n",
       "        522.48601132, 548.24104728, 519.65866687, 497.53130273,\n",
       "        451.94608766, 519.0411987 , 465.23848501, 525.55949727,\n",
       "        451.13762456, 494.7270759 , 538.28857581, 578.38648366]])"
      ]
     },
     "execution_count": 42,
     "metadata": {},
     "output_type": "execute_result"
    }
   ],
   "source": [
    "BIC_loss"
   ]
  },
  {
   "cell_type": "code",
   "execution_count": 43,
   "metadata": {},
   "outputs": [
    {
     "data": {
      "text/plain": [
       "array([[507.66654577, 494.47707033, 527.67330352, 509.08995314,\n",
       "        461.97443625, 490.8231134 , 470.22805244, 503.19665927,\n",
       "        494.27380518, 473.06766014, 461.50041106, 505.16015349,\n",
       "        514.65048542, 552.71617659, 524.88613803, 521.23884381,\n",
       "        506.55849717, 520.52640682, 539.25649756, 488.11503281,\n",
       "        527.09307536, 479.6307594 , 489.20573356, 492.59408804,\n",
       "        527.94562723, 521.55934812, 457.13487716, 510.85163771,\n",
       "        487.99616845, 557.67349277, 477.0296057 , 486.73060253,\n",
       "        556.70618567, 528.53842305, 469.09148146, 558.25925476,\n",
       "        446.99474651, 540.57979119, 552.42630653, 541.21776745,\n",
       "        504.50998759, 510.69895801, 506.05178267, 422.86868093,\n",
       "        491.56426269, 508.14346946, 520.26028031, 508.65436368,\n",
       "        485.3383822 , 520.02501291, 507.37070919, 498.38270806,\n",
       "        540.42336867, 479.8142337 , 462.46812138, 500.24775609,\n",
       "        500.45891938, 512.18183991, 506.47147486, 533.38589957,\n",
       "        559.17151579, 538.01328307, 474.96832257, 412.49224723,\n",
       "        509.14295143, 505.2216565 , 457.1002676 , 559.42578693,\n",
       "        510.14291222, 519.18199702, 475.85039001, 490.75205299,\n",
       "        490.51337819, 551.80064013, 491.27366115, 542.03461088,\n",
       "        514.32262678, 503.93069429, 441.59195604, 471.69798958,\n",
       "        526.43727076, 465.0392947 , 465.02157442, 530.06361274,\n",
       "        504.94637013, 513.98468649, 490.25988364, 489.84706893,\n",
       "        522.48601132, 548.24104728, 519.65866687, 497.53130273,\n",
       "        451.94608766, 519.0411987 , 465.23848501, 525.55949727,\n",
       "        451.13762456, 494.7270759 , 538.28857581, 578.38648366]])"
      ]
     },
     "execution_count": 43,
     "metadata": {},
     "output_type": "execute_result"
    }
   ],
   "source": [
    "CCML_loss"
   ]
  },
  {
   "cell_type": "code",
   "execution_count": 47,
   "metadata": {},
   "outputs": [
    {
     "data": {
      "text/plain": [
       "False"
      ]
     },
     "execution_count": 47,
     "metadata": {},
     "output_type": "execute_result"
    }
   ],
   "source": [
    "np.array_equal(BIC_loss, CCML_loss)"
   ]
  },
  {
   "cell_type": "code",
   "execution_count": 46,
   "metadata": {},
   "outputs": [
    {
     "data": {
      "text/plain": [
       "[<matplotlib.lines.Line2D at 0x7f8b8f3ebdd8>]"
      ]
     },
     "execution_count": 46,
     "metadata": {},
     "output_type": "execute_result"
    },
    {
     "data": {
      "image/png": "[encoded data removed]",
      "text/plain": [
       "<Figure size 432x288 with 1 Axes>"
      ]
     },
     "metadata": {
      "needs_background": "light"
     },
     "output_type": "display_data"
    }
   ],
   "source": [
    "plt.plot(np.mean(BIC_loss, axis=1))\n",
    "plt.plot(np.mean(CCML_loss, axis=1))"
   ]
  },
  {
   "cell_type": "code",
   "execution_count": 26,
   "metadata": {},
   "outputs": [
    {
     "data": {
      "text/plain": [
       "array([1.00586156e+03, 9.79019227e+02, 8.93082273e+02, 6.95741211e+02,\n",
       "       5.05580608e+02, 2.74819782e-01])"
      ]
     },
     "execution_count": 26,
     "metadata": {},
     "output_type": "execute_result"
    }
   ],
   "source": [
    "np.mean(BIC_loss, axis=1)"
   ]
  },
  {
   "cell_type": "code",
   "execution_count": null,
   "metadata": {},
   "outputs": [],
   "source": [
    "# Why do the BIC losses decreease as we increase q?"
   ]
  },
  {
   "cell_type": "code",
   "execution_count": 52,
   "metadata": {},
   "outputs": [
    {
     "name": "stderr",
     "output_type": "stream",
     "text": [
      "../../../uoicorr/test_empirical_bayes.py:140: RuntimeWarning: invalid value encountered in double_scalars\n",
      "  if ssg_/(ssq_hat * qq_) > 1 else 0])\n",
      "../../../uoicorr/test_empirical_bayes.py:140: RuntimeWarning: invalid value encountered in double_scalars\n",
      "  if ssg_/(ssq_hat * qq_) > 1 else 0])\n",
      "../../../uoicorr/test_empirical_bayes.py:140: RuntimeWarning: invalid value encountered in double_scalars\n",
      "  if ssg_/(ssq_hat * qq_) > 1 else 0])\n",
      "../../../uoicorr/test_empirical_bayes.py:140: RuntimeWarning: invalid value encountered in double_scalars\n",
      "  if ssg_/(ssq_hat * qq_) > 1 else 0])\n",
      "../../../uoicorr/test_empirical_bayes.py:140: RuntimeWarning: invalid value encountered in double_scalars\n",
      "  if ssg_/(ssq_hat * qq_) > 1 else 0])\n",
      "../../../uoicorr/test_empirical_bayes.py:140: RuntimeWarning: invalid value encountered in double_scalars\n",
      "  if ssg_/(ssq_hat * qq_) > 1 else 0])\n",
      "../../../uoicorr/test_empirical_bayes.py:140: RuntimeWarning: invalid value encountered in double_scalars\n",
      "  if ssg_/(ssq_hat * qq_) > 1 else 0])\n",
      "../../../uoicorr/test_empirical_bayes.py:140: RuntimeWarning: invalid value encountered in double_scalars\n",
      "  if ssg_/(ssq_hat * qq_) > 1 else 0])\n",
      "../../../uoicorr/test_empirical_bayes.py:140: RuntimeWarning: invalid value encountered in double_scalars\n",
      "  if ssg_/(ssq_hat * qq_) > 1 else 0])\n",
      "../../../uoicorr/test_empirical_bayes.py:140: RuntimeWarning: invalid value encountered in double_scalars\n",
      "  if ssg_/(ssq_hat * qq_) > 1 else 0])\n"
     ]
    },
    {
     "name": "stdout",
     "output_type": "stream",
     "text": [
      "q=100, 3.844453 s\n"
     ]
    },
    {
     "name": "stderr",
     "output_type": "stream",
     "text": [
      "../../../uoicorr/test_empirical_bayes.py:140: RuntimeWarning: invalid value encountered in double_scalars\n",
      "  if ssg_/(ssq_hat * qq_) > 1 else 0])\n",
      "../../../uoicorr/test_empirical_bayes.py:140: RuntimeWarning: invalid value encountered in double_scalars\n",
      "  if ssg_/(ssq_hat * qq_) > 1 else 0])\n",
      "../../../uoicorr/test_empirical_bayes.py:140: RuntimeWarning: invalid value encountered in double_scalars\n",
      "  if ssg_/(ssq_hat * qq_) > 1 else 0])\n",
      "../../../uoicorr/test_empirical_bayes.py:140: RuntimeWarning: invalid value encountered in double_scalars\n",
      "  if ssg_/(ssq_hat * qq_) > 1 else 0])\n",
      "../../../uoicorr/test_empirical_bayes.py:140: RuntimeWarning: invalid value encountered in double_scalars\n",
      "  if ssg_/(ssq_hat * qq_) > 1 else 0])\n",
      "../../../uoicorr/test_empirical_bayes.py:140: RuntimeWarning: invalid value encountered in double_scalars\n",
      "  if ssg_/(ssq_hat * qq_) > 1 else 0])\n",
      "../../../uoicorr/test_empirical_bayes.py:140: RuntimeWarning: invalid value encountered in double_scalars\n",
      "  if ssg_/(ssq_hat * qq_) > 1 else 0])\n",
      "../../../uoicorr/test_empirical_bayes.py:140: RuntimeWarning: invalid value encountered in double_scalars\n",
      "  if ssg_/(ssq_hat * qq_) > 1 else 0])\n",
      "../../../uoicorr/test_empirical_bayes.py:140: RuntimeWarning: invalid value encountered in double_scalars\n",
      "  if ssg_/(ssq_hat * qq_) > 1 else 0])\n",
      "../../../uoicorr/test_empirical_bayes.py:140: RuntimeWarning: invalid value encountered in double_scalars\n",
      "  if ssg_/(ssq_hat * qq_) > 1 else 0])\n"
     ]
    },
    {
     "name": "stdout",
     "output_type": "stream",
     "text": [
      "q=200, 6.515675 s\n"
     ]
    },
    {
     "name": "stderr",
     "output_type": "stream",
     "text": [
      "../../../uoicorr/test_empirical_bayes.py:140: RuntimeWarning: invalid value encountered in double_scalars\n",
      "  if ssg_/(ssq_hat * qq_) > 1 else 0])\n",
      "../../../uoicorr/test_empirical_bayes.py:140: RuntimeWarning: invalid value encountered in double_scalars\n",
      "  if ssg_/(ssq_hat * qq_) > 1 else 0])\n",
      "../../../uoicorr/test_empirical_bayes.py:140: RuntimeWarning: invalid value encountered in double_scalars\n",
      "  if ssg_/(ssq_hat * qq_) > 1 else 0])\n",
      "../../../uoicorr/test_empirical_bayes.py:140: RuntimeWarning: invalid value encountered in double_scalars\n",
      "  if ssg_/(ssq_hat * qq_) > 1 else 0])\n",
      "../../../uoicorr/test_empirical_bayes.py:140: RuntimeWarning: invalid value encountered in double_scalars\n",
      "  if ssg_/(ssq_hat * qq_) > 1 else 0])\n",
      "../../../uoicorr/test_empirical_bayes.py:140: RuntimeWarning: invalid value encountered in double_scalars\n",
      "  if ssg_/(ssq_hat * qq_) > 1 else 0])\n",
      "../../../uoicorr/test_empirical_bayes.py:140: RuntimeWarning: invalid value encountered in double_scalars\n",
      "  if ssg_/(ssq_hat * qq_) > 1 else 0])\n",
      "../../../uoicorr/test_empirical_bayes.py:140: RuntimeWarning: invalid value encountered in double_scalars\n",
      "  if ssg_/(ssq_hat * qq_) > 1 else 0])\n",
      "../../../uoicorr/test_empirical_bayes.py:140: RuntimeWarning: invalid value encountered in double_scalars\n",
      "  if ssg_/(ssq_hat * qq_) > 1 else 0])\n",
      "../../../uoicorr/test_empirical_bayes.py:140: RuntimeWarning: invalid value encountered in double_scalars\n",
      "  if ssg_/(ssq_hat * qq_) > 1 else 0])\n"
     ]
    },
    {
     "name": "stdout",
     "output_type": "stream",
     "text": [
      "q=300, 11.530477 s\n"
     ]
    },
    {
     "name": "stderr",
     "output_type": "stream",
     "text": [
      "../../../uoicorr/test_empirical_bayes.py:140: RuntimeWarning: invalid value encountered in double_scalars\n",
      "  if ssg_/(ssq_hat * qq_) > 1 else 0])\n",
      "../../../uoicorr/test_empirical_bayes.py:140: RuntimeWarning: invalid value encountered in double_scalars\n",
      "  if ssg_/(ssq_hat * qq_) > 1 else 0])\n",
      "../../../uoicorr/test_empirical_bayes.py:140: RuntimeWarning: invalid value encountered in double_scalars\n",
      "  if ssg_/(ssq_hat * qq_) > 1 else 0])\n",
      "../../../uoicorr/test_empirical_bayes.py:140: RuntimeWarning: invalid value encountered in double_scalars\n",
      "  if ssg_/(ssq_hat * qq_) > 1 else 0])\n",
      "../../../uoicorr/test_empirical_bayes.py:140: RuntimeWarning: invalid value encountered in double_scalars\n",
      "  if ssg_/(ssq_hat * qq_) > 1 else 0])\n",
      "../../../uoicorr/test_empirical_bayes.py:140: RuntimeWarning: invalid value encountered in double_scalars\n",
      "  if ssg_/(ssq_hat * qq_) > 1 else 0])\n",
      "../../../uoicorr/test_empirical_bayes.py:140: RuntimeWarning: invalid value encountered in double_scalars\n",
      "  if ssg_/(ssq_hat * qq_) > 1 else 0])\n",
      "../../../uoicorr/test_empirical_bayes.py:140: RuntimeWarning: invalid value encountered in double_scalars\n",
      "  if ssg_/(ssq_hat * qq_) > 1 else 0])\n",
      "../../../uoicorr/test_empirical_bayes.py:140: RuntimeWarning: invalid value encountered in double_scalars\n",
      "  if ssg_/(ssq_hat * qq_) > 1 else 0])\n",
      "../../../uoicorr/test_empirical_bayes.py:140: RuntimeWarning: invalid value encountered in double_scalars\n",
      "  if ssg_/(ssq_hat * qq_) > 1 else 0])\n"
     ]
    },
    {
     "name": "stdout",
     "output_type": "stream",
     "text": [
      "q=400, 13.691525 s\n"
     ]
    },
    {
     "name": "stderr",
     "output_type": "stream",
     "text": [
      "../../../uoicorr/test_empirical_bayes.py:140: RuntimeWarning: invalid value encountered in double_scalars\n",
      "  if ssg_/(ssq_hat * qq_) > 1 else 0])\n",
      "../../../uoicorr/test_empirical_bayes.py:140: RuntimeWarning: invalid value encountered in double_scalars\n",
      "  if ssg_/(ssq_hat * qq_) > 1 else 0])\n",
      "../../../uoicorr/test_empirical_bayes.py:140: RuntimeWarning: invalid value encountered in double_scalars\n",
      "  if ssg_/(ssq_hat * qq_) > 1 else 0])\n",
      "../../../uoicorr/test_empirical_bayes.py:140: RuntimeWarning: invalid value encountered in double_scalars\n",
      "  if ssg_/(ssq_hat * qq_) > 1 else 0])\n",
      "../../../uoicorr/test_empirical_bayes.py:140: RuntimeWarning: invalid value encountered in double_scalars\n",
      "  if ssg_/(ssq_hat * qq_) > 1 else 0])\n",
      "../../../uoicorr/test_empirical_bayes.py:140: RuntimeWarning: invalid value encountered in double_scalars\n",
      "  if ssg_/(ssq_hat * qq_) > 1 else 0])\n",
      "../../../uoicorr/test_empirical_bayes.py:140: RuntimeWarning: invalid value encountered in double_scalars\n",
      "  if ssg_/(ssq_hat * qq_) > 1 else 0])\n",
      "../../../uoicorr/test_empirical_bayes.py:140: RuntimeWarning: invalid value encountered in double_scalars\n",
      "  if ssg_/(ssq_hat * qq_) > 1 else 0])\n",
      "../../../uoicorr/test_empirical_bayes.py:140: RuntimeWarning: invalid value encountered in double_scalars\n",
      "  if ssg_/(ssq_hat * qq_) > 1 else 0])\n"
     ]
    },
    {
     "name": "stdout",
     "output_type": "stream",
     "text": [
      "q=500, 17.355994 s\n"
     ]
    },
    {
     "name": "stderr",
     "output_type": "stream",
     "text": [
      "../../../uoicorr/test_empirical_bayes.py:140: RuntimeWarning: invalid value encountered in double_scalars\n",
      "  if ssg_/(ssq_hat * qq_) > 1 else 0])\n"
     ]
    }
   ],
   "source": [
    "X = nonorthog_sim()"
   ]
  },
  {
   "cell_type": "code",
   "execution_count": 53,
   "metadata": {},
   "outputs": [],
   "source": [
    "BIC = np.array(X[0])\n",
    "CCML = np.array(X[1])\n",
    "BIC_loss = np.array(X[2])\n",
    "CCML_loss = np.array(X[3])\n",
    "ss_gamma = np.array(X[4]) "
   ]
  },
  {
   "cell_type": "code",
   "execution_count": 55,
   "metadata": {},
   "outputs": [
    {
     "data": {
      "text/plain": [
       "(5, 10)"
      ]
     },
     "execution_count": 55,
     "metadata": {},
     "output_type": "execute_result"
    }
   ],
   "source": [
    "BIC_loss.shape"
   ]
  },
  {
   "cell_type": "code",
   "execution_count": 56,
   "metadata": {},
   "outputs": [
    {
     "data": {
      "text/plain": [
       "[<matplotlib.lines.Line2D at 0x7f70d1c60668>]"
      ]
     },
     "execution_count": 56,
     "metadata": {},
     "output_type": "execute_result"
    },
    {
     "data": {
      "image/png": "[encoded data removed]",
      "text/plain": [
       "<Figure size 432x288 with 1 Axes>"
      ]
     },
     "metadata": {
      "needs_background": "light"
     },
     "output_type": "display_data"
    }
   ],
   "source": [
    "plt.plot(np.mean(BIC_loss, axis = 1))\n",
    "plt.plot(np.mean(CCML_loss, axis = 1))"
   ]
  },
  {
   "cell_type": "code",
   "execution_count": null,
   "metadata": {},
   "outputs": [],
   "source": []
  }
 ],
 "metadata": {
  "kernelspec": {
   "display_name": "Python 3",
   "language": "python",
   "name": "python3"
  },
  "language_info": {
   "codemirror_mode": {
    "name": "ipython",
    "version": 3
   },
   "file_extension": ".py",
   "mimetype": "text/x-python",
   "name": "python",
   "nbconvert_exporter": "python",
   "pygments_lexer": "ipython3",
   "version": "3.7.3"
  }
 },
 "nbformat": 4,
 "nbformat_minor": 2
}
