{
 "cells": [
  {
   "cell_type": "code",
   "execution_count": 1,
   "metadata": {},
   "outputs": [],
   "source": [
    "%load_ext autoreload\n",
    "%autoreload 2"
   ]
  },
  {
   "cell_type": "code",
   "execution_count": 2,
   "metadata": {},
   "outputs": [],
   "source": [
    "# %load ../../loaders/imports.py\n",
    "import sys, os\n",
    "import numpy as np\n",
    "import matplotlib.pyplot as plt\n",
    "import time\n",
    "import pdb\n",
    "\n",
    "# Add the uoicorr directory to the path\n",
    "sys.path.append('../../../uoicorr_run')\n",
    "\n",
    "# Add the root directory of this repository\n",
    "sys.path.append('../..')\n",
    "\n",
    "from postprocess_utils import *\n",
    "import pandas as pd\n",
    "import sqlalchemy"
   ]
  },
  {
   "cell_type": "code",
   "execution_count": 3,
   "metadata": {},
   "outputs": [],
   "source": [
    "from utils import gen_data, gen_covariance, sparsify_beta, gen_beta2"
   ]
  },
  {
   "cell_type": "code",
   "execution_count": 4,
   "metadata": {},
   "outputs": [],
   "source": [
    "root_dir = '/mnt/sdb1'"
   ]
  },
  {
   "cell_type": "code",
   "execution_count": 5,
   "metadata": {},
   "outputs": [],
   "source": [
    "# Read the non-concatenated dataframes to ensure indices are properly preserved\n",
    "lasso = pd.read_pickle('%s/finalfinal/lasso_df.dat' % root_dir)\n",
    "mcp = pd.read_pickle('%s/finalfinal/mcp_df.dat' % root_dir)\n",
    "scad = pd.read_pickle('%s/finalfinal/scad_df.dat' % root_dir)\n",
    "en = pd.read_pickle('%s/finalfinal/en_df.dat' % root_dir)"
   ]
  },
  {
   "cell_type": "code",
   "execution_count": 6,
   "metadata": {},
   "outputs": [],
   "source": [
    "# remove the parasitic index field\n",
    "lasso = lasso.drop('index', axis=1)\n",
    "mcp = mcp.drop('index', axis=1)\n",
    "scad = scad.drop('index', axis=1)\n",
    "en = en.drop('index', axis=1)"
   ]
  },
  {
   "cell_type": "code",
   "execution_count": 27,
   "metadata": {},
   "outputs": [],
   "source": [
    "lasso.set_index(np.arange(lasso.shape[0]), inplace=True)"
   ]
  },
  {
   "cell_type": "code",
   "execution_count": 30,
   "metadata": {},
   "outputs": [],
   "source": [
    "idx1 = list(lasso.loc[lasso['cov_idx'] == 0].index)"
   ]
  },
  {
   "cell_type": "code",
   "execution_count": 5,
   "metadata": {},
   "outputs": [],
   "source": [
    "import h5py"
   ]
  },
  {
   "cell_type": "code",
   "execution_count": 6,
   "metadata": {},
   "outputs": [],
   "source": [
    "# Iterate through each dataframe and isolate the sets of reps and calculate the bias and variance of estimates\n",
    "# 1) along the entire vector, 2) along the properly selected coefficients"
   ]
  },
  {
   "cell_type": "code",
   "execution_count": 7,
   "metadata": {},
   "outputs": [],
   "source": [
    "import itertools"
   ]
  },
  {
   "cell_type": "code",
   "execution_count": 23,
   "metadata": {},
   "outputs": [
    {
     "data": {
      "text/plain": [
       "[(0.020000000000000004, -1.0, 'AIC', 0),\n",
       " (0.020000000000000004, -1.0, 'AIC', 1),\n",
       " (0.020000000000000004, -1.0, 'AIC', 2),\n",
       " (0.020000000000000004, -1.0, 'AIC', 3),\n",
       " (0.020000000000000004, -1.0, 'AIC', 4),\n",
       " (0.020000000000000004, -1.0, 'AIC', 5),\n",
       " (0.020000000000000004, -1.0, 'AIC', 6),\n",
       " (0.020000000000000004, -1.0, 'AIC', 7),\n",
       " (0.020000000000000004, -1.0, 'AIC', 8),\n",
       " (0.020000000000000004, -1.0, 'AIC', 9)]"
      ]
     },
     "execution_count": 23,
     "metadata": {},
     "output_type": "execute_result"
    }
   ],
   "source": [
    "param_combos[0:10]"
   ]
  },
  {
   "cell_type": "code",
   "execution_count": 47,
   "metadata": {},
   "outputs": [
    {
     "name": "stdout",
     "output_type": "stream",
     "text": [
      "28800\n",
      "0\n",
      "> <ipython-input-47-b98722c4dbe9>(34)<module>()\n",
      "-> bias1, bias2, var = calc_bias_var(df, beta_files[i])\n",
      "(Pdb) df.index\n",
      "Int64Index([  808,  1960,  3112,  4264,  5416,  6568,  7720,  8872, 10024,\n",
      "            11176, 12328, 13480, 14632, 15784, 16936, 18088, 19240, 20392,\n",
      "            21544, 22696],\n",
      "           dtype='int64')\n",
      "(Pdb) continue\n",
      "> <ipython-input-47-b98722c4dbe9>(33)<module>()\n",
      "-> pdb.set_trace()\n",
      "(Pdb) df.index\n",
      "Int64Index([  808,  1960,  3112,  4264,  5416,  6568,  7720,  8872, 10024,\n",
      "            11176, 12328, 13480, 14632, 15784, 16936, 18088, 19240, 20392,\n",
      "            21544, 22696],\n",
      "           dtype='int64')\n",
      "(Pdb) param_combo\n",
      "(0.020000000000000004, -1.0, 'AIC', 1)\n",
      "(Pdb) quit()\n"
     ]
    },
    {
     "ename": "BdbQuit",
     "evalue": "",
     "output_type": "error",
     "traceback": [
      "\u001b[0;31m---------------------------------------------------------------------------\u001b[0m",
      "\u001b[0;31mBdbQuit\u001b[0m                                   Traceback (most recent call last)",
      "\u001b[0;32m<ipython-input-47-b98722c4dbe9>\u001b[0m in \u001b[0;36m<module>\u001b[0;34m\u001b[0m\n\u001b[1;32m     31\u001b[0m             \u001b[0;32mexcept\u001b[0m\u001b[0;34m:\u001b[0m\u001b[0;34m\u001b[0m\u001b[0;34m\u001b[0m\u001b[0m\n\u001b[1;32m     32\u001b[0m                 \u001b[0mpdb\u001b[0m\u001b[0;34m.\u001b[0m\u001b[0mset_trace\u001b[0m\u001b[0;34m(\u001b[0m\u001b[0;34m)\u001b[0m\u001b[0;34m\u001b[0m\u001b[0;34m\u001b[0m\u001b[0m\n\u001b[0;32m---> 33\u001b[0;31m             \u001b[0mpdb\u001b[0m\u001b[0;34m.\u001b[0m\u001b[0mset_trace\u001b[0m\u001b[0;34m(\u001b[0m\u001b[0;34m)\u001b[0m\u001b[0;34m\u001b[0m\u001b[0;34m\u001b[0m\u001b[0m\n\u001b[0m\u001b[1;32m     34\u001b[0m             \u001b[0mbias1\u001b[0m\u001b[0;34m,\u001b[0m \u001b[0mbias2\u001b[0m\u001b[0;34m,\u001b[0m \u001b[0mvar\u001b[0m \u001b[0;34m=\u001b[0m \u001b[0mcalc_bias_var\u001b[0m\u001b[0;34m(\u001b[0m\u001b[0mdf\u001b[0m\u001b[0;34m,\u001b[0m \u001b[0mbeta_files\u001b[0m\u001b[0;34m[\u001b[0m\u001b[0mi\u001b[0m\u001b[0;34m]\u001b[0m\u001b[0;34m)\u001b[0m\u001b[0;34m\u001b[0m\u001b[0;34m\u001b[0m\u001b[0m\n\u001b[1;32m     35\u001b[0m             bias_variance_list.append({'df_name': dframe_names[i], 'sparsity': s, 'betawidth' : bw,\n",
      "\u001b[0;32m<ipython-input-47-b98722c4dbe9>\u001b[0m in \u001b[0;36m<module>\u001b[0;34m\u001b[0m\n\u001b[1;32m     31\u001b[0m             \u001b[0;32mexcept\u001b[0m\u001b[0;34m:\u001b[0m\u001b[0;34m\u001b[0m\u001b[0;34m\u001b[0m\u001b[0m\n\u001b[1;32m     32\u001b[0m                 \u001b[0mpdb\u001b[0m\u001b[0;34m.\u001b[0m\u001b[0mset_trace\u001b[0m\u001b[0;34m(\u001b[0m\u001b[0;34m)\u001b[0m\u001b[0;34m\u001b[0m\u001b[0;34m\u001b[0m\u001b[0m\n\u001b[0;32m---> 33\u001b[0;31m             \u001b[0mpdb\u001b[0m\u001b[0;34m.\u001b[0m\u001b[0mset_trace\u001b[0m\u001b[0;34m(\u001b[0m\u001b[0;34m)\u001b[0m\u001b[0;34m\u001b[0m\u001b[0;34m\u001b[0m\u001b[0m\n\u001b[0m\u001b[1;32m     34\u001b[0m             \u001b[0mbias1\u001b[0m\u001b[0;34m,\u001b[0m \u001b[0mbias2\u001b[0m\u001b[0;34m,\u001b[0m \u001b[0mvar\u001b[0m \u001b[0;34m=\u001b[0m \u001b[0mcalc_bias_var\u001b[0m\u001b[0;34m(\u001b[0m\u001b[0mdf\u001b[0m\u001b[0;34m,\u001b[0m \u001b[0mbeta_files\u001b[0m\u001b[0;34m[\u001b[0m\u001b[0mi\u001b[0m\u001b[0;34m]\u001b[0m\u001b[0;34m)\u001b[0m\u001b[0;34m\u001b[0m\u001b[0;34m\u001b[0m\u001b[0m\n\u001b[1;32m     35\u001b[0m             bias_variance_list.append({'df_name': dframe_names[i], 'sparsity': s, 'betawidth' : bw,\n",
      "\u001b[0;32m~/anaconda3/envs/nse/lib/python3.7/bdb.py\u001b[0m in \u001b[0;36mtrace_dispatch\u001b[0;34m(self, frame, event, arg)\u001b[0m\n\u001b[1;32m     86\u001b[0m             \u001b[0;32mreturn\u001b[0m \u001b[0;31m# None\u001b[0m\u001b[0;34m\u001b[0m\u001b[0;34m\u001b[0m\u001b[0m\n\u001b[1;32m     87\u001b[0m         \u001b[0;32mif\u001b[0m \u001b[0mevent\u001b[0m \u001b[0;34m==\u001b[0m \u001b[0;34m'line'\u001b[0m\u001b[0;34m:\u001b[0m\u001b[0;34m\u001b[0m\u001b[0;34m\u001b[0m\u001b[0m\n\u001b[0;32m---> 88\u001b[0;31m             \u001b[0;32mreturn\u001b[0m \u001b[0mself\u001b[0m\u001b[0;34m.\u001b[0m\u001b[0mdispatch_line\u001b[0m\u001b[0;34m(\u001b[0m\u001b[0mframe\u001b[0m\u001b[0;34m)\u001b[0m\u001b[0;34m\u001b[0m\u001b[0;34m\u001b[0m\u001b[0m\n\u001b[0m\u001b[1;32m     89\u001b[0m         \u001b[0;32mif\u001b[0m \u001b[0mevent\u001b[0m \u001b[0;34m==\u001b[0m \u001b[0;34m'call'\u001b[0m\u001b[0;34m:\u001b[0m\u001b[0;34m\u001b[0m\u001b[0;34m\u001b[0m\u001b[0m\n\u001b[1;32m     90\u001b[0m             \u001b[0;32mreturn\u001b[0m \u001b[0mself\u001b[0m\u001b[0;34m.\u001b[0m\u001b[0mdispatch_call\u001b[0m\u001b[0;34m(\u001b[0m\u001b[0mframe\u001b[0m\u001b[0;34m,\u001b[0m \u001b[0marg\u001b[0m\u001b[0;34m)\u001b[0m\u001b[0;34m\u001b[0m\u001b[0;34m\u001b[0m\u001b[0m\n",
      "\u001b[0;32m~/anaconda3/envs/nse/lib/python3.7/bdb.py\u001b[0m in \u001b[0;36mdispatch_line\u001b[0;34m(self, frame)\u001b[0m\n\u001b[1;32m    111\u001b[0m         \u001b[0;32mif\u001b[0m \u001b[0mself\u001b[0m\u001b[0;34m.\u001b[0m\u001b[0mstop_here\u001b[0m\u001b[0;34m(\u001b[0m\u001b[0mframe\u001b[0m\u001b[0;34m)\u001b[0m \u001b[0;32mor\u001b[0m \u001b[0mself\u001b[0m\u001b[0;34m.\u001b[0m\u001b[0mbreak_here\u001b[0m\u001b[0;34m(\u001b[0m\u001b[0mframe\u001b[0m\u001b[0;34m)\u001b[0m\u001b[0;34m:\u001b[0m\u001b[0;34m\u001b[0m\u001b[0;34m\u001b[0m\u001b[0m\n\u001b[1;32m    112\u001b[0m             \u001b[0mself\u001b[0m\u001b[0;34m.\u001b[0m\u001b[0muser_line\u001b[0m\u001b[0;34m(\u001b[0m\u001b[0mframe\u001b[0m\u001b[0;34m)\u001b[0m\u001b[0;34m\u001b[0m\u001b[0;34m\u001b[0m\u001b[0m\n\u001b[0;32m--> 113\u001b[0;31m             \u001b[0;32mif\u001b[0m \u001b[0mself\u001b[0m\u001b[0;34m.\u001b[0m\u001b[0mquitting\u001b[0m\u001b[0;34m:\u001b[0m \u001b[0;32mraise\u001b[0m \u001b[0mBdbQuit\u001b[0m\u001b[0;34m\u001b[0m\u001b[0;34m\u001b[0m\u001b[0m\n\u001b[0m\u001b[1;32m    114\u001b[0m         \u001b[0;32mreturn\u001b[0m \u001b[0mself\u001b[0m\u001b[0;34m.\u001b[0m\u001b[0mtrace_dispatch\u001b[0m\u001b[0;34m\u001b[0m\u001b[0;34m\u001b[0m\u001b[0m\n\u001b[1;32m    115\u001b[0m \u001b[0;34m\u001b[0m\u001b[0m\n",
      "\u001b[0;31mBdbQuit\u001b[0m: "
     ]
    }
   ],
   "source": [
    "dframes = [lasso, mcp, scad, en]\n",
    "dframe_names = ['Lasso', 'MCP', 'SCAD', 'EN']\n",
    "sparsity = np.unique(lasso['sparsity'].values)\n",
    "betawidth = np.unique(lasso['betawidth'].values)\n",
    "selection_methods = np.unique(lasso['selection_method'].values)\n",
    "kappa = 5\n",
    "np_ratio = 4\n",
    "cov_idxs = np.arange(80)\n",
    "\n",
    "beta_fnames = ['%s/finalfinal/%s_pp_beta.h5' % (root_dir, dfname) for dfname in ['lasso', 'mcp', 'scad', 'en']]\n",
    "beta_files = [h5py.File(beta_fname, 'r') for beta_fname in beta_fnames]\n",
    "\n",
    "param_combos = list(itertools.product(sparsity, betawidth, selection_methods, cov_idxs))\n",
    "print(len(param_combos))\n",
    "\n",
    "bias_variance_list = []\n",
    "\n",
    "for i, dframe in enumerate(dframes):\n",
    "    print(i)\n",
    "    counter = 0\n",
    "    t0 = time.time()\n",
    "    for param_combo in param_combos:\n",
    "        s, bw, sm, cidx = param_combo\n",
    "        df = apply_df_filters(dframe, sparsity=s, betawidth=bw, \n",
    "                                  selection_method=sm, cov_idx=cidx, kappa=kappa, np_ratio=np_ratio)\n",
    "        if df.shape[0] == 0:\n",
    "            continue\n",
    "        else:\n",
    "            try:\n",
    "                assert(df.shape[0] == 20)\n",
    "            except:\n",
    "                pdb.set_trace()\n",
    "            pdb.set_trace()\n",
    "            bias1, bias2, var = calc_bias_var(df, beta_files[i])\n",
    "            bias_variance_list.append({'df_name': dframe_names[i], 'sparsity': s, 'betawidth' : bw,\n",
    "                                      'selection_method' : sm, 'cov_idx': cidx, 'kappa': kappa,\n",
    "                                      'np_ratio': np_ratio, 'total_bias': bias1, 'common_bias': bias2,\n",
    "                                      'variance': var})            \n",
    "            counter += 1\n",
    "            if counter % 100 == 0:\n",
    "                print('100 iteration time: %f' % (time.time() - t0))\n",
    "                t0 = time.time()"
   ]
  },
  {
   "cell_type": "code",
   "execution_count": 45,
   "metadata": {},
   "outputs": [],
   "source": [
    "def calc_bias_var(df, beta_file):\n",
    "    \n",
    "    indices = list(df.index)\n",
    "    # Take the indices\n",
    "    beta = beta_file['beta'][indices, :]\n",
    "    # Ensure all the betas are the same\n",
    "    assert(np.isclose(beta, beta[0]).all())\n",
    "    \n",
    "    beta_hats = beta_file['beta_hat'][indices, :]\n",
    "    \n",
    "    # Total bias\n",
    "    total_bias = np.mean(np.linalg.norm(beta - beta_hats, axis=1))\n",
    "    \n",
    "    common_support_bias = 0\n",
    "    \n",
    "    # Common support bias\n",
    "    for i in range(len(indices)):\n",
    "        common_support = list(set(np.nonzero(beta[i, :])[0]).intersection(set(np.nonzero(beta_hats[i, :])[0])))\n",
    "        common_support_bias += 1/len(indices) * np.linalg.norm(beta[i, common_support] - beta_hats[i, common_support])\n",
    "    variance = np.mean(np.var(beta_hats, axis = 0))\n",
    "\n",
    "    return total_bias, common_support_bias, variance"
   ]
  },
  {
   "cell_type": "code",
   "execution_count": null,
   "metadata": {},
   "outputs": [],
   "source": []
  }
 ],
 "metadata": {
  "kernelspec": {
   "display_name": "Python 3",
   "language": "python",
   "name": "python3"
  },
  "language_info": {
   "codemirror_mode": {
    "name": "ipython",
    "version": 3
   },
   "file_extension": ".py",
   "mimetype": "text/x-python",
   "name": "python",
   "nbconvert_exporter": "python",
   "pygments_lexer": "ipython3",
   "version": "3.7.3"
  }
 },
 "nbformat": 4,
 "nbformat_minor": 2
}
