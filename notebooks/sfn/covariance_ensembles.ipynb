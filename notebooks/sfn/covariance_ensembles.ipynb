{
 "cells": [
  {
   "cell_type": "code",
   "execution_count": 1,
   "metadata": {},
   "outputs": [],
   "source": [
    "%load_ext autoreload\n",
    "%autoreload 2"
   ]
  },
  {
   "cell_type": "code",
   "execution_count": 2,
   "metadata": {},
   "outputs": [],
   "source": [
    "# %load ../../loaders/imports.py\n",
    "import sys, os\n",
    "import numpy as np\n",
    "import matplotlib.pyplot as plt\n",
    "import time\n",
    "import pdb\n",
    "\n",
    "# Add the uoicorr directory to the path\n",
    "sys.path.append('../../../uoicorr_run')\n",
    "\n",
    "# Add the root directory of this repository\n",
    "sys.path.append('../..')\n",
    "\n",
    "from utils import gen_covariance, gen_beta2, gen_data, get_cov_list\n",
    "from utils import selection_accuracy\n",
    "from sklearn.linear_model import LassoLars, lasso_path, LinearRegression"
   ]
  },
  {
   "cell_type": "code",
   "execution_count": 9,
   "metadata": {},
   "outputs": [],
   "source": [
    "import itertools"
   ]
  },
  {
   "cell_type": "markdown",
   "metadata": {},
   "source": [
    "In addition to the standard set of designs we have been considering, we must consider settings in which the (a) irrepresntible condition is violated with degrees of varying strength (generate random elements from the Wishart distribution)\n",
    "(b) Network structures of varying topologies\n",
    "(c) Inverse covariance matrix follows a Wishart distribution: use this to vary the eigenvalue bound on the covariance matrices \n",
    "(d) When interpolating between things, look to evenly populate the eigenvalue bound and the irrepresentible strength"
   ]
  },
  {
   "cell_type": "code",
   "execution_count": 3,
   "metadata": {},
   "outputs": [],
   "source": [
    "def bound_eigenvalue(matrix, k):\n",
    "    \n",
    "    # Sort each row\n",
    "    ordering = np.argsort(matrix, axis = 1)\n",
    "\n",
    "    # Change to descending order\n",
    "    ordering = np.fliplr(ordering)\n",
    "    \n",
    "    matrix = matrix[ordering]\n",
    "    # Find the diagonal and move it first\n",
    "    \n",
    "    diagonal_locs = np.array([np.where(ordering[i, :] == i)[0][0] \n",
    "                              for i in range(ordering.shape[0])])\n",
    "    for (row, column) in zip(range(ordering.shape[0]), diagonal_locs):\n",
    "        matrix[row][:column+1] = np.roll(matrix[row][:column+1], 1)\n",
    "            \n",
    "    # Sum the first k elements\n",
    "    row_sums = np.sum(matrix[:, 0:k], axis = 1)\n",
    "\n",
    "    # Evaluate all Bauer Cassini ovals\n",
    "    pairs = set(list(itertools.combinations(np.arange(p), 2)))\n",
    "    ovals = np.array([np.product(row_sums[idx]) for idx in pairs])\n",
    "    \n",
    "    # Take the max. This is a bound for any conceivable eigenvalue\n",
    "    eig_bound = np.max(ovals)\n",
    "    \n",
    "    return eig_bound"
   ]
  },
  {
   "cell_type": "markdown",
   "metadata": {},
   "source": [
    "#### Addressing part (a) by sampling from a Wishart distribution"
   ]
  },
  {
   "cell_type": "code",
   "execution_count": 4,
   "metadata": {},
   "outputs": [],
   "source": [
    "from scipy.stats import wishart, invwishart"
   ]
  },
  {
   "cell_type": "code",
   "execution_count": 14,
   "metadata": {},
   "outputs": [
    {
     "ename": "KeyboardInterrupt",
     "evalue": "",
     "output_type": "error",
     "traceback": [
      "\u001b[1;31m---------------------------------------------------------------------------\u001b[0m",
      "\u001b[1;31mKeyboardInterrupt\u001b[0m                         Traceback (most recent call last)",
      "\u001b[1;32m<ipython-input-14-2a6ff7abf36f>\u001b[0m in \u001b[0;36m<module>\u001b[1;34m\u001b[0m\n\u001b[0;32m     29\u001b[0m             \u001b[0mirrep_const\u001b[0m\u001b[1;33m[\u001b[0m\u001b[0mi1\u001b[0m\u001b[1;33m,\u001b[0m \u001b[0mi2\u001b[0m\u001b[1;33m,\u001b[0m \u001b[0mi3\u001b[0m\u001b[1;33m]\u001b[0m \u001b[1;33m=\u001b[0m \u001b[0mnp\u001b[0m\u001b[1;33m.\u001b[0m\u001b[0mmax\u001b[0m\u001b[1;33m(\u001b[0m\u001b[0mC21\u001b[0m \u001b[1;33m@\u001b[0m \u001b[0mnp\u001b[0m\u001b[1;33m.\u001b[0m\u001b[0mlinalg\u001b[0m\u001b[1;33m.\u001b[0m\u001b[0minv\u001b[0m\u001b[1;33m(\u001b[0m\u001b[0mC11\u001b[0m\u001b[1;33m)\u001b[0m\u001b[1;33m)\u001b[0m\u001b[1;33m\u001b[0m\u001b[0m\n\u001b[0;32m     30\u001b[0m             \u001b[1;31m# Calculate the subset eigenvalue bound\u001b[0m\u001b[1;33m\u001b[0m\u001b[1;33m\u001b[0m\u001b[0m\n\u001b[1;32m---> 31\u001b[1;33m             \u001b[0meig_bound\u001b[0m\u001b[1;33m[\u001b[0m\u001b[0mi1\u001b[0m\u001b[1;33m,\u001b[0m \u001b[0mi2\u001b[0m\u001b[1;33m,\u001b[0m \u001b[0mi3\u001b[0m\u001b[1;33m]\u001b[0m \u001b[1;33m=\u001b[0m \u001b[0mnp\u001b[0m\u001b[1;33m.\u001b[0m\u001b[0mpower\u001b[0m\u001b[1;33m(\u001b[0m\u001b[0mbound_eigenvalue\u001b[0m\u001b[1;33m(\u001b[0m\u001b[0mnp\u001b[0m\u001b[1;33m.\u001b[0m\u001b[0mlinalg\u001b[0m\u001b[1;33m.\u001b[0m\u001b[0minv\u001b[0m\u001b[1;33m(\u001b[0m\u001b[0mmatrix\u001b[0m\u001b[1;33m)\u001b[0m\u001b[1;33m,\u001b[0m \u001b[0mk_\u001b[0m\u001b[1;33m)\u001b[0m\u001b[1;33m,\u001b[0m \u001b[1;33m-\u001b[0m\u001b[1;36m1\u001b[0m\u001b[1;33m)\u001b[0m\u001b[1;33m\u001b[0m\u001b[0m\n\u001b[0m",
      "\u001b[1;32m<ipython-input-3-a7e189e46dd3>\u001b[0m in \u001b[0;36mbound_eigenvalue\u001b[1;34m(matrix, k)\u001b[0m\n\u001b[0;32m     20\u001b[0m     \u001b[1;31m# Evaluate all Bauer Cassini ovals\u001b[0m\u001b[1;33m\u001b[0m\u001b[1;33m\u001b[0m\u001b[0m\n\u001b[0;32m     21\u001b[0m     \u001b[0mpairs\u001b[0m \u001b[1;33m=\u001b[0m \u001b[0mset\u001b[0m\u001b[1;33m(\u001b[0m\u001b[0mlist\u001b[0m\u001b[1;33m(\u001b[0m\u001b[0mitertools\u001b[0m\u001b[1;33m.\u001b[0m\u001b[0mcombinations\u001b[0m\u001b[1;33m(\u001b[0m\u001b[0mnp\u001b[0m\u001b[1;33m.\u001b[0m\u001b[0marange\u001b[0m\u001b[1;33m(\u001b[0m\u001b[0mp\u001b[0m\u001b[1;33m)\u001b[0m\u001b[1;33m,\u001b[0m \u001b[1;36m2\u001b[0m\u001b[1;33m)\u001b[0m\u001b[1;33m)\u001b[0m\u001b[1;33m)\u001b[0m\u001b[1;33m\u001b[0m\u001b[0m\n\u001b[1;32m---> 22\u001b[1;33m     \u001b[0movals\u001b[0m \u001b[1;33m=\u001b[0m \u001b[0mnp\u001b[0m\u001b[1;33m.\u001b[0m\u001b[0marray\u001b[0m\u001b[1;33m(\u001b[0m\u001b[1;33m[\u001b[0m\u001b[0mnp\u001b[0m\u001b[1;33m.\u001b[0m\u001b[0mproduct\u001b[0m\u001b[1;33m(\u001b[0m\u001b[0mrow_sums\u001b[0m\u001b[1;33m[\u001b[0m\u001b[0midx\u001b[0m\u001b[1;33m]\u001b[0m\u001b[1;33m)\u001b[0m \u001b[1;32mfor\u001b[0m \u001b[0midx\u001b[0m \u001b[1;32min\u001b[0m \u001b[0mpairs\u001b[0m\u001b[1;33m]\u001b[0m\u001b[1;33m)\u001b[0m\u001b[1;33m\u001b[0m\u001b[0m\n\u001b[0m\u001b[0;32m     23\u001b[0m \u001b[1;33m\u001b[0m\u001b[0m\n\u001b[0;32m     24\u001b[0m     \u001b[1;31m# Take the max. This is a bound for any conceivable eigenvalue\u001b[0m\u001b[1;33m\u001b[0m\u001b[1;33m\u001b[0m\u001b[0m\n",
      "\u001b[1;32m<ipython-input-3-a7e189e46dd3>\u001b[0m in \u001b[0;36m<listcomp>\u001b[1;34m(.0)\u001b[0m\n\u001b[0;32m     20\u001b[0m     \u001b[1;31m# Evaluate all Bauer Cassini ovals\u001b[0m\u001b[1;33m\u001b[0m\u001b[1;33m\u001b[0m\u001b[0m\n\u001b[0;32m     21\u001b[0m     \u001b[0mpairs\u001b[0m \u001b[1;33m=\u001b[0m \u001b[0mset\u001b[0m\u001b[1;33m(\u001b[0m\u001b[0mlist\u001b[0m\u001b[1;33m(\u001b[0m\u001b[0mitertools\u001b[0m\u001b[1;33m.\u001b[0m\u001b[0mcombinations\u001b[0m\u001b[1;33m(\u001b[0m\u001b[0mnp\u001b[0m\u001b[1;33m.\u001b[0m\u001b[0marange\u001b[0m\u001b[1;33m(\u001b[0m\u001b[0mp\u001b[0m\u001b[1;33m)\u001b[0m\u001b[1;33m,\u001b[0m \u001b[1;36m2\u001b[0m\u001b[1;33m)\u001b[0m\u001b[1;33m)\u001b[0m\u001b[1;33m)\u001b[0m\u001b[1;33m\u001b[0m\u001b[0m\n\u001b[1;32m---> 22\u001b[1;33m     \u001b[0movals\u001b[0m \u001b[1;33m=\u001b[0m \u001b[0mnp\u001b[0m\u001b[1;33m.\u001b[0m\u001b[0marray\u001b[0m\u001b[1;33m(\u001b[0m\u001b[1;33m[\u001b[0m\u001b[0mnp\u001b[0m\u001b[1;33m.\u001b[0m\u001b[0mproduct\u001b[0m\u001b[1;33m(\u001b[0m\u001b[0mrow_sums\u001b[0m\u001b[1;33m[\u001b[0m\u001b[0midx\u001b[0m\u001b[1;33m]\u001b[0m\u001b[1;33m)\u001b[0m \u001b[1;32mfor\u001b[0m \u001b[0midx\u001b[0m \u001b[1;32min\u001b[0m \u001b[0mpairs\u001b[0m\u001b[1;33m]\u001b[0m\u001b[1;33m)\u001b[0m\u001b[1;33m\u001b[0m\u001b[0m\n\u001b[0m\u001b[0;32m     23\u001b[0m \u001b[1;33m\u001b[0m\u001b[0m\n\u001b[0;32m     24\u001b[0m     \u001b[1;31m# Take the max. This is a bound for any conceivable eigenvalue\u001b[0m\u001b[1;33m\u001b[0m\u001b[1;33m\u001b[0m\u001b[0m\n",
      "\u001b[1;31mKeyboardInterrupt\u001b[0m: "
     ]
    }
   ],
   "source": [
    "# Generate 1000 random matrices from Wishart_p(n). Keep p fixed at 500. Vary n over a few orders of magnitude\n",
    "# to see whether this changes the fraction of matrices that violate irrepresentibility\n",
    "\n",
    "# Vary the sparsity of the model. Assume all beta are positive. Calculate the irrepresentible constant\n",
    "\n",
    "n = [500, 1000, 5000, 10000]\n",
    "p = 500\n",
    "k = np.linspace(10, 250, 10, dtype=int)\n",
    "\n",
    "n_matrices = 1000\n",
    "\n",
    "irrep_const = np.zeros((len(n), len(k), n_matrices))\n",
    "eig_bound = np.zeros(irrep_const.shape)\n",
    "\n",
    "for i1, n_ in enumerate(n):\n",
    "    \n",
    "    for i3, mat in enumerate(range(n_matrices)):\n",
    "        t0 = time.time()\n",
    "        for i2, k_ in enumerate(k):\n",
    "        \n",
    "            # Sample from Wishart distribution\n",
    "            matrix = wishart.rvs(n_, np.eye(p))\n",
    "                \n",
    "            # Define the submatrices C11 and C21\n",
    "            C11 = matrix[np.ix_(np.arange(k_, dtype=int), np.arange(k_, dtype=int))]\n",
    "            C21 = matrix[np.ix_(np.arange(k_, p, dtype=int), np.arange(k_, dtype = int))]\n",
    "                \n",
    "            # Calculate the irrepresentible constant for a fixed subset\n",
    "            irrep_const[i1, i2, i3] = np.max(C21 @ np.linalg.inv(C11))\n",
    "            # Calculate the subset eigenvalue bound\n",
    "            eig_bound[i1, i2, i3] = np.power(bound_eigenvalue(np.linalg.inv(matrix), k_), -1)"
   ]
  },
  {
   "cell_type": "code",
   "execution_count": null,
   "metadata": {},
   "outputs": [],
   "source": [
    "# Sample from exponential random graph model?"
   ]
  }
 ],
 "metadata": {
  "kernelspec": {
   "display_name": "Python 3",
   "language": "python",
   "name": "python3"
  }
 },
 "nbformat": 4,
 "nbformat_minor": 2
}
