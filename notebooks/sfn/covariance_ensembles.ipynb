{
 "cells": [
  {
   "cell_type": "code",
   "execution_count": 1,
   "metadata": {},
   "outputs": [],
   "source": [
    "%load_ext autoreload\n",
    "%autoreload 2"
   ]
  },
  {
   "cell_type": "code",
   "execution_count": 100,
   "metadata": {},
   "outputs": [],
   "source": [
    "# %load ../../loaders/imports.py\n",
    "import sys, os\n",
    "import numpy as np\n",
    "import matplotlib.pyplot as plt\n",
    "import time\n",
    "import pdb\n",
    "\n",
    "# Add the uoicorr directory to the path\n",
    "sys.path.append('../../../uoicorr_run')\n",
    "\n",
    "# Add the root directory of this repository\n",
    "sys.path.append('../..')\n",
    "\n",
    "from utils import gen_covariance, gen_beta2, gen_data, get_cov_list, sparsify_beta\n",
    "from utils import selection_accuracy\n",
    "from sklearn.linear_model import LassoLars, lasso_path, LinearRegression"
   ]
  },
  {
   "cell_type": "code",
   "execution_count": 3,
   "metadata": {},
   "outputs": [],
   "source": [
    "import itertools\n",
    "from scipy.sparse.linalg import eigsh\n",
    "from scipy import optimize"
   ]
  },
  {
   "cell_type": "code",
   "execution_count": 4,
   "metadata": {},
   "outputs": [],
   "source": [
    "def bound_eigenvalue(matrix, k):\n",
    "\n",
    "    # Will need the matrix to be symmetric\n",
    "    assert(np.allclose(matrix, matrix.T))\n",
    "    \n",
    "    t1 = time.time()\n",
    "    # Sort each row\n",
    "    ordering = np.argsort(np.abs(matrix), axis = 1)\n",
    "\n",
    "    # Change to descending order\n",
    "    ordering = np.fliplr(ordering)\n",
    "    \n",
    "    sorted_matrix = np.take_along_axis(np.abs(matrix), ordering, 1)\n",
    "\n",
    "    # Find the diagonal and move it first    \n",
    "    diagonal_locs = np.array([np.where(ordering[i, :] == i)[0][0] \n",
    "                              for i in range(ordering.shape[0])])\n",
    "    for (row, column) in zip(range(ordering.shape[0]), diagonal_locs):\n",
    "        sorted_matrix[row][:column+1] = np.roll(sorted_matrix[row][:column+1], 1)\n",
    "        \n",
    "    # Sum the first (k - 1) elements after the diagonal\n",
    "    row_sums = np.sum(sorted_matrix[:, 1:k], axis = 1)\n",
    "    diag = np.diagonal(matrix)\n",
    "    \n",
    "    # Evaluate all Bauer Cassini ovals\n",
    "    pairs = list(itertools.combinations(np.arange(matrix.shape[0]), 2))\n",
    "    # This takes a little bit of algebra\n",
    "    oval_edges = [(np.sqrt(row_sums[idx[0]] * row_sums[idx[1]] + 1/4 * (diag[idx[0]] - diag[idx[1]])**2) \\\n",
    "                 + 1/2 * (row_sums[idx[1]] + row_sums[idx[0]])) for idx in pairs]\n",
    "    \n",
    "    # Take the max. This is a bound for any conceivable eigenvalue\n",
    "    eig_bound1 = np.max(oval_edges)\n",
    "    t1 = time.time() - t1\n",
    "    \n",
    "    return eig_bound1"
   ]
  },
  {
   "cell_type": "code",
   "execution_count": 115,
   "metadata": {},
   "outputs": [],
   "source": [
    "# In contrast to bounding the eigenvalue, we explicitly fix the non-zero indices in advance, so we can just\n",
    "# explicitly calculate the eigenvalue bound\n",
    "def calc_eigenvalue(matrix, idxs):\n",
    "    \n",
    "    # Assemble the submatrix\n",
    "    submatrix = matrix[np.ix_(idxs, idxs)]\n",
    "    eig = eigsh(submatrix, k = 1, return_eigenvectors=False)[0]\n",
    "    \n",
    "    return eig"
   ]
  },
  {
   "cell_type": "code",
   "execution_count": 30,
   "metadata": {},
   "outputs": [],
   "source": [
    "# Quadratic programming solver with inequality constraints\n",
    "class quadprog(object):\n",
    "\n",
    "    def __init__(self, H, f, norm, x0, lb, ub):\n",
    "        self.H    = H\n",
    "        self.f    = f\n",
    "        self.norm = norm\n",
    "        self.x0   = x0\n",
    "        self.bnds = tuple([(lb, ub) for x in x0])\n",
    "        # call solver\n",
    "        self.result = self.solver()\n",
    "\n",
    "    def objective_function(self, x):\n",
    "        return 0.5*np.dot(np.dot(x.T, self.H), x) + np.dot(self.f.T, x)\n",
    "                                                                                                                                                                                                                                                                                                                                                                                                                                                                                                                                                                                                                                                     \n",
    "    def solver(self):\n",
    "        cons = ({'type': 'eq', 'fun': lambda x: self.norm - sum(x)})\n",
    "        optimum = optimize.minimize(self.objective_function, \n",
    "                                    x0          = self.x0.T,\n",
    "                                    bounds      = self.bnds,\n",
    "                                    constraints = cons, \n",
    "                                    tol         = 10**-3)\n",
    "        return optimum"
   ]
  },
  {
   "cell_type": "code",
   "execution_count": 44,
   "metadata": {},
   "outputs": [],
   "source": [
    "def bound_irrep_const(matrix, k):\n",
    "\n",
    "    # Heuristic worst-case subset : Set the true support to be the subspace that features the smallest sum of\n",
    "    # pairwise correlations.\n",
    "    \n",
    "    # Check against a small sized matrix (How close do we get?)\n",
    "    \n",
    "    matrix = np.abs(matrix)\n",
    "    p = matrix.shape[0]\n",
    "    # Follows: https://stats.stackexchange.com/questions/110426/least-correlated-subset-of-random-variables-from-a-correlation-matrix\n",
    "    # Use the above custom function for quadratic programming with lower/upper bounds\n",
    "       \n",
    "    qdprg = quadprog(matrix, np.zeros(p), k, np.random.random(p), 0, 1)\n",
    "    # Take the first k largest values to get subset indices\n",
    "    subset = np.argsort(qdprg.result.x)[-k:]\n",
    "    \n",
    "    subset_complement = np.setdiff1d(np.arange(p), subset)\n",
    "    \n",
    "    # Set C_11 to this subset\n",
    "    C11 = matrix[np.ix_(subset, subset)]\n",
    "   \n",
    "    C21 = matrix[np.ix_(subset_complement, subset)]\n",
    "    \n",
    "    # Calculate the resulting irrep. constant\n",
    "    eta = np.max(C21 @ np.linalg.inv(C11) @ np.ones(k))\n",
    "    subspace_correlations = np.sum(matrix[np.ix_(subset, subset)])    \n",
    "    return eta, subspace_correlations"
   ]
  },
  {
   "cell_type": "code",
   "execution_count": 120,
   "metadata": {},
   "outputs": [],
   "source": [
    "def calc_irrep_const(matrix, idxs):\n",
    "    \n",
    "    p = matrix.shape[0]\n",
    "    k = len(idxs)\n",
    "    idxs_complement = np.setdiff1d(np.arange(p), idxs)\n",
    "    \n",
    "    C11 = matrix[np.ix_(idxs, idxs)]\n",
    "    C21 = matrix[np.ix_(idxs_complement, idxs)]\n",
    "    \n",
    "    # Calculate the resulting irrep. constant\n",
    "    eta = np.max(C21 @ np.linalg.inv(C11) @ np.ones(k))\n",
    "\n",
    "    return eta"
   ]
  },
  {
   "cell_type": "code",
   "execution_count": 11,
   "metadata": {},
   "outputs": [],
   "source": [
    "from scipy.stats import wishart, invwishart\n",
    "from numpy.random import RandomState"
   ]
  },
  {
   "cell_type": "code",
   "execution_count": 7,
   "metadata": {},
   "outputs": [],
   "source": [
    "from utils import gen_covariance"
   ]
  },
  {
   "cell_type": "markdown",
   "metadata": {},
   "source": [
    "### Test the method for choosing an approximately \"worst case\" subset"
   ]
  },
  {
   "cell_type": "code",
   "execution_count": 8,
   "metadata": {},
   "outputs": [],
   "source": [
    "import scipy"
   ]
  },
  {
   "cell_type": "code",
   "execution_count": 47,
   "metadata": {},
   "outputs": [],
   "source": [
    "# Generate a Wishart matrix at random (20 x 20). Iterate through all subsets of size 5 and calculate the \n",
    "# irrep. constant and compare to the value we get when we use the bound_irrep_const function\n",
    "\n",
    "p = 20\n",
    "k = 5\n",
    "\n",
    "sigma = wishart.rvs(5 * p, np.eye(p))\n",
    "\n",
    "irrep_constants = np.zeros(int(scipy.special.binom(p, k)))\n",
    "subspace_correlations = np.zeros(int(scipy.special.binom(p, k)))\n",
    "\n",
    "for i, subset in enumerate(itertools.combinations(np.arange(p), k)):\n",
    "    irrep_constants[i] = calc_irrep_const(sigma, subset)\n",
    "    # Also calculate the pairwise correlations in this subspace\n",
    "    subspace_correlations[i] = np.sum(sigma[np.ix_(subset, subset)])\n",
    "       \n",
    "irrep_const_bound, min_subspace_corr = bound_irrep_const(sigma, k)"
   ]
  },
  {
   "cell_type": "code",
   "execution_count": 49,
   "metadata": {},
   "outputs": [
    {
     "data": {
      "text/plain": [
       "6422"
      ]
     },
     "execution_count": 49,
     "metadata": {},
     "output_type": "execute_result"
    }
   ],
   "source": [
    "np.argmax(irrep_constants)"
   ]
  },
  {
   "cell_type": "code",
   "execution_count": 53,
   "metadata": {},
   "outputs": [
    {
     "data": {
      "text/plain": [
       "277.31823098169116"
      ]
     },
     "execution_count": 53,
     "metadata": {},
     "output_type": "execute_result"
    }
   ],
   "source": [
    "min(subspace_correlations)"
   ]
  },
  {
   "cell_type": "code",
   "execution_count": 50,
   "metadata": {},
   "outputs": [
    {
     "data": {
      "text/plain": [
       "5924"
      ]
     },
     "execution_count": 50,
     "metadata": {},
     "output_type": "execute_result"
    }
   ],
   "source": [
    "np.argmin(subspace_correlations)"
   ]
  },
  {
   "cell_type": "code",
   "execution_count": 51,
   "metadata": {},
   "outputs": [
    {
     "data": {
      "text/plain": [
       "<matplotlib.collections.PathCollection at 0x7fdaec926f60>"
      ]
     },
     "execution_count": 51,
     "metadata": {},
     "output_type": "execute_result"
    },
    {
     "data": {
      "image/png": "[encoded data removed]",
      "text/plain": [
       "<Figure size 432x288 with 1 Axes>"
      ]
     },
     "metadata": {
      "needs_background": "light"
     },
     "output_type": "display_data"
    }
   ],
   "source": [
    "plt.scatter(irrep_constants, subspace_correlations)"
   ]
  },
  {
   "cell_type": "code",
   "execution_count": 43,
   "metadata": {},
   "outputs": [
    {
     "data": {
      "text/plain": [
       "(array([  88., 1234., 3955., 4540., 3134., 1550.,  681.,  249.,   65.,\n",
       "           8.]),\n",
       " array([0.06766438, 0.16047805, 0.25329172, 0.3461054 , 0.43891907,\n",
       "        0.53173274, 0.62454642, 0.71736009, 0.81017376, 0.90298743,\n",
       "        0.99580111]),\n",
       " <a list of 10 Patch objects>)"
      ]
     },
     "execution_count": 43,
     "metadata": {},
     "output_type": "execute_result"
    },
    {
     "data": {
      "image/png": "[encoded data removed]",
      "text/plain": [
       "<Figure size 432x288 with 1 Axes>"
      ]
     },
     "metadata": {
      "needs_background": "light"
     },
     "output_type": "display_data"
    }
   ],
   "source": [
    "plt.hist(irrep_constants)"
   ]
  },
  {
   "cell_type": "code",
   "execution_count": null,
   "metadata": {},
   "outputs": [],
   "source": [
    "# Verify the intuition that a Wishart matrix seeded with an exponential covariance matrix should be \n",
    "# approximately close to the banded structure"
   ]
  },
  {
   "cell_type": "code",
   "execution_count": 98,
   "metadata": {},
   "outputs": [],
   "source": [
    "wishart_exp = wishart.rvs(500, sigma_exp)"
   ]
  },
  {
   "cell_type": "markdown",
   "metadata": {},
   "source": [
    "### Generate an expanded ensemble to play with"
   ]
  },
  {
   "cell_type": "code",
   "execution_count": 123,
   "metadata": {},
   "outputs": [
    {
     "name": "stdout",
     "output_type": "stream",
     "text": [
      "63.60861587524414\n",
      "1/80\n",
      "59.49524641036987\n",
      "2/80\n",
      "54.26375865936279\n",
      "3/80\n",
      "49.9421751499176\n",
      "4/80\n",
      "56.537397146224976\n",
      "5/80\n",
      "54.58986687660217\n",
      "6/80\n",
      "51.74505090713501\n",
      "7/80\n",
      "56.19660544395447\n",
      "8/80\n",
      "55.38501739501953\n",
      "9/80\n",
      "50.9654438495636\n",
      "10/80\n",
      "57.250025510787964\n",
      "11/80\n",
      "54.831095933914185\n",
      "12/80\n",
      "50.47407126426697\n",
      "13/80\n",
      "55.8282527923584\n",
      "14/80\n",
      "55.50596070289612\n",
      "15/80\n",
      "53.0787239074707\n",
      "16/80\n",
      "55.943060874938965\n",
      "17/80\n",
      "55.019898891448975\n",
      "18/80\n",
      "54.91848683357239\n",
      "19/80\n",
      "49.79276084899902\n",
      "20/80\n",
      "50.59603762626648\n",
      "21/80\n",
      "56.88428735733032\n",
      "22/80\n",
      "55.63915491104126\n",
      "23/80\n",
      "56.60812997817993\n",
      "24/80\n",
      "56.98773241043091\n",
      "25/80\n",
      "52.438987255096436\n",
      "26/80\n",
      "50.830336809158325\n",
      "27/80\n",
      "56.56634545326233\n",
      "28/80\n",
      "55.704989433288574\n",
      "29/80\n",
      "52.32727074623108\n",
      "30/80\n",
      "50.75086259841919\n",
      "31/80\n",
      "55.49715542793274\n",
      "32/80\n",
      "60.97416949272156\n",
      "33/80\n",
      "54.456918716430664\n",
      "34/80\n",
      "57.10381865501404\n",
      "35/80\n",
      "55.667457580566406\n",
      "36/80\n",
      "57.0866801738739\n",
      "37/80\n",
      "55.77369689941406\n",
      "38/80\n",
      "51.23842406272888\n",
      "39/80\n",
      "57.482139587402344\n",
      "40/80\n",
      "56.30531311035156\n",
      "41/80\n",
      "50.640626192092896\n",
      "42/80\n",
      "56.83732008934021\n",
      "43/80\n",
      "51.9561288356781\n",
      "44/80\n",
      "59.017966747283936\n",
      "45/80\n",
      "54.37593388557434\n",
      "46/80\n",
      "49.95402693748474\n",
      "47/80\n",
      "55.66032099723816\n",
      "48/80\n",
      "55.483782052993774\n",
      "49/80\n",
      "50.56130075454712\n",
      "50/80\n",
      "55.54646062850952\n",
      "51/80\n",
      "55.25148415565491\n",
      "52/80\n",
      "55.750471353530884\n",
      "53/80\n",
      "55.42330574989319\n",
      "54/80\n",
      "50.6407732963562\n",
      "55/80\n",
      "57.00899577140808\n",
      "56/80\n",
      "55.56663632392883\n",
      "57/80\n",
      "50.95027279853821\n",
      "58/80\n",
      "57.01152729988098\n",
      "59/80\n",
      "56.074164628982544\n",
      "60/80\n",
      "54.61212110519409\n",
      "61/80\n",
      "56.40201258659363\n",
      "62/80\n",
      "59.84248208999634\n",
      "63/80\n",
      "51.667673110961914\n",
      "64/80\n",
      "57.877129316329956\n",
      "65/80\n",
      "56.78829765319824\n",
      "66/80\n",
      "51.83995866775513\n",
      "67/80\n",
      "58.21681571006775\n",
      "68/80\n",
      "57.61916899681091\n",
      "69/80\n",
      "54.957852840423584\n",
      "70/80\n",
      "50.2616171836853\n",
      "71/80\n",
      "50.27419996261597\n",
      "72/80\n",
      "55.9082396030426\n",
      "73/80\n",
      "56.83256697654724\n",
      "74/80\n",
      "55.24591541290283\n",
      "75/80\n",
      "55.523255825042725\n",
      "76/80\n",
      "50.14502263069153\n",
      "77/80\n",
      "50.516252517700195\n",
      "78/80\n",
      "56.09384107589722\n",
      "79/80\n",
      "56.595455169677734\n",
      "80/80\n"
     ]
    }
   ],
   "source": [
    "# generate the standard covariance ensemble\n",
    "p = 500\n",
    "n = 2000\n",
    "block_sizes = [25, 50, 100]\n",
    "# Block correlation\n",
    "correlation = [0, 0.08891397, 0.15811388, 0.28117066, 0.5]\n",
    "\n",
    "# Exponential length scales\n",
    "L = [10, 25, 50, 100]\n",
    "\n",
    "cov_list, _ = get_cov_list(p, 60, correlation, block_sizes, L, n_supplement = 20)\n",
    "\n",
    "cov_params = [{'correlation' : t[0], 'block_size' : t[1], 'L' : t[2], 't': t[3]} for t in cov_list]\n",
    "\n",
    "nreps = 500\n",
    "\n",
    "# Do not include fully dense model\n",
    "sparsity = np.logspace(np.log10(0.02), 0, 15)[:-1]\n",
    "\n",
    "rho = np.zeros((len(cov_params), nreps, sparsity.size))\n",
    "eta = np.zeros((len(cov_params), nreps, sparsity.size))        \n",
    "\n",
    "for i1, cov_param in enumerate(cov_params):\n",
    "    \n",
    "    t0 = time.time()\n",
    "    \n",
    "    # Generate 500 Wishart matrices seeded by this particular sigma\n",
    "    sigma = gen_covariance(p, **cov_param)\n",
    "    \n",
    "    for rep in range(nreps):\n",
    "        # Generate a random seed uniquely corresponding to combination of i1 and rep:\n",
    "        # Utilizes the Cantor pairing function\n",
    "        rand_seed = int(1/2 * (i1 + rep) * (i1 + rep + 1) + rep)\n",
    "        random_state = RandomState(rand_seed)\n",
    "            \n",
    "        sigma_rep = wishart.rvs(df=n, scale=sigma, random_state=random_state)\n",
    "        \n",
    "        for i3, s in enumerate(sparsity):\n",
    "            # Keep the nonzero components of beta fixed for each sparsity\n",
    "            # Here, we ensure that blocks are treated equally\n",
    "            \n",
    "            subset = sparsify_beta(np.ones((p, 1), dtype=int), block_size=cov_param['block_size'], \n",
    "                                   sparsity = s, seed = s).ravel()\n",
    "\n",
    "            if len(np.nonzero(subset)[0]) == 0:\n",
    "                rho[i1, rep, i3] = np.nan\n",
    "                eta[i1, rep, i3] = np.nan\n",
    "                continue\n",
    "                \n",
    "            else:\n",
    "                                \n",
    "                rho_ = 1/calc_eigenvalue(np.linalg.inv(sigma_rep), np.nonzero(subset)[0])\n",
    "                rho[i1, rep, i3] = rho_ \n",
    "\n",
    "                eta[i1, rep, i3] = calc_irrep_const(sigma_rep, np.nonzero(subset)[0])\n",
    "                \n",
    "    print(time.time() - t0)\n",
    "    \n",
    "    print('%d/%d' % (i1 + 1, len(cov_params)))\n",
    "    "
   ]
  },
  {
   "cell_type": "code",
   "execution_count": 125,
   "metadata": {},
   "outputs": [
    {
     "name": "stderr",
     "output_type": "stream",
     "text": [
      "/home/akumar/anaconda3/envs/nse/lib/python3.7/site-packages/numpy/lib/histograms.py:829: RuntimeWarning: invalid value encountered in greater_equal\n",
      "  keep = (tmp_a >= first_edge)\n",
      "/home/akumar/anaconda3/envs/nse/lib/python3.7/site-packages/numpy/lib/histograms.py:830: RuntimeWarning: invalid value encountered in less_equal\n",
      "  keep &= (tmp_a <= last_edge)\n"
     ]
    },
    {
     "data": {
      "text/plain": [
       "(array([ 89271., 107974.,  93887.,  79167.,  53218.,  37953.,  30887.,\n",
       "         16603.,   9605.,   2435.]),\n",
       " array([   4.26713925,  144.95504817,  285.6429571 ,  426.33086603,\n",
       "         567.01877495,  707.70668388,  848.39459281,  989.08250173,\n",
       "        1129.77041066, 1270.45831959, 1411.14622851]),\n",
       " <a list of 10 Patch objects>)"
      ]
     },
     "execution_count": 125,
     "metadata": {},
     "output_type": "execute_result"
    },
    {
     "data": {
      "image/png": "[encoded data removed]",
      "text/plain": [
       "<Figure size 432x288 with 1 Axes>"
      ]
     },
     "metadata": {
      "needs_background": "light"
     },
     "output_type": "display_data"
    }
   ],
   "source": [
    "plt.hist(rho.ravel())"
   ]
  },
  {
   "cell_type": "code",
   "execution_count": 126,
   "metadata": {},
   "outputs": [
    {
     "data": {
      "text/plain": [
       "(array([8.94600e+03, 1.82910e+04, 3.44450e+04, 6.66320e+04, 3.47759e+05,\n",
       "        4.21850e+04, 2.57500e+03, 1.44000e+02, 2.00000e+01, 3.00000e+00]),\n",
       " array([0.15389018, 0.36058903, 0.56728788, 0.77398673, 0.98068558,\n",
       "        1.18738443, 1.39408328, 1.60078213, 1.80748098, 2.01417983,\n",
       "        2.22087868]),\n",
       " <a list of 10 Patch objects>)"
      ]
     },
     "execution_count": 126,
     "metadata": {},
     "output_type": "execute_result"
    },
    {
     "data": {
      "image/png": "[encoded data removed]",
      "text/plain": [
       "<Figure size 432x288 with 1 Axes>"
      ]
     },
     "metadata": {
      "needs_background": "light"
     },
     "output_type": "display_data"
    }
   ],
   "source": [
    "plt.hist(eta.ravel())"
   ]
  },
  {
   "cell_type": "code",
   "execution_count": null,
   "metadata": {},
   "outputs": [],
   "source": []
  }
 ],
 "metadata": {
  "kernelspec": {
   "display_name": "Python 3",
   "language": "python",
   "name": "python3"
  },
  "language_info": {
   "codemirror_mode": {
    "name": "ipython",
    "version": 3
   },
   "file_extension": ".py",
   "mimetype": "text/x-python",
   "name": "python",
   "nbconvert_exporter": "python",
   "pygments_lexer": "ipython3",
   "version": "3.7.3"
  }
 },
 "nbformat": 4,
 "nbformat_minor": 2
}
