{
 "cells": [
  {
   "cell_type": "code",
   "execution_count": 1,
   "metadata": {},
   "outputs": [],
   "source": [
    "%load_ext autoreload\n",
    "%autoreload 2"
   ]
  },
  {
   "cell_type": "code",
   "execution_count": 2,
   "metadata": {},
   "outputs": [],
   "source": [
    "# %load ../../loaders/imports.py\n",
    "import sys, os\n",
    "import numpy as np\n",
    "import matplotlib.pyplot as plt\n",
    "import time\n",
    "import pdb\n",
    "\n",
    "# Add the uoicorr directory to the path\n",
    "sys.path.append('../../../uoicorr_run')\n",
    "\n",
    "# Add the root directory of this repository\n",
    "sys.path.append('../..')\n",
    "\n",
    "from utils import gen_covariance, gen_beta2, gen_data, get_cov_list\n",
    "from utils import selection_accuracy\n",
    "from sklearn.linear_model import LassoLars, lasso_path, LinearRegression"
   ]
  },
  {
   "cell_type": "markdown",
   "metadata": {},
   "source": [
    "In addition to the standard set of designs we have been considering, we must consider settings in which the (a) irrepresntible condition is violated with degrees of varying strength (generate random elements from the Wishart distribution)\n",
    "(b) Network structures of varying topologies\n",
    "(c) Inverse covariance matrix follows a Wishart distribution: use this to vary the eigenvalue bound on the covariance matrices \n",
    "(d) When interpolating between things, look to evenly populate the eigenvalue bound and the irrepresentible strength"
   ]
  },
  {
   "cell_type": "code",
   "execution_count": 7,
   "metadata": {},
   "outputs": [],
   "source": [
    "def bound_eigenvalue(matrix, k):\n",
    "    \n",
    "    # Sort each row\n",
    "    ordering = np.argsort(matrix, axis = 1)\n",
    "\n",
    "    # Change to descending order\n",
    "    ordering = np.fliplr(ordering)\n",
    "    \n",
    "    matrix = matrix[ordering]\n",
    "    # Find the diagonal and move it first\n",
    "    \n",
    "    diagonal_locs = np.array([np.where(ordering[i, :] == i)[0][0] \n",
    "                              for i in range(ordering.shape[0])])\n",
    "    for (row, column) in zip(range(ordering.shape[0]), diagonal_locs):\n",
    "        matrix[row][:column+1] = np.roll(matrix[row][:column+1], 1)\n",
    "            \n",
    "    # Sum the first k elements\n",
    "    row_sums = np.sum(matrix[:, 0:k], axis = 1)\n",
    "\n",
    "    # Evaluate all Bauer Cassini ovals\n",
    "    pairs = set(list(itertools.combinations(np.arange(p), 2)))\n",
    "    ovals = np.array([np.product(row_sums[idx]) for idx in pairs])\n",
    "    \n",
    "    # Take the max. This is a bound for any conceivable eigenvalue\n",
    "    eig_bound = np.max(ovals)\n",
    "    \n",
    "    return eig_bound"
   ]
  },
  {
   "cell_type": "markdown",
   "metadata": {},
   "source": [
    "#### Addressing part (a) by sampling from a Wishart distribution"
   ]
  },
  {
   "cell_type": "code",
   "execution_count": 4,
   "metadata": {},
   "outputs": [],
   "source": [
    "from scipy.stats import wishart, invwishart"
   ]
  },
  {
   "cell_type": "code",
   "execution_count": 6,
   "metadata": {},
   "outputs": [
    {
     "data": {
      "text/plain": [
       "(100, 100)"
      ]
     },
     "execution_count": 6,
     "metadata": {},
     "output_type": "execute_result"
    }
   ],
   "source": [
    "# Generate 1000 random matrices from Wishart_p(n). Keep p fixed at 500. Vary n over a few orders of magnitude\n",
    "# to see whether this changes the fraction of matrices that violate irrepresentibility\n",
    "\n",
    "# Vary the sparsity of the model. Assume all beta are positive. Calculate the irrepresentible constant\n",
    "\n",
    "n = [500, 1000, 5000, 10000]\n",
    "p = 500\n",
    "k = np.linspace(10, 500, 10)\n",
    "\n",
    "n_matrices = 1000\n",
    "\n",
    "irrep_const = np.zeros((len(n), len(k), n_matrices))\n",
    "eig_bound = np.zeros(irrep_const.shape)\n",
    "\n",
    "for i1, n_ in enumerate(n):\n",
    "    \n",
    "    for i3, mat in enumerate(range(n_matrices)):\n",
    "    \n",
    "        for i2, k_ in enumerate(k):\n",
    "        \n",
    "            # Sample from Wishart distribution\n",
    "            matrix = wishart.rvs(n_, np.eye(p))\n",
    "                \n",
    "            # Define the submatrices C11 and C21\n",
    "            C11 = matrix[np.ix_(np.arange(k_), np.arange(k_))]\n",
    "            C21 = matrix[np.ix_(np.arange(k_, p), np.arange(k_))]\n",
    "                \n",
    "            # Calculate the irrepresentible constant for a fixed subset\n",
    "            irrep_const[i1, i2, i3] = np.max(C21 @ np.linalg.inv(C11))\n",
    "            \n",
    "            # Calculate the subset eigenvalue bound\n",
    "            eig_bound[i1, i2, i3] = np.power(eig_bound(matrix, k_), -1)"
   ]
  },
  {
   "cell_type": "code",
   "execution_count": null,
   "metadata": {},
   "outputs": [],
   "source": []
  }
 ],
 "metadata": {
  "kernelspec": {
   "display_name": "Python 3",
   "language": "python",
   "name": "python3"
  },
  "language_info": {
   "codemirror_mode": {
    "name": "ipython",
    "version": 3
   },
   "file_extension": ".py",
   "mimetype": "text/x-python",
   "name": "python",
   "nbconvert_exporter": "python",
   "pygments_lexer": "ipython3",
   "version": "3.7.3"
  }
 },
 "nbformat": 4,
 "nbformat_minor": 2
}
