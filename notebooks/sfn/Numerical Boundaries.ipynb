{
 "cells": [
  {
   "cell_type": "code",
   "execution_count": 1,
   "metadata": {},
   "outputs": [],
   "source": [
    "%load_ext autoreload\n",
    "%autoreload 2"
   ]
  },
  {
   "cell_type": "code",
   "execution_count": 2,
   "metadata": {},
   "outputs": [],
   "source": [
    "# %load ../../loaders/imports.py\n",
    "import sys, os\n",
    "import numpy as np\n",
    "import matplotlib.pyplot as plt\n",
    "import time\n",
    "import pdb\n",
    "\n",
    "# Add the uoicorr directory to the path\n",
    "sys.path.append('../../../uoicorr_run')\n",
    "\n",
    "# Add the root directory of this repository\n",
    "sys.path.append('../..')"
   ]
  },
  {
   "cell_type": "code",
   "execution_count": 3,
   "metadata": {},
   "outputs": [],
   "source": [
    "from utils import gen_covariance, sparsify_beta\n",
    "from scipy.special import binom\n",
    "import itertools"
   ]
  },
  {
   "cell_type": "code",
   "execution_count": 4,
   "metadata": {},
   "outputs": [],
   "source": [
    "# Eq 14 in Wainwright\n",
    "def wgfunction(c1, p, k, beta_min, sigma, rho):\n",
    "    return (c1 + 2048) * max(np.log(binom(p -k, k)), np.log(p - k)/(rho * beta_min**2/sigma**2))"
   ]
  },
  {
   "cell_type": "code",
   "execution_count": 5,
   "metadata": {},
   "outputs": [],
   "source": [
    "def sgfunction(delta1, delta2, p, k, beta, sigma, rho):\n",
    "    gamma0 = np.log(1/np.unique(beta[np.nonzero(beta)]))\n",
    "    \n",
    "    # Sort beta\n",
    "    beta = np.sort(beta)\n",
    "    \n",
    "    # Iterate over all possible subset dimensions\n",
    "    nl = np.zeros(k - 1)    \n",
    "    for l in range(1, k):\n",
    "        # Find the magnitude of the first l components\n",
    "        beta_min = np.linalg.norm(beta[:l])**2\n",
    "        alpha = beta_min * rho/sigma**2\n",
    "        numerator = np.log(binom(p - k, l)) + 2 * np.log(k/delta1 * binom(k, l)) + gamma0\n",
    "        denominator = 1/2 * (1 + alpha**2) * (1 - delta2)\n",
    "        nl[l - 1] = numerator/denominator\n",
    "    return np.max(nl)"
   ]
  },
  {
   "cell_type": "code",
   "execution_count": 6,
   "metadata": {},
   "outputs": [],
   "source": [
    "def serror_fn(delta1, delta2, p, k, beta, sigma, rho):\n",
    "    \n",
    "    n = sgfunction(delta1, delta2, p, k, beta, sigma, rho)\n",
    "    beta = np.sort(beta)\n",
    "    perror = 0\n",
    "    for l in range(1, k):\n",
    "        bb = beta[beta != 0]\n",
    "        beta_min = np.linalg.norm(bb[:l])**2\n",
    "        alpha = beta_min * rho/sigma**2\n",
    "        error_exponent = -1/16 * (delta2 * n) * np.log(1 + alpha**2)**2\\\n",
    "        /(alpha * (1 + alpha)/(1 + alpha**2) * (8*(1 + alpha)/(1 + alpha**2) + delta2/2 * np.log(1 + alpha**2)))\n",
    "\n",
    "        perror += binom(k, l) * np.exp(error_exponent)\n",
    "        perror += 2 * delta1\n",
    "    return n, perror"
   ]
  },
  {
   "cell_type": "code",
   "execution_count": 7,
   "metadata": {},
   "outputs": [],
   "source": [
    "def bound_eigenvalue(matrix, k):\n",
    "    \n",
    "    # Sort each row\n",
    "    ordering = np.argsort(matrix, axis = 1)\n",
    "\n",
    "    # Change to descending order\n",
    "    ordering = np.fliplr(ordering)\n",
    "    \n",
    "    matrix = matrix[ordering]\n",
    "    # Find the diagonal and move it first\n",
    "    \n",
    "    diagonal_locs = np.array([np.where(ordering[i, :] == i)[0][0] \n",
    "                              for i in range(ordering.shape[0])])\n",
    "    for (row, column) in zip(range(ordering.shape[0]), diagonal_locs):\n",
    "        matrix[row][:column+1] = np.roll(matrix[row][:column+1], 1)\n",
    "            \n",
    "    # Sum the first k elements\n",
    "    row_sums = np.sum(matrix[:, 0:k], axis = 1)\n",
    "\n",
    "    # Evaluate all Bauer Cassini ovals\n",
    "    pairs = set(list(itertools.combinations(np.arange(p), 2)))\n",
    "    ovals = np.array([np.product(row_sums[idx]) for idx in pairs])\n",
    "    \n",
    "    # Take the max. This is a bound for any conceivable eigenvalue\n",
    "    eig_bound = np.max(ovals)\n",
    "    \n",
    "    return eig_bound"
   ]
  },
  {
   "cell_type": "markdown",
   "metadata": {},
   "source": [
    "### Wainwright calculation"
   ]
  },
  {
   "cell_type": "code",
   "execution_count": null,
   "metadata": {},
   "outputs": [
    {
     "name": "stdout",
     "output_type": "stream",
     "text": [
      "0\n",
      "535.273914 s\n",
      "1\n",
      "539.561484 s\n",
      "2\n",
      "542.402190 s\n",
      "3\n",
      "542.100997 s\n",
      "4\n",
      "549.844115 s\n",
      "5\n",
      "562.362405 s\n",
      "6\n",
      "567.371670 s\n",
      "7\n"
     ]
    }
   ],
   "source": [
    "# Wainwright calculation\n",
    "p = 500\n",
    "k = np.linspace(10, 200, 10, dtype=int)\n",
    "sigma = np.linspace(0.1, 5, 25)\n",
    "L = np.linspace(1, 50, 25)\n",
    "c1 = 1\n",
    "# Keep beta_min fixed.\n",
    "beta_min = 5\n",
    "beta = beta_min * np.ones(p)\n",
    "\n",
    "# Store the number of samples and the corresponding errors\n",
    "nw = np.zeros((k.size, sigma.size, L.size, 3, 5))\n",
    "werrors = np.zeros((k.size, sigma.size, L.size, 3, 5))\n",
    "\n",
    "for i1, k_ in enumerate(k):\n",
    "    print(i1) \n",
    "    t0 = time.time()        \n",
    "    for i2, ss in enumerate(sigma):\n",
    "        for i3, l in enumerate(L):\n",
    "            # Sparsify beta\n",
    "            bb = sparsify_beta(beta, p, k_/p, seed = 1234)\n",
    "            # Generate the appropriate covariance\n",
    "            Sigma = gen_covariance(p, 1, p, l, 1)\n",
    "            \n",
    "            # Bound the minimum shcur complement eigenvalue\n",
    "            inverse_eig_bound = bound_eigenvalue(np.linalg.inv(Sigma), k_)\n",
    "            eig_bound = 1/inverse_eig_bound\n",
    "            n_ = wgfunction(c1, p, k_, beta_min, np.sqrt(ss), eig_bound)\n",
    "            error_ = np.exp(-c1 * (n_ - k_))                \n",
    "            nw[i1, i2, i3] = n_\n",
    "            werrors[i1, i2, i3] = error_\n",
    "    print('%f s' % (time.time() - t0))\n"
   ]
  },
  {
   "cell_type": "code",
   "execution_count": 21,
   "metadata": {},
   "outputs": [
    {
     "name": "stdout",
     "output_type": "stream",
     "text": [
      "(0, 0, 0)\n"
     ]
    },
    {
     "name": "stderr",
     "output_type": "stream",
     "text": [
      "C:\\Users\\Ankit\\Miniconda3\\envs\\nse\\lib\\site-packages\\ipykernel_launcher.py:15: RuntimeWarning: divide by zero encountered in true_divide\n",
      "  from ipykernel import kernelapp as app\n"
     ]
    },
    {
     "name": "stdout",
     "output_type": "stream",
     "text": [
      "1.410229 s\n",
      "(0, 0, 1)\n",
      "1.442146 s\n",
      "(0, 1, 0)\n",
      "1.195804 s\n",
      "(0, 1, 1)\n",
      "1.397266 s\n",
      "(1, 0, 0)\n",
      "1.775258 s\n",
      "(1, 0, 1)\n",
      "1.368847 s\n",
      "(1, 1, 0)\n",
      "1.392279 s\n",
      "(1, 1, 1)\n",
      "1.548924 s\n"
     ]
    }
   ],
   "source": [
    "# Scarlett calculation...\n",
    "\n",
    "p = 500\n",
    "k = np.linspace(10, 200, 2, dtype=int)\n",
    "sigma = np.linspace(0.1, 5, 2)\n",
    "L = np.linspace(1, 50, 2)\n",
    "\n",
    "# Keep beta_min fixed.\n",
    "beta_min = 5\n",
    "beta = beta_min * np.ones(p)\n",
    "\n",
    "# Store the number of samples and the corresponding errors\n",
    "ns = np.zeros((k.size, sigma.size, L.size, 3, 5))\n",
    "serrors = np.zeros((k.size, sigma.size, L.size, 3, 5))\n",
    "\n",
    "for i1, k_ in enumerate(k):\n",
    "    for i2, ss in enumerate(sigma):\n",
    "        for i3, l in enumerate(L):\n",
    "            print((i1, i2, i3)) \n",
    "            t0 = time.time()\n",
    "            # Sparsify beta\n",
    "            bb = sparsify_beta(beta, p, k_/p, seed = 1234)\n",
    "            # Generate the appropriate covariance\n",
    "            Sigma = gen_covariance(p, 1, p, l, 1)\n",
    "            \n",
    "            # Bound the minimum shcur complement eigenvalue\n",
    "            inverse_eig_bound = bound_eigenvalue(np.linalg.inv(Sigma), k_)\n",
    "            eig_bound = 1/inverse_eig_bound\n",
    "                    \n",
    "            # Calculate the n threshold over a grid of delta1 and delta2:\n",
    "            delta1 = np.array([1/p, 1/(p**2), np.exp(-p)])\n",
    "            delta2 = np.linspace(0.001, 1, 5)\n",
    "            for didx1, d1 in enumerate(delta1): \n",
    "                for didx2, d2 in enumerate(delta2):\n",
    "                    n_, error_ = serror_fn(d1, d2, p, k_, bb, np.sqrt(ss), eig_bound)            \n",
    "                    ns[i1, i2, i3, didx1, didx2] = n_\n",
    "                    serrors[i1, i2, i3, didx1, didx2] = error_\n",
    "            print('%f s' % (time.time() - t0))\n",
    "#             ns[i1, i2, i3] = ns_\n",
    "#             serrors[i1, i2, i3] = serror_"
   ]
  },
  {
   "cell_type": "code",
   "execution_count": 23,
   "metadata": {},
   "outputs": [
    {
     "data": {
      "text/plain": [
       "array([[[[[  125.93401757,   167.91202342,   251.86803514,\n",
       "             503.73607027,            inf],\n",
       "          [  150.81733328,   201.0897777 ,   301.63466655,\n",
       "             603.26933311,            inf],\n",
       "          [ 2103.05270386,  2804.07027181,  4206.10540772,\n",
       "            8412.21081544,            inf]],\n",
       "\n",
       "         [[  125.93401757,   167.91202342,   251.86803514,\n",
       "             503.73607027,            inf],\n",
       "          [  150.81733328,   201.0897777 ,   301.63466655,\n",
       "             603.26933311,            inf],\n",
       "          [ 2103.05270386,  2804.07027181,  4206.10540772,\n",
       "            8412.21081544,            inf]]],\n",
       "\n",
       "\n",
       "        [[[  125.93401757,   167.91202342,   251.86803514,\n",
       "             503.73607027,            inf],\n",
       "          [  150.81733328,   201.0897777 ,   301.63466655,\n",
       "             603.26933311,            inf],\n",
       "          [ 2103.05270386,  2804.07027181,  4206.10540772,\n",
       "            8412.21081544,            inf]],\n",
       "\n",
       "         [[  125.93401757,   167.91202342,   251.86803514,\n",
       "             503.73607027,            inf],\n",
       "          [  150.81733328,   201.0897777 ,   301.63466655,\n",
       "             603.26933311,            inf],\n",
       "          [ 2103.05270386,  2804.07027181,  4206.10540772,\n",
       "            8412.21081544,            inf]]]],\n",
       "\n",
       "\n",
       "\n",
       "       [[[[  971.42281028,  1295.23041371,  1942.84562056,\n",
       "            3885.69124112,            inf],\n",
       "          [  996.30612599,  1328.40816799,  1992.61225198,\n",
       "            3985.22450396,            inf],\n",
       "          [ 2948.54149657,  3931.3886621 ,  5897.08299315,\n",
       "           11794.1659863 ,            inf]],\n",
       "\n",
       "         [[  971.42281028,  1295.23041371,  1942.84562056,\n",
       "            3885.69124112,            inf],\n",
       "          [  996.30612599,  1328.40816799,  1992.61225198,\n",
       "            3985.22450396,            inf],\n",
       "          [ 2948.54149657,  3931.3886621 ,  5897.08299315,\n",
       "           11794.1659863 ,            inf]]],\n",
       "\n",
       "\n",
       "        [[[  971.42281028,  1295.23041371,  1942.84562056,\n",
       "            3885.69124112,            inf],\n",
       "          [  996.30612599,  1328.40816799,  1992.61225198,\n",
       "            3985.22450396,            inf],\n",
       "          [ 2948.54149657,  3931.3886621 ,  5897.08299315,\n",
       "           11794.1659863 ,            inf]],\n",
       "\n",
       "         [[  971.42281028,  1295.23041371,  1942.84562056,\n",
       "            3885.69124112,            inf],\n",
       "          [  996.30612599,  1328.40816799,  1992.61225198,\n",
       "            3985.22450396,            inf],\n",
       "          [ 2948.54149657,  3931.3886621 ,  5897.08299315,\n",
       "           11794.1659863 ,            inf]]]]])"
      ]
     },
     "execution_count": 23,
     "metadata": {},
     "output_type": "execute_result"
    }
   ],
   "source": [
    "ns"
   ]
  },
  {
   "cell_type": "code",
   "execution_count": 24,
   "metadata": {},
   "outputs": [
    {
     "data": {
      "text/plain": [
       "array([[[[[3.60001281e-002, 3.60000000e-002, 3.60000000e-002,\n",
       "           3.60000000e-002, 3.60000000e-002],\n",
       "          [7.20035317e-005, 7.20000000e-005, 7.20000000e-005,\n",
       "           7.20000000e-005, 7.20000000e-005],\n",
       "          [1.57640732e-131, 1.28242375e-216, 1.28242375e-216,\n",
       "           1.28242375e-216, 1.28242375e-216]],\n",
       "\n",
       "         [[4.28565482e+002, 3.62177764e-002, 3.60000000e-002,\n",
       "           3.60000000e-002, 3.60000000e-002],\n",
       "          [3.69447437e+002, 9.81124620e-005, 7.20000001e-005,\n",
       "           7.20000000e-005, 7.20000000e-005],\n",
       "          [7.77983936e+000, 1.40107060e-077, 3.40504985e-197,\n",
       "           1.28242375e-216, 1.28242375e-216]]],\n",
       "\n",
       "\n",
       "        [[[5.78317443e+002, 6.27326153e-002, 3.60013458e-002,\n",
       "           3.60000000e-002, 3.60000000e-002],\n",
       "          [5.22259472e+002, 8.36382720e-003, 7.20590635e-005,\n",
       "           7.20000000e-005, 7.20000000e-005],\n",
       "          [1.84644620e+001, 1.07775175e-042, 1.80395177e-114,\n",
       "           1.28242375e-216, 1.28242375e-216]],\n",
       "\n",
       "         [[1.02194990e+003, 9.94009601e+002, 9.42012411e+002,\n",
       "           8.10219222e+002, 3.60000000e-002],\n",
       "          [1.02189696e+003, 9.88582256e+002, 9.27357403e+002,\n",
       "           7.76710923e+002, 7.20000000e-005],\n",
       "          [1.02056370e+003, 6.77546985e+002, 3.76011863e+002,\n",
       "           1.36860812e+002, 1.28242375e-216]]]],\n",
       "\n",
       "\n",
       "\n",
       "       [[[[7.96000000e-001, 7.96000000e-001, 7.96000000e-001,\n",
       "           7.96000000e-001, 7.96000000e-001],\n",
       "          [1.59200000e-003, 1.59200000e-003, 1.59200000e-003,\n",
       "           1.59200000e-003, 1.59200000e-003],\n",
       "          [3.23817415e-183, 2.83558141e-215, 2.83558141e-215,\n",
       "           2.83558141e-215, 2.83558141e-215]],\n",
       "\n",
       "         [[5.13391283e+007, 7.96000000e-001, 7.96000000e-001,\n",
       "           7.96000000e-001, 7.96000000e-001],\n",
       "          [3.32321685e+007, 1.59200000e-003, 1.59200000e-003,\n",
       "           1.59200000e-003, 1.59200000e-003],\n",
       "          [5.91904703e+002, 1.40632709e-107, 2.83558141e-215,\n",
       "           2.83558141e-215, 2.83558141e-215]]],\n",
       "\n",
       "\n",
       "        [[[2.79765719e+011, 7.96000000e-001, 7.96000000e-001,\n",
       "           7.96000000e-001, 7.96000000e-001],\n",
       "          [1.52203634e+011, 1.59200000e-003, 1.59200000e-003,\n",
       "           1.59200000e-003, 1.59200000e-003],\n",
       "          [1.79409131e+004, 1.14646974e-058, 2.67236693e-159,\n",
       "           2.83558141e-215, 2.83558141e-215]],\n",
       "\n",
       "         [[4.18302979e+059, 4.00007793e+025, 9.28316468e+017,\n",
       "           1.76217720e+012, 7.96000000e-001],\n",
       "          [4.04318706e+059, 2.44653214e+025, 6.49343233e+017,\n",
       "           1.35340938e+012, 1.59200000e-003],\n",
       "          [3.01373801e+058, 5.23162766e+017, 1.38234797e+012,\n",
       "           8.01491073e+007, 2.83558141e-215]]]]])"
      ]
     },
     "execution_count": 24,
     "metadata": {},
     "output_type": "execute_result"
    }
   ],
   "source": [
    "serrors"
   ]
  },
  {
   "cell_type": "code",
   "execution_count": 44,
   "metadata": {},
   "outputs": [
    {
     "data": {
      "image/png": "[encoded data removed]",
      "text/plain": [
       "<Figure size 720x2160 with 10 Axes>"
      ]
     },
     "metadata": {
      "needs_background": "light"
     },
     "output_type": "display_data"
    }
   ],
   "source": [
    "# For a few different sparsities, plot colormaps of n for different values of sigma and L:\n",
    "fig, ax = plt.subplots(5, 2, figsize = (10, 30))\n",
    "\n",
    "sparsities = [0, 1, 3, 5, 7, 9, 11, 13, 15, 17, 19]\n",
    "\n",
    "for i in range(10):\n",
    "    \n",
    "    a = ax[np.unravel_index(i, (5, 2))]\n",
    "    \n",
    "    a.pcolormesh(np.log(ng[sparsities[i], :, :]), vmin = 10,  vmax = 20)"
   ]
  },
  {
   "cell_type": "code",
   "execution_count": null,
   "metadata": {},
   "outputs": [],
   "source": [
    "# Now let's do the same non-asymptotic characterization for the more involved method"
   ]
  },
  {
   "cell_type": "code",
   "execution_count": 27,
   "metadata": {},
   "outputs": [],
   "source": [
    "from scipy.sparse.linalg import eigsh"
   ]
  },
  {
   "cell_type": "code",
   "execution_count": 28,
   "metadata": {},
   "outputs": [],
   "source": [
    "import itertools\n",
    "import time"
   ]
  },
  {
   "cell_type": "code",
   "execution_count": 41,
   "metadata": {},
   "outputs": [
    {
     "name": "stdout",
     "output_type": "stream",
     "text": [
      "0, time: 2.943030\n",
      "1, time: 2.953082\n",
      "2, time: 3.543841\n",
      "3, time: 2.949167\n",
      "4, time: 2.972614\n",
      "5, time: 3.078462\n",
      "6, time: 2.922796\n",
      "7, time: 3.179802\n",
      "8, time: 3.158143\n",
      "9, time: 2.850922\n",
      "10, time: 2.997545\n",
      "11, time: 2.903805\n",
      "12, time: 3.389719\n",
      "13, time: 3.141805\n",
      "14, time: 3.411254\n",
      "15, time: 2.951893\n",
      "16, time: 3.043934\n",
      "17, time: 5.991881\n",
      "18, time: 4.350265\n",
      "19, time: 5.469931\n",
      "20, time: 5.607200\n",
      "21, time: 4.959137\n",
      "22, time: 4.722726\n",
      "23, time: 5.067357\n",
      "24, time: 4.374766\n"
     ]
    }
   ],
   "source": [
    "# Let's evaluate how good the Cassini bounds are for 5x5 subblocks of 20x20 matrices\n",
    "\n",
    "n_matrices = 25\n",
    "\n",
    "lambda_max = np.zeros(n_matrices)\n",
    "lambda_max_est = np.zeros(n_matrices)\n",
    "\n",
    "p = 20\n",
    "k = 5\n",
    "\n",
    "for i in range(n_matrices):\n",
    "    t0 = time.time()\n",
    "    # Randomly generate a matrix\n",
    "    matrix = np.random.rand(p, p)\n",
    "    \n",
    "    # Set the diagonal to be all 1. This should keep things non-singular with high probability\n",
    "    np.fill_diagonal(matrix, 1)\n",
    "        \n",
    "    # Iterate over all possible 5x5 subblocks and get the corresponding minimum and maximum eigenvalues of the\n",
    "    # subblocks.\n",
    "    subsets = set(list(itertools.combinations(np.arange(p), k)))\n",
    "    \n",
    "    lmax = np.zeros(len(subsets))\n",
    "    \n",
    "    for j, ss in enumerate(subsets):\n",
    "        \n",
    "        # Calculate the largest and smallest eigenvalues of the sublock\n",
    "        subblock = matrix[np.ix_(ss, ss)]\n",
    "        lmax[j] = eigsh(subblock, k = 1, return_eigenvectors=False, which='LM')\n",
    "        \n",
    "    lambda_max[i] = np.max(lmax)\n",
    "    \n",
    "    # What are the corresponding estimates from Gershorgin?\n",
    "    lambda_max_est[i] = bound_eigenvalue(np.linalg.inv(matrix), k)\n",
    "    \n",
    "    print('%d, time: %f' % (i, time.time() - t0))"
   ]
  },
  {
   "cell_type": "code",
   "execution_count": 42,
   "metadata": {},
   "outputs": [
    {
     "data": {
      "text/plain": [
       "(array([5., 4., 1., 2., 4., 1., 3., 2., 1., 2.]),\n",
       " array([4.04181512, 4.07436625, 4.10691738, 4.13946851, 4.17201965,\n",
       "        4.20457078, 4.23712191, 4.26967304, 4.30222417, 4.33477531,\n",
       "        4.36732644]),\n",
       " <a list of 10 Patch objects>)"
      ]
     },
     "execution_count": 42,
     "metadata": {},
     "output_type": "execute_result"
    },
    {
     "data": {
      "image/png": "[encoded data removed]",
      "text/plain": [
       "<Figure size 432x288 with 1 Axes>"
      ]
     },
     "metadata": {
      "needs_background": "light"
     },
     "output_type": "display_data"
    }
   ],
   "source": [
    "plt.hist(lambda_max)"
   ]
  },
  {
   "cell_type": "code",
   "execution_count": 44,
   "metadata": {},
   "outputs": [
    {
     "data": {
      "text/plain": [
       "(array([24.,  0.,  0.,  0.,  0.,  0.,  0.,  0.,  0.,  1.]),\n",
       " array([-1.35749435e+00,  1.59866072e+02,  3.21089639e+02,  4.82313206e+02,\n",
       "         6.43536773e+02,  8.04760340e+02,  9.65983907e+02,  1.12720747e+03,\n",
       "         1.28843104e+03,  1.44965461e+03,  1.61087817e+03]),\n",
       " <a list of 10 Patch objects>)"
      ]
     },
     "execution_count": 44,
     "metadata": {},
     "output_type": "execute_result"
    },
    {
     "data": {
      "image/png": "[encoded data removed]",
      "text/plain": [
       "<Figure size 432x288 with 1 Axes>"
      ]
     },
     "metadata": {
      "needs_background": "light"
     },
     "output_type": "display_data"
    }
   ],
   "source": [
    "plt.hist(lambda_max_est - lambda_max)"
   ]
  }
 ],
 "metadata": {
  "kernelspec": {
   "display_name": "Python 3",
   "language": "python",
   "name": "python3"
  },
  "language_info": {
   "codemirror_mode": {
    "name": "ipython",
    "version": 3
   },
   "file_extension": ".py",
   "mimetype": "text/x-python",
   "name": "python",
   "nbconvert_exporter": "python",
   "pygments_lexer": "ipython3",
   "version": "3.7.3"
  }
 },
 "nbformat": 4,
 "nbformat_minor": 2
}
