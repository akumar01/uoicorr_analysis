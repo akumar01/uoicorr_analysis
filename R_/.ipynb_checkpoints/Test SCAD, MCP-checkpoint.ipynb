{
 "cells": [
  {
   "cell_type": "code",
   "execution_count": 7,
   "metadata": {},
   "outputs": [],
   "source": [
    "# %load ../loaders/imports.py\n",
    "import sys, os\n",
    "import numpy as np\n",
    "import matplotlib.pyplot as plt\n",
    "import itertools\n",
    "import time\n",
    "import pdb\n",
    "\n",
    "from sklearn.linear_model.coordinate_descent import _alpha_grid\n",
    "from sklearn.preprocessing import StandardScaler\n",
    "from sklearn.linear_model import LassoCV, ElasticNetCV\n",
    "\n",
    "from pyuoi.linear_model.cassolasso import PycLassoCV\n",
    "from pyuoi.linear_model.casso_en import PycElasticNetCV, UoI_ElasticNet\n",
    "\n",
    "sys.path.append('..')\n",
    "\n",
    "from utils import gen_covariance, gen_beta2, gen_data, get_cov_list\n",
    "from utils import selection_accuracy\n",
    "from results_manager import init_results_container, calc_path_result\n",
    "import pandas as pd\n",
    "import pycasso"
   ]
  },
  {
   "cell_type": "code",
   "execution_count": 8,
   "metadata": {},
   "outputs": [],
   "source": [
    "# Initialize R interface \n",
    "from rpy2.robjects.packages import importr\n",
    "ncvreg = importr('ncvreg')\n",
    "\n",
    "# Auto-convert numpy to R as needed\n",
    "from rpy2.robjects import numpy2ri\n",
    "numpy2ri.activate()\n",
    "\n",
    "# Call R\n",
    "import rpy2.robjects as robjects"
   ]
  },
  {
   "cell_type": "code",
   "execution_count": 9,
   "metadata": {},
   "outputs": [],
   "source": [
    "# Generate data that can be exported to R:\n",
    "\n",
    "n_features = 100\n",
    "n_samples = 400\n",
    "\n",
    "# 3 different covariance structures, 2 different signal to noise ratios, 2 different betawidths\n",
    "cov_params = [\n",
    "    {'correlation' : 0, 'block_size' : 100, 'L' : 1, 't' : 0},\n",
    "    {'correlation' : 0.33, 'block_size' : 10, 'L' : 1, 't' : 0},\n",
    "    {'correlation' : 0, 'block_size' : 100, 'L' : 5, 't' : 1},    \n",
    "]\n",
    "\n",
    "kappa = [100, 5]\n",
    "betawidth = [np.inf, 0]\n",
    "\n",
    "sparsity = np.linspace(0.1, 1, 10)\n",
    "\n",
    "iter_params = {'cov_params': cov_params, 'sparsity': sparsity, 'kappa': kappa, 'betawidth': betawidth}\n",
    "const_params = {'n_features': n_features, 'n_samples': 400}\n",
    "\n",
    "param_comb = list(itertools.product(*[iter_params[key] for key in iter_params.keys()]))\n",
    "\n",
    "final_params = []\n",
    "for i in range(len(param_comb)):\n",
    "    arg_dict = const_params.copy()\n",
    "    for j, key in enumerate(iter_params.keys()):\n",
    "        arg_dict[key] = param_comb[i][j]\n",
    "    arg_dict['index'] = i\n",
    "    final_params.append(arg_dict)\n",
    "\n",
    "final_params_rep = final_params * 5"
   ]
  },
  {
   "cell_type": "code",
   "execution_count": 10,
   "metadata": {},
   "outputs": [
    {
     "ename": "NameError",
     "evalue": "name 'mcp_alphas' is not defined",
     "output_type": "error",
     "traceback": [
      "\u001b[0;31m---------------------------------------------------------------------------\u001b[0m",
      "\u001b[0;31mNameError\u001b[0m                                 Traceback (most recent call last)",
      "\u001b[0;32m<ipython-input-10-e448351c72cc>\u001b[0m in \u001b[0;36m<module>\u001b[0;34m\u001b[0m\n\u001b[1;32m     43\u001b[0m                           \u001b[0mgamma\u001b[0m \u001b[0;34m=\u001b[0m \u001b[0;36m3\u001b[0m\u001b[0;34m,\u001b[0m\u001b[0;34m\u001b[0m\u001b[0;34m\u001b[0m\u001b[0m\n\u001b[1;32m     44\u001b[0m                           \u001b[0mpenalty\u001b[0m \u001b[0;34m=\u001b[0m \u001b[0;34m'mcp'\u001b[0m\u001b[0;34m,\u001b[0m\u001b[0;34m\u001b[0m\u001b[0;34m\u001b[0m\u001b[0m\n\u001b[0;32m---> 45\u001b[0;31m                           lambdas = mcp_alphas)\n\u001b[0m\u001b[1;32m     46\u001b[0m     \u001b[0mmcp1\u001b[0m\u001b[0;34m.\u001b[0m\u001b[0mtrain\u001b[0m\u001b[0;34m(\u001b[0m\u001b[0;34m)\u001b[0m\u001b[0;34m\u001b[0m\u001b[0;34m\u001b[0m\u001b[0m\n\u001b[1;32m     47\u001b[0m     \u001b[0mpyc_mcp_times\u001b[0m\u001b[0;34m[\u001b[0m\u001b[0mi\u001b[0m\u001b[0;34m]\u001b[0m \u001b[0;34m=\u001b[0m \u001b[0mtime\u001b[0m\u001b[0;34m.\u001b[0m\u001b[0mtime\u001b[0m\u001b[0;34m(\u001b[0m\u001b[0;34m)\u001b[0m \u001b[0;34m-\u001b[0m \u001b[0mt0\u001b[0m\u001b[0;34m\u001b[0m\u001b[0;34m\u001b[0m\u001b[0m\n",
      "\u001b[0;31mNameError\u001b[0m: name 'mcp_alphas' is not defined"
     ]
    }
   ],
   "source": [
    "# Execute the 4 algorithms of interest - benchmark against lasso\n",
    "fields = ['FNR', 'FPR', 'sa', 'ee', 'median_ee']\n",
    "selection_methods = ['lasso', 'pyc_mcp', 'r_mcp', 'pyc_scad', 'r_scad']\n",
    "results = init_results_container(selection_methods, fields, len(final_params_rep), n_features)\n",
    "\n",
    "lasso_times = np.zeros(len(final_params_rep))\n",
    "\n",
    "pyc_mcp_times = np.zeros(len(final_params_rep))\n",
    "r_mcp_times = np.zeros(len(final_params_rep))\n",
    "\n",
    "pyc_scad_times = np.zeros(len(final_params_rep))\n",
    "r_scad_times = np.zeros(len(final_params_rep))\n",
    "\n",
    "for i, p in enumerate(final_params_rep):\n",
    "    \n",
    "    # Store the parameters\n",
    "    for key, item in p.items():\n",
    "        results[key] = item\n",
    "    \n",
    "    sigma = gen_covariance(p['n_features'], **p['cov_params'])\n",
    "    beta = gen_beta2(p['n_features'], p['cov_params']['block_size'], sparsity = p['sparsity'], betawidth = p['betawidth'])\n",
    "    X, X_test, y, y_test, ss = gen_data(p['n_samples'], p['n_features'], kappa = p['kappa'], \n",
    "                                        covariance = sigma, beta = beta)\n",
    "    \n",
    "    X = StandardScaler().fit_transform(X)\n",
    "    y -= np.mean(y)\n",
    " \n",
    "\n",
    "    exp_results = []\n",
    "    \n",
    "    t0 = time.time()\n",
    "    lasso = pycasso.Solver(X, y, family = 'gaussian',\n",
    "                          useintercept = False,\n",
    "                          penalty = 'l1')\n",
    "    lasso.train()\n",
    "    lasso_times[i] = time.time() - t0\n",
    "    exp_results.append({})\n",
    "    exp_results[0]['coefs'] = lasso.result['beta']\n",
    "    \n",
    "    t0 = time.time()\n",
    "    mcp1 = pycasso.Solver(X, y, family = 'gaussian',\n",
    "                          useintercept = False, \n",
    "                          gamma = 3,\n",
    "                          penalty = 'mcp')\n",
    "    mcp1.train()\n",
    "    pyc_mcp_times[i] = time.time() - t0\n",
    "    exp_results.append({})\n",
    "    exp_results[1]['coefs'] = mcp1.result['beta']\n",
    "\n",
    "    mcp_alphas = mcp1.lambdas\n",
    "        \n",
    "    t0 = time.time()\n",
    "    mcp2 = ncvreg.ncvreg(X, y, family = 'gaussian', \n",
    "                         penalty = 'MCP', gamma = 3,\n",
    "                         **{'lambda' : mcp_alphas})\n",
    "    # Discard the intercept and transpose\n",
    "    mcp2_coefs = np.array(mcp2[0])[1:].T\n",
    "    r_mcp_times[i] = time.time() - t0    \n",
    "\n",
    "    exp_results.append({})\n",
    "    exp_results[2]['coefs'] = mcp2_coefs\n",
    "            \n",
    "    t0 = time.time()\n",
    "    scad1 = pycasso.Solver(X, y, family = 'gaussian',\n",
    "                          useintercept = False, \n",
    "                          gamma = 3.7,\n",
    "                          penalty = 'scad')\n",
    "    scad1.train()\n",
    "    pyc_scad_times[i] = time.time() - t0\n",
    "    exp_results.append({})\n",
    "    exp_results[3]['coefs'] = scad1.result['beta']\n",
    "    \n",
    "    scad_alphas = scad1.lambdas\n",
    "    \n",
    "    t0 = time.time()\n",
    "    scad2 = ncvreg.ncvreg(X, y, family = 'gaussian', penalty = 'SCAD', gamma = 3.7,\n",
    "                          **{'lambda' : scad_alphas})\n",
    "    # Discard the intercept and transpose\n",
    "    scad2_coefs = np.array(scad2[0])[1:].T\n",
    "    r_scad_times[i] = time.time() - t0    \n",
    "\n",
    "    exp_results.append({})\n",
    "    exp_results[4]['coefs'] = scad2_coefs.T\n",
    "\n",
    "    # perform calculations\n",
    "    for j, selection_method in enumerate(selection_methods):\n",
    "        for field in fields:\n",
    "            results[selection_method][field][i] = calc_path_result(X, X_test, y, y_test, \n",
    "                                                                   beta.ravel(), field, \n",
    "                                                                   exp_results[j])\n",
    "        \n",
    "    if i % 10 == 0:\n",
    "        print(i)"
   ]
  },
  {
   "cell_type": "code",
   "execution_count": 5,
   "metadata": {},
   "outputs": [],
   "source": [
    "final_params = pd.DataFrame(final_params)\n",
    "from misc import calc_avg_cov"
   ]
  },
  {
   "cell_type": "code",
   "execution_count": 6,
   "metadata": {},
   "outputs": [
    {
     "data": {
      "text/plain": [
       "<matplotlib.colorbar.Colorbar at 0x7f21fe7ae780>"
      ]
     },
     "execution_count": 6,
     "metadata": {},
     "output_type": "execute_result"
    },
    {
     "data": {
      "image/png": "[encoded data removed]",
      "text/plain": [
       "<Figure size 720x720 with 8 Axes>"
      ]
     },
     "metadata": {
      "needs_background": "light"
     },
     "output_type": "display_data"
    }
   ],
   "source": [
    "# Fix SNR, betawidth, and plot selection accuracy and estimation error\n",
    "d = final_params.loc[(final_params['kappa'] == 5) & (final_params['betawidth'] == np.inf)]\n",
    "\n",
    "# Plot colormaps of sparsity vs. average corrrelation\n",
    "sparsity = np.unique(d['sparsity'].values)\n",
    "\n",
    "# track differences between the two solvers\n",
    "lasso_sa_diff = np.zeros((10, 12))\n",
    "en_sa_diff = np.zeros((10, 12))\n",
    "\n",
    "lasso_ee_diff = np.zeros((10, 12))\n",
    "en_ee_diff = np.zeros((10, 12))\n",
    "\n",
    "for i, s in enumerate(sparsity):\n",
    "    dd = d.loc[d['sparsity'] == s]\n",
    "    \n",
    "    avg_cov = np.zeros(dd.shape[0])\n",
    "    \n",
    "    # calculate average covariance\n",
    "    for j in range(dd.shape[0]):\n",
    "        avg_cov[j] = calc_avg_cov(n_features, **dd.iloc[j]['cov_params'])\n",
    "    \n",
    "        lasso_sa_diff[i, j] = results['pyc_mcp']['sa'][dd.iloc[j]['index']] - \\\n",
    "                              results['r_mcp']['sa'][dd.iloc[j]['index']]\n",
    "    \n",
    "        en_sa_diff[i, j] =  results['pyc_scad']['sa'][dd.iloc[j]['index']] - \\\n",
    "                            results['r_scad']['sa'][dd.iloc[j]['index']]\n",
    "\n",
    "        lasso_ee_diff[i, j] = (results['pyc_mcp']['ee'][dd.iloc[j]['index']] - \\\n",
    "                              results['r_mcp']['ee'][dd.iloc[j]['index']])\\\n",
    "                              /results['pyc_mcp']['ee'][dd.iloc[j]['index']]\n",
    "    \n",
    "        en_ee_diff[i, j] =  (results['pyc_scad']['ee'][dd.iloc[j]['index']] - \\\n",
    "                            results['r_scad']['ee'][dd.iloc[j]['index']])\\\n",
    "                            /results['pyc_scad']['ee'][dd.iloc[j]['index']]\n",
    "\n",
    "\n",
    "fig, ax = plt.subplots(2, 2, figsize = (10, 10))\n",
    "\n",
    "a1 = ax[0, 0].pcolormesh(lasso_sa_diff)\n",
    "fig.colorbar(a1, ax = ax[0, 0])\n",
    "\n",
    "a2 = ax[0, 1].pcolormesh(lasso_ee_diff)\n",
    "fig.colorbar(a2, ax = ax[0, 1])\n",
    "\n",
    "a3 = ax[1, 0].pcolormesh(en_sa_diff)\n",
    "fig.colorbar(a3, ax = ax[1, 0])\n",
    "\n",
    "a4 = ax[1, 1].pcolormesh(en_ee_diff)\n",
    "fig.colorbar(a4, ax = ax[1, 1])"
   ]
  },
  {
   "cell_type": "code",
   "execution_count": 10,
   "metadata": {},
   "outputs": [],
   "source": [
    "x = np.array(scad2[0])"
   ]
  },
  {
   "cell_type": "code",
   "execution_count": 20,
   "metadata": {},
   "outputs": [
    {
     "data": {
      "text/plain": [
       "array([-4.01641057e-15,  1.44728847e+01,  3.88154930e+00, -1.05693970e+01,\n",
       "        1.10078132e+01, -5.48184123e+00,  1.10706148e+01,  4.09233478e+00,\n",
       "        3.87892098e+00,  5.69065178e+00,  4.04064932e+00,  1.03931061e+01,\n",
       "       -4.17612297e+00,  2.74211487e+00,  9.22734007e+00, -1.24983743e+00,\n",
       "        8.61965060e+00,  2.83119547e+00, -3.03209667e+00,  1.04538180e+01,\n",
       "        0.00000000e+00,  6.78451092e+00,  6.83145340e+00,  1.04820763e+01,\n",
       "       -8.72188012e+00,  2.27326310e+01,  2.17416605e+00,  2.26363375e+00,\n",
       "        2.05359682e+01, -1.39800686e+01,  7.22396441e+00,  1.29406629e-02,\n",
       "       -1.54834149e+00,  1.40519401e+01, -7.65715308e+00,  1.57263870e+01,\n",
       "        9.17100603e+00, -5.68097573e+00,  9.54111047e+00, -2.42421531e+00,\n",
       "        6.77885480e+00,  5.81257581e+00,  1.89493236e+01, -2.27797306e+00,\n",
       "        4.03064018e+00, -3.15379838e+00,  2.87634776e+00,  1.95452239e+01,\n",
       "        0.00000000e+00,  5.91504899e+00, -1.87444057e+00,  1.99183613e+01,\n",
       "       -9.99546634e+00,  1.17574704e+01,  6.29402110e+00,  4.96048700e+00,\n",
       "        1.08672675e+00,  3.73175391e+00, -4.70302599e+00,  3.23940744e+01,\n",
       "       -1.46459967e+01,  9.16605252e+00,  7.13475672e-04,  2.06454386e+00,\n",
       "        5.14558513e+00,  1.08359940e+01,  6.99849653e+00, -3.81279716e+00,\n",
       "        1.31061548e+01,  4.00049013e+00, -5.13312372e+00,  3.09306052e+00,\n",
       "        1.34674420e+01,  9.71311488e-01,  9.23573885e+00,  5.74847209e+00,\n",
       "        1.60176339e+00,  1.11449035e+01,  1.90992179e+01, -1.65452499e+01,\n",
       "        1.48796425e+01,  1.20172916e+01,  4.99085701e+00,  1.06875458e+00,\n",
       "       -2.38585806e+00,  2.12919446e+01,  1.64289842e+00, -1.04291071e+01,\n",
       "        2.47317416e+01, -7.41899857e+00,  6.23015954e+00,  7.77175105e+00,\n",
       "        6.89578886e+00, -4.66118996e+00,  7.71366308e+00,  5.71356434e+00,\n",
       "        2.64107821e+01, -6.48172568e+00, -1.38946119e+01,  2.20890242e+01,\n",
       "        6.20923358e+00])"
      ]
     },
     "execution_count": 20,
     "metadata": {},
     "output_type": "execute_result"
    }
   ],
   "source": [
    "x[:, 95]"
   ]
  },
  {
   "cell_type": "code",
   "execution_count": 15,
   "metadata": {},
   "outputs": [
    {
     "data": {
      "text/plain": [
       "0.0033053890864054363"
      ]
     },
     "execution_count": 15,
     "metadata": {},
     "output_type": "execute_result"
    }
   ],
   "source": [
    "np.mean(pyc_scad_times)"
   ]
  },
  {
   "cell_type": "code",
   "execution_count": 16,
   "metadata": {},
   "outputs": [
    {
     "data": {
      "text/plain": [
       "0.06608285665512086"
      ]
     },
     "execution_count": 16,
     "metadata": {},
     "output_type": "execute_result"
    }
   ],
   "source": [
    "np.mean(r_scad_times)"
   ]
  },
  {
   "cell_type": "code",
   "execution_count": 17,
   "metadata": {},
   "outputs": [
    {
     "data": {
      "text/plain": [
       "0.0028204262256622315"
      ]
     },
     "execution_count": 17,
     "metadata": {},
     "output_type": "execute_result"
    }
   ],
   "source": [
    "np.mean(pyc_mcp_times)"
   ]
  },
  {
   "cell_type": "code",
   "execution_count": 18,
   "metadata": {},
   "outputs": [
    {
     "data": {
      "text/plain": [
       "0.06775907397270203"
      ]
     },
     "execution_count": 18,
     "metadata": {},
     "output_type": "execute_result"
    }
   ],
   "source": [
    "np.mean(r_mcp_times)"
   ]
  },
  {
   "cell_type": "code",
   "execution_count": null,
   "metadata": {},
   "outputs": [],
   "source": []
  }
 ],
 "metadata": {
  "kernelspec": {
   "display_name": "Python 3",
   "language": "python",
   "name": "python3"
  },
  "language_info": {
   "codemirror_mode": {
    "name": "ipython",
    "version": 3
   },
   "file_extension": ".py",
   "mimetype": "text/x-python",
   "name": "python",
   "nbconvert_exporter": "python",
   "pygments_lexer": "ipython3",
   "version": "3.6.7"
  }
 },
 "nbformat": 4,
 "nbformat_minor": 2
}
