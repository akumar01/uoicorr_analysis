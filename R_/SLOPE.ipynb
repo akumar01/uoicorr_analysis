{
 "cells": [
  {
   "cell_type": "code",
   "execution_count": 4,
   "metadata": {},
   "outputs": [],
   "source": [
    "import sys, os\n",
    "import numpy as np \n",
    "import matplotlib.pyplot as plt\n",
    "import itertools\n",
    "import time\n",
    "import pdb\n",
    "\n",
    "sys.path.append('..')\n",
    "from utils import gen_covariance, gen_beta2, gen_data\n",
    "from utils import selection_accuracy"
   ]
  },
  {
   "cell_type": "code",
   "execution_count": 5,
   "metadata": {},
   "outputs": [
    {
     "name": "stderr",
     "output_type": "stream",
     "text": [
      "/home/akumar/anaconda3/envs/nse/lib/python3.6/site-packages/rpy2/rinterface/__init__.py:146: RRuntimeWarning: \n",
      "\n",
      "  warnings.warn(x, RRuntimeWarning)\n",
      "/home/akumar/anaconda3/envs/nse/lib/python3.6/site-packages/rpy2/rinterface/__init__.py:146: RRuntimeWarning: \n",
      "  warnings.warn(x, RRuntimeWarning)\n",
      "/home/akumar/anaconda3/envs/nse/lib/python3.6/site-packages/rpy2/rinterface/__init__.py:146: RRuntimeWarning: The downloaded source packages are in\n",
      "\t‘/tmp/RtmpEx9swm/downloaded_packages’\n",
      "  warnings.warn(x, RRuntimeWarning)\n",
      "/home/akumar/anaconda3/envs/nse/lib/python3.6/site-packages/rpy2/rinterface/__init__.py:146: RRuntimeWarning: Updating HTML index of packages in '.Library'\n",
      "\n",
      "  warnings.warn(x, RRuntimeWarning)\n",
      "/home/akumar/anaconda3/envs/nse/lib/python3.6/site-packages/rpy2/rinterface/__init__.py:146: RRuntimeWarning: Making 'packages.html' ...\n",
      "  warnings.warn(x, RRuntimeWarning)\n",
      "/home/akumar/anaconda3/envs/nse/lib/python3.6/site-packages/rpy2/rinterface/__init__.py:146: RRuntimeWarning:  done\n",
      "\n",
      "  warnings.warn(x, RRuntimeWarning)\n"
     ]
    },
    {
     "data": {
      "text/plain": [
       "rpy2.rinterface.NULL"
      ]
     },
     "execution_count": 5,
     "metadata": {},
     "output_type": "execute_result"
    }
   ],
   "source": [
    "# Install SLOPE package\n",
    "from rpy2.robjects.packages import importr\n",
    "utils = importr('utils')\n",
    "utils.install_packages('SLOPE')"
   ]
  },
  {
   "cell_type": "code",
   "execution_count": 6,
   "metadata": {},
   "outputs": [],
   "source": [
    "# Initialize R interface\n",
    "slope = importr('SLOPE')\n",
    "\n",
    "# Autoconvert numpy to R as needed\n",
    "from rpy2.robjects import numpy2ri\n",
    "numpy2ri.activate()"
   ]
  },
  {
   "cell_type": "code",
   "execution_count": 19,
   "metadata": {},
   "outputs": [],
   "source": [
    "# %load ../loaders/datgen.py\n",
    "from sklearn.preprocessing import StandardScaler\n",
    "\n",
    "n_features = 50\n",
    "n_samples = 150\n",
    "\n",
    "sigma = gen_covariance(n_features, 0, n_features, 1, 0)\n",
    "beta = gen_beta2(n_features, n_features, sparsity = 0.8, betawidth = np.inf)\n",
    "X, X_test, y, y_test, ss = gen_data(n_samples, n_features, kappa = 100, \n",
    "\t\t\t\t\t\t\t\t\tcovariance = sigma, beta = beta)\n",
    "\n",
    "X = StandardScaler().fit_transform(X)\n",
    "X_test = StandardScaler().fit_transform(X_test)\n",
    "\n",
    "y -= np.mean(y)\n",
    "y_test -= np.mean(y)"
   ]
  },
  {
   "cell_type": "code",
   "execution_count": 15,
   "metadata": {},
   "outputs": [],
   "source": [
    "from sklearn.linear_model import lasso_path"
   ]
  },
  {
   "cell_type": "code",
   "execution_count": 20,
   "metadata": {},
   "outputs": [
    {
     "name": "stdout",
     "output_type": "stream",
     "text": [
      "CPU times: user 299 ms, sys: 48 µs, total: 299 ms\n",
      "Wall time: 87 ms\n"
     ]
    },
    {
     "data": {
      "text/plain": [
       "(array([13.42529444, 12.52047453, 11.67663645, 10.88967023, 10.1557429 ,\n",
       "         9.47127982,  8.83294726,  8.23763618,  7.68244707,  7.16467585,\n",
       "         6.68180068,  6.23146967,  5.81148947,  5.41981453,  5.05453717,\n",
       "         4.71387829,  4.39617867,  4.09989094,  3.82357201,  3.56587605,\n",
       "         3.32554794,  3.10141714,  2.89239201,  2.69745447,  2.51565506,\n",
       "         2.34610833,  2.18798848,  2.04052538,  1.9030008 ,  1.77474491,\n",
       "         1.65513305,  1.54358262,  1.43955032,  1.34252944,  1.25204745,\n",
       "         1.16766364,  1.08896702,  1.01557429,  0.94712798,  0.88329473,\n",
       "         0.82376362,  0.76824471,  0.71646759,  0.66818007,  0.62314697,\n",
       "         0.58114895,  0.54198145,  0.50545372,  0.47138783,  0.43961787,\n",
       "         0.40998909,  0.3823572 ,  0.35658761,  0.33255479,  0.31014171,\n",
       "         0.2892392 ,  0.26974545,  0.25156551,  0.23461083,  0.21879885,\n",
       "         0.20405254,  0.19030008,  0.17747449,  0.1655133 ,  0.15435826,\n",
       "         0.14395503,  0.13425294,  0.12520475,  0.11676636,  0.1088967 ,\n",
       "         0.10155743,  0.0947128 ,  0.08832947,  0.08237636,  0.07682447,\n",
       "         0.07164676,  0.06681801,  0.0623147 ,  0.05811489,  0.05419815,\n",
       "         0.05054537,  0.04713878,  0.04396179,  0.04099891,  0.03823572,\n",
       "         0.03565876,  0.03325548,  0.03101417,  0.02892392,  0.02697454,\n",
       "         0.02515655,  0.02346108,  0.02187988,  0.02040525,  0.01903001,\n",
       "         0.01774745,  0.01655133,  0.01543583,  0.0143955 ,  0.01342529]),\n",
       " array([[[ 0.        ,  0.        ,  0.        , ...,  8.55935202,\n",
       "           8.55950703,  8.5596516 ],\n",
       "         [ 0.        ,  0.        ,  0.        , ...,  6.81472759,\n",
       "           6.81616083,  6.81749748],\n",
       "         [ 0.        ,  0.        ,  0.        , ...,  0.81260899,\n",
       "           0.81423758,  0.81575642],\n",
       "         ...,\n",
       "         [-0.        , -0.        , -0.        , ...,  0.17076782,\n",
       "           0.17223347,  0.17360034],\n",
       "         [ 0.        ,  0.        ,  0.        , ...,  0.76287824,\n",
       "           0.76481252,  0.76661643],\n",
       "         [ 0.        ,  0.        ,  0.        , ...,  5.40219708,\n",
       "           5.40314847,  5.40403575]]]),\n",
       " array([5.82076609e-11, 2.33773317e-05, 1.05027197e-04, 1.41278113e-04,\n",
       "        1.06912630e-05, 1.71887092e-02, 1.28736757e-02, 2.52808273e-02,\n",
       "        4.29966074e-02, 4.09920415e-02, 3.28328109e-01, 1.55048714e-01,\n",
       "        5.03128046e-01, 6.05284027e-01, 5.87656106e-01, 7.17956477e-01,\n",
       "        7.51341741e-01, 7.44528099e-01, 7.32477668e-01, 5.44959428e-01,\n",
       "        1.02543656e+00, 1.04646909e+00, 1.49550151e+00, 5.62124253e-01,\n",
       "        1.62271047e+00, 1.04405664e+00, 1.94911957e+00, 1.88460189e+00,\n",
       "        1.82951731e+00, 1.94446103e+00, 1.98296421e+00, 1.98073101e+00,\n",
       "        1.58760393e+00, 1.42770865e+00, 1.30192505e+00, 1.23990483e+00,\n",
       "        2.48886104e+00, 3.08056222e+00, 2.92605886e+00, 2.77507949e+00,\n",
       "        2.62825562e+00, 2.48609035e+00, 2.31303996e+00, 2.48945163e+00,\n",
       "        2.37012548e+00, 2.18044899e+00, 2.17290640e+00, 5.27205446e+00,\n",
       "        4.41495853e+00, 3.17495830e+00, 3.73278034e+00, 3.51409929e+00,\n",
       "        3.29845499e+00, 3.09449990e+00, 2.90190024e+00, 2.76307144e+00,\n",
       "        3.04043613e+00, 3.20592560e+00, 5.45591616e+00, 9.27600098e+00,\n",
       "        9.07003132e+00, 8.75222833e+00, 8.21747678e+00, 7.69147157e+00,\n",
       "        7.19668968e+00, 6.73217752e+00, 6.29631234e+00, 4.60000507e+00,\n",
       "        4.85476959e+00, 4.56283758e+00, 7.34453861e+00, 7.00281535e+00,\n",
       "        6.55238968e+00, 6.12231727e+00, 5.45885997e+00, 4.96044836e+00,\n",
       "        5.20778536e+00, 5.02117548e+00, 4.71703220e+00, 1.01266494e+01,\n",
       "        9.70209358e+00, 9.09581092e+00, 8.49836725e+00, 7.93563133e+00,\n",
       "        7.40920045e+00, 6.91728509e+00, 6.60120161e+00, 6.58262180e+00,\n",
       "        6.13270138e+00, 5.72261822e+00, 1.17460179e+01, 1.15146770e+01,\n",
       "        1.08333077e+01, 1.01358529e+01, 9.47175249e+00, 8.84885769e+00,\n",
       "        8.26676976e+00, 7.72333192e+00, 7.21611546e+00, 6.74275480e+00]))"
      ]
     },
     "execution_count": 20,
     "metadata": {},
     "output_type": "execute_result"
    }
   ],
   "source": [
    "# Benchmark against Lasso with coordinate_descent\n",
    "%time lasso_path(X, y)"
   ]
  },
  {
   "cell_type": "code",
   "execution_count": 23,
   "metadata": {},
   "outputs": [
    {
     "name": "stdout",
     "output_type": "stream",
     "text": [
      "CPU times: user 170 ms, sys: 0 ns, total: 170 ms\n",
      "Wall time: 63.5 ms\n"
     ]
    }
   ],
   "source": [
    "%time x = slope.SLOPE(X, y)"
   ]
  },
  {
   "cell_type": "code",
   "execution_count": 32,
   "metadata": {},
   "outputs": [
    {
     "data": {
      "text/plain": [
       "(50,)"
      ]
     },
     "execution_count": 32,
     "metadata": {},
     "output_type": "execute_result"
    }
   ],
   "source": [
    "np.array(x[4]).shape"
   ]
  },
  {
   "cell_type": "code",
   "execution_count": 33,
   "metadata": {},
   "outputs": [],
   "source": [
    "import pycasso"
   ]
  },
  {
   "cell_type": "code",
   "execution_count": 39,
   "metadata": {},
   "outputs": [],
   "source": [
    "s1 = pycasso.Solver(X, y, family = 'gaussian', useintercept = False, penalty = 'scad')\n",
    "s2 = pycasso.Solver(X, y, family = 'gaussian', useintercept = False, penalty = 'mcp')\n",
    "s3 = pycasso.Solver(X, y, family = 'gaussian', useintercept = False, penalty = 'l1')"
   ]
  },
  {
   "cell_type": "code",
   "execution_count": 41,
   "metadata": {},
   "outputs": [
    {
     "name": "stdout",
     "output_type": "stream",
     "text": [
      "713 µs ± 1.29 µs per loop (mean ± std. dev. of 7 runs, 1000 loops each)\n"
     ]
    }
   ],
   "source": [
    "%timeit s1.train()"
   ]
  },
  {
   "cell_type": "code",
   "execution_count": 42,
   "metadata": {},
   "outputs": [
    {
     "name": "stdout",
     "output_type": "stream",
     "text": [
      "650 µs ± 1.27 µs per loop (mean ± std. dev. of 7 runs, 1000 loops each)\n"
     ]
    }
   ],
   "source": [
    "%timeit s2.train()"
   ]
  },
  {
   "cell_type": "code",
   "execution_count": 40,
   "metadata": {},
   "outputs": [
    {
     "name": "stdout",
     "output_type": "stream",
     "text": [
      "642 µs ± 1.13 µs per loop (mean ± std. dev. of 7 runs, 1000 loops each)\n"
     ]
    }
   ],
   "source": [
    "%timeit s3.train()"
   ]
  },
  {
   "cell_type": "code",
   "execution_count": 44,
   "metadata": {},
   "outputs": [
    {
     "data": {
      "text/plain": [
       "'/home/akumar/nse/test.dat'"
      ]
     },
     "execution_count": 44,
     "metadata": {},
     "output_type": "execute_result"
    }
   ],
   "source": [
    "os.path.abspath(os.path.join('/home/akumar/nse/uoicorr', '..', 'test.dat'))"
   ]
  },
  {
   "cell_type": "code",
   "execution_count": null,
   "metadata": {},
   "outputs": [],
   "source": []
  }
 ],
 "metadata": {
  "kernelspec": {
   "display_name": "Python 3",
   "language": "python",
   "name": "python3"
  },
  "language_info": {
   "codemirror_mode": {
    "name": "ipython",
    "version": 3
   },
   "file_extension": ".py",
   "mimetype": "text/x-python",
   "name": "python",
   "nbconvert_exporter": "python",
   "pygments_lexer": "ipython3",
   "version": "3.6.7"
  }
 },
 "nbformat": 4,
 "nbformat_minor": 2
}
