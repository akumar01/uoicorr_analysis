{
 "cells": [
  {
   "cell_type": "code",
   "execution_count": 4,
   "metadata": {},
   "outputs": [],
   "source": [
    "# %load ../loaders/imports.py\n",
    "import sys, os\n",
    "import numpy as np\n",
    "import matplotlib.pyplot as plt\n",
    "import time\n",
    "import pdb\n",
    "\n",
    "sys.path.append('..')\n",
    "\n",
    "from utils import gen_covariance, gen_beta2, gen_data, get_cov_list\n",
    "from utils import selection_accuracy, estimation_error\n",
    "from sklearn.linear_model import LassoLars, lasso_path, LinearRegression\n",
    "\n",
    "from pyuoi.linear_model import UoI_Lasso\n",
    "#from pyuoi.linear_model import cassolasso\n",
    "from sklearn.preprocessing import StandardScaler\n",
    "from sklearn.metrics import r2_score"
   ]
  },
  {
   "cell_type": "code",
   "execution_count": 2,
   "metadata": {},
   "outputs": [],
   "source": [
    "# %load ../loaders/datgen.py\n",
    "n_features = 50\n",
    "n_samples = 200\n",
    "\n",
    "sigma = gen_covariance(n_features, 0.25, 100, 1, 0)\n",
    "beta = gen_beta2(n_features, n_features, sparsity = 0.2, betawidth = np.inf)\n",
    "X, X_test, y, y_test, ss = gen_data(n_samples, n_features, kappa = 100, \n",
    "\t\t\t\t\t\t\t\t\tcovariance = sigma, beta = beta)\n",
    "\n",
    "X = StandardScaler().fit_transform(X)\n",
    "y -= np.mean(y)"
   ]
  },
  {
   "cell_type": "code",
   "execution_count": 3,
   "metadata": {},
   "outputs": [],
   "source": [
    "uoi1 = UoI_Lasso()\n",
    "uoi2 = cassolasso.UoI_Lasso()"
   ]
  },
  {
   "cell_type": "code",
   "execution_count": 4,
   "metadata": {},
   "outputs": [],
   "source": [
    "# Time execution\n",
    "# %time uoi1.fit(X, y.ravel())"
   ]
  },
  {
   "cell_type": "code",
   "execution_count": 5,
   "metadata": {},
   "outputs": [],
   "source": [
    "# %time uoi2.fit(X, y.ravel())"
   ]
  },
  {
   "cell_type": "code",
   "execution_count": 6,
   "metadata": {},
   "outputs": [
    {
     "ename": "KeyboardInterrupt",
     "evalue": "",
     "output_type": "error",
     "traceback": [
      "\u001b[0;31m---------------------------------------------------------------------------\u001b[0m",
      "\u001b[0;31mKeyboardInterrupt\u001b[0m                         Traceback (most recent call last)",
      "\u001b[0;32m<ipython-input-6-b00b8ce3a296>\u001b[0m in \u001b[0;36m<module>\u001b[0;34m\u001b[0m\n\u001b[1;32m      4\u001b[0m \u001b[0muoi2\u001b[0m \u001b[0;34m=\u001b[0m \u001b[0mcassolasso\u001b[0m\u001b[0;34m.\u001b[0m\u001b[0mUoI_Lasso\u001b[0m\u001b[0;34m(\u001b[0m\u001b[0mfit_intercept\u001b[0m \u001b[0;34m=\u001b[0m \u001b[0;32mFalse\u001b[0m\u001b[0;34m,\u001b[0m \u001b[0mrandom_state\u001b[0m \u001b[0;34m=\u001b[0m \u001b[0mrandom_state\u001b[0m\u001b[0;34m)\u001b[0m\u001b[0;34m\u001b[0m\u001b[0;34m\u001b[0m\u001b[0m\n\u001b[1;32m      5\u001b[0m \u001b[0;34m\u001b[0m\u001b[0m\n\u001b[0;32m----> 6\u001b[0;31m \u001b[0muoi1\u001b[0m\u001b[0;34m.\u001b[0m\u001b[0mfit\u001b[0m\u001b[0;34m(\u001b[0m\u001b[0mX\u001b[0m\u001b[0;34m,\u001b[0m \u001b[0my\u001b[0m\u001b[0;34m)\u001b[0m\u001b[0;34m\u001b[0m\u001b[0;34m\u001b[0m\u001b[0m\n\u001b[0m\u001b[1;32m      7\u001b[0m \u001b[0muoi2\u001b[0m\u001b[0;34m.\u001b[0m\u001b[0mfit\u001b[0m\u001b[0;34m(\u001b[0m\u001b[0mX\u001b[0m\u001b[0;34m,\u001b[0m \u001b[0my\u001b[0m\u001b[0;34m)\u001b[0m\u001b[0;34m\u001b[0m\u001b[0;34m\u001b[0m\u001b[0m\n",
      "\u001b[0;32m~/nse/PyUoI/pyuoi/linear_model/base.py\u001b[0m in \u001b[0;36mfit\u001b[0;34m(self, X, y, stratify, verbose)\u001b[0m\n\u001b[1;32m    476\u001b[0m \u001b[0;34m\u001b[0m\u001b[0m\n\u001b[1;32m    477\u001b[0m         \u001b[0;31m# Selection module\u001b[0m\u001b[0;34m\u001b[0m\u001b[0;34m\u001b[0m\u001b[0;34m\u001b[0m\u001b[0m\n\u001b[0;32m--> 478\u001b[0;31m         \u001b[0mself\u001b[0m\u001b[0;34m.\u001b[0m\u001b[0mselection\u001b[0m\u001b[0;34m(\u001b[0m\u001b[0mX\u001b[0m\u001b[0;34m,\u001b[0m \u001b[0my\u001b[0m\u001b[0;34m,\u001b[0m \u001b[0mstratify\u001b[0m\u001b[0;34m,\u001b[0m \u001b[0mverbose\u001b[0m\u001b[0;34m)\u001b[0m\u001b[0;34m\u001b[0m\u001b[0;34m\u001b[0m\u001b[0m\n\u001b[0m\u001b[1;32m    479\u001b[0m \u001b[0;34m\u001b[0m\u001b[0m\n\u001b[1;32m    480\u001b[0m         \u001b[0;31m# Estimation module\u001b[0m\u001b[0;34m\u001b[0m\u001b[0;34m\u001b[0m\u001b[0;34m\u001b[0m\u001b[0m\n",
      "\u001b[0;32m~/nse/PyUoI/pyuoi/linear_model/base.py\u001b[0m in \u001b[0;36mselection\u001b[0;34m(self, X, y, stratify, verbose)\u001b[0m\n\u001b[1;32m    282\u001b[0m                 \u001b[0mself\u001b[0m\u001b[0;34m.\u001b[0m\u001b[0m_logger\u001b[0m\u001b[0;34m.\u001b[0m\u001b[0minfo\u001b[0m\u001b[0;34m(\u001b[0m\u001b[0;34m\"selection bootstrap %d\"\u001b[0m \u001b[0;34m%\u001b[0m \u001b[0;34m(\u001b[0m\u001b[0mboot_idx\u001b[0m\u001b[0;34m)\u001b[0m\u001b[0;34m)\u001b[0m\u001b[0;34m\u001b[0m\u001b[0;34m\u001b[0m\u001b[0m\n\u001b[1;32m    283\u001b[0m             selection_coefs[ii] = np.squeeze(\n\u001b[0;32m--> 284\u001b[0;31m                 self.uoi_selection_sweep(X_rep, y_rep, my_reg_params))\n\u001b[0m\u001b[1;32m    285\u001b[0m \u001b[0;34m\u001b[0m\u001b[0m\n\u001b[1;32m    286\u001b[0m         \u001b[0;31m# if distributed, gather selection coefficients to 0,\u001b[0m\u001b[0;34m\u001b[0m\u001b[0;34m\u001b[0m\u001b[0;34m\u001b[0m\u001b[0m\n",
      "\u001b[0;32m~/nse/PyUoI/pyuoi/linear_model/base.py\u001b[0m in \u001b[0;36muoi_selection_sweep\u001b[0;34m(self, X, y, reg_param_values)\u001b[0m\n\u001b[1;32m    517\u001b[0m             \u001b[0mself\u001b[0m\u001b[0;34m.\u001b[0m\u001b[0m_selection_lm\u001b[0m\u001b[0;34m.\u001b[0m\u001b[0mset_params\u001b[0m\u001b[0;34m(\u001b[0m\u001b[0;34m**\u001b[0m\u001b[0mreg_params\u001b[0m\u001b[0;34m)\u001b[0m\u001b[0;34m\u001b[0m\u001b[0;34m\u001b[0m\u001b[0m\n\u001b[1;32m    518\u001b[0m             \u001b[0;31m# rerun fit\u001b[0m\u001b[0;34m\u001b[0m\u001b[0;34m\u001b[0m\u001b[0;34m\u001b[0m\u001b[0m\n\u001b[0;32m--> 519\u001b[0;31m             \u001b[0mself\u001b[0m\u001b[0;34m.\u001b[0m\u001b[0m_selection_lm\u001b[0m\u001b[0;34m.\u001b[0m\u001b[0mfit\u001b[0m\u001b[0;34m(\u001b[0m\u001b[0mX\u001b[0m\u001b[0;34m,\u001b[0m \u001b[0my\u001b[0m\u001b[0;34m)\u001b[0m\u001b[0;34m\u001b[0m\u001b[0;34m\u001b[0m\u001b[0m\n\u001b[0m\u001b[1;32m    520\u001b[0m             \u001b[0;31m# store coefficients\u001b[0m\u001b[0;34m\u001b[0m\u001b[0;34m\u001b[0m\u001b[0;34m\u001b[0m\u001b[0m\n\u001b[1;32m    521\u001b[0m             \u001b[0mcoefs\u001b[0m\u001b[0;34m[\u001b[0m\u001b[0mreg_param_idx\u001b[0m\u001b[0;34m]\u001b[0m \u001b[0;34m=\u001b[0m \u001b[0mself\u001b[0m\u001b[0;34m.\u001b[0m\u001b[0m_selection_lm\u001b[0m\u001b[0;34m.\u001b[0m\u001b[0mcoef_\u001b[0m\u001b[0;34m.\u001b[0m\u001b[0mravel\u001b[0m\u001b[0;34m(\u001b[0m\u001b[0;34m)\u001b[0m\u001b[0;34m\u001b[0m\u001b[0;34m\u001b[0m\u001b[0m\n",
      "\u001b[0;32m~/anaconda3/envs/nse/lib/python3.6/site-packages/sklearn/linear_model/coordinate_descent.py\u001b[0m in \u001b[0;36mfit\u001b[0;34m(self, X, y, check_input)\u001b[0m\n\u001b[1;32m    760\u001b[0m                           \u001b[0mrandom_state\u001b[0m\u001b[0;34m=\u001b[0m\u001b[0mself\u001b[0m\u001b[0;34m.\u001b[0m\u001b[0mrandom_state\u001b[0m\u001b[0;34m,\u001b[0m\u001b[0;34m\u001b[0m\u001b[0;34m\u001b[0m\u001b[0m\n\u001b[1;32m    761\u001b[0m                           \u001b[0mselection\u001b[0m\u001b[0;34m=\u001b[0m\u001b[0mself\u001b[0m\u001b[0;34m.\u001b[0m\u001b[0mselection\u001b[0m\u001b[0;34m,\u001b[0m\u001b[0;34m\u001b[0m\u001b[0;34m\u001b[0m\u001b[0m\n\u001b[0;32m--> 762\u001b[0;31m                           check_input=False)\n\u001b[0m\u001b[1;32m    763\u001b[0m             \u001b[0mcoef_\u001b[0m\u001b[0;34m[\u001b[0m\u001b[0mk\u001b[0m\u001b[0;34m]\u001b[0m \u001b[0;34m=\u001b[0m \u001b[0mthis_coef\u001b[0m\u001b[0;34m[\u001b[0m\u001b[0;34m:\u001b[0m\u001b[0;34m,\u001b[0m \u001b[0;36m0\u001b[0m\u001b[0;34m]\u001b[0m\u001b[0;34m\u001b[0m\u001b[0;34m\u001b[0m\u001b[0m\n\u001b[1;32m    764\u001b[0m             \u001b[0mdual_gaps_\u001b[0m\u001b[0;34m[\u001b[0m\u001b[0mk\u001b[0m\u001b[0;34m]\u001b[0m \u001b[0;34m=\u001b[0m \u001b[0mthis_dual_gap\u001b[0m\u001b[0;34m[\u001b[0m\u001b[0;36m0\u001b[0m\u001b[0;34m]\u001b[0m\u001b[0;34m\u001b[0m\u001b[0;34m\u001b[0m\u001b[0m\n",
      "\u001b[0;32m~/anaconda3/envs/nse/lib/python3.6/site-packages/sklearn/linear_model/coordinate_descent.py\u001b[0m in \u001b[0;36menet_path\u001b[0;34m(X, y, l1_ratio, eps, n_alphas, alphas, precompute, Xy, copy_X, coef_init, verbose, return_n_iter, positive, check_input, **params)\u001b[0m\n\u001b[1;32m    476\u001b[0m             model = cd_fast.enet_coordinate_descent(\n\u001b[1;32m    477\u001b[0m                 \u001b[0mcoef_\u001b[0m\u001b[0;34m,\u001b[0m \u001b[0ml1_reg\u001b[0m\u001b[0;34m,\u001b[0m \u001b[0ml2_reg\u001b[0m\u001b[0;34m,\u001b[0m \u001b[0mX\u001b[0m\u001b[0;34m,\u001b[0m \u001b[0my\u001b[0m\u001b[0;34m,\u001b[0m \u001b[0mmax_iter\u001b[0m\u001b[0;34m,\u001b[0m \u001b[0mtol\u001b[0m\u001b[0;34m,\u001b[0m \u001b[0mrng\u001b[0m\u001b[0;34m,\u001b[0m \u001b[0mrandom\u001b[0m\u001b[0;34m,\u001b[0m\u001b[0;34m\u001b[0m\u001b[0;34m\u001b[0m\u001b[0m\n\u001b[0;32m--> 478\u001b[0;31m                 positive)\n\u001b[0m\u001b[1;32m    479\u001b[0m         \u001b[0;32melse\u001b[0m\u001b[0;34m:\u001b[0m\u001b[0;34m\u001b[0m\u001b[0;34m\u001b[0m\u001b[0m\n\u001b[1;32m    480\u001b[0m             raise ValueError(\"Precompute should be one of True, False, \"\n",
      "\u001b[0;31mKeyboardInterrupt\u001b[0m: "
     ]
    }
   ],
   "source": [
    "# Assess similarity of results\n",
    "random_state =  1234\n",
    "uoi1 = UoI_Lasso(fit_intercept = False, random_state = random_state)\n",
    "uoi2 = cassolasso.UoI_Lasso(fit_intercept = False, random_state = random_state)\n",
    "\n",
    "uoi1.fit(X, y)\n",
    "uoi2.fit(X, y)"
   ]
  },
  {
   "cell_type": "code",
   "execution_count": null,
   "metadata": {},
   "outputs": [],
   "source": [
    "selection_accuracy(beta.ravel(), uoi1.coef_)"
   ]
  },
  {
   "cell_type": "code",
   "execution_count": null,
   "metadata": {},
   "outputs": [],
   "source": [
    "selection_accuracy(beta.ravel(), uoi2.coef_)"
   ]
  },
  {
   "cell_type": "code",
   "execution_count": null,
   "metadata": {},
   "outputs": [],
   "source": [
    "estimation_error(beta.ravel(), uoi1.coef_)"
   ]
  },
  {
   "cell_type": "code",
   "execution_count": null,
   "metadata": {},
   "outputs": [],
   "source": [
    "estimation_error(beta.ravel(), uoi2.coef_)"
   ]
  },
  {
   "cell_type": "markdown",
   "metadata": {},
   "source": [
    "Test the equivalent modifications on UoI Elastic Net"
   ]
  },
  {
   "cell_type": "code",
   "execution_count": null,
   "metadata": {},
   "outputs": [],
   "source": [
    "def GCV(X, y, l):\n",
    "    n, n_features = X.shape\n",
    "    H = X @ np.linalg.inv(X.T @ X + l * np.eye(n_features)) @ X.T\n",
    "    mu = H @ y\n",
    "    gcv = 1/n * np.linalg.norm(y.ravel() - mu.ravel())**2/(1 - 1/n * np.trace(H))**2\n",
    "    return gcv"
   ]
  },
  {
   "cell_type": "code",
   "execution_count": null,
   "metadata": {},
   "outputs": [],
   "source": [
    "# Examine the nature of the GCV ridge regularization function\n",
    "l = np.linspace(0, 50, 500)\n",
    "gcv = np.array([GCV(X, y, l_) for l_ in l])"
   ]
  },
  {
   "cell_type": "code",
   "execution_count": null,
   "metadata": {},
   "outputs": [],
   "source": [
    "plt.plot(gcv)"
   ]
  },
  {
   "cell_type": "code",
   "execution_count": null,
   "metadata": {},
   "outputs": [],
   "source": [
    "# Compare with what we get from RidgeCV\n",
    "from sklearn.linear_model import RidgeCV, ElasticNetCV"
   ]
  },
  {
   "cell_type": "code",
   "execution_count": null,
   "metadata": {},
   "outputs": [],
   "source": [
    "r = RidgeCV(alphas = np.linspace(0.01, 1000, 200), fit_intercept = False)\n",
    "r.fit(X, y.ravel())"
   ]
  },
  {
   "cell_type": "code",
   "execution_count": null,
   "metadata": {},
   "outputs": [],
   "source": [
    "r.alpha_"
   ]
  },
  {
   "cell_type": "code",
   "execution_count": null,
   "metadata": {},
   "outputs": [],
   "source": [
    "np.linspace(0, 10, 100)[np.argmin(gcv)]"
   ]
  },
  {
   "cell_type": "code",
   "execution_count": null,
   "metadata": {},
   "outputs": [],
   "source": [
    "# How about vs. ElasticNetCV?\n",
    "e = ElasticNetCV(l1_ratio = [0.1, 0.5, 0.75, 0.9, 0.95, 0.99], fit_intercept = False, cv = 5)\n",
    "e.fit(X, y.ravel())"
   ]
  },
  {
   "cell_type": "code",
   "execution_count": null,
   "metadata": {},
   "outputs": [],
   "source": [
    "from sklearn.linear_model.coordinate_descent import _alpha_grid"
   ]
  },
  {
   "cell_type": "code",
   "execution_count": null,
   "metadata": {},
   "outputs": [],
   "source": [
    "l1 = _alpha_grid(X, y, l1_ratio = 0.99)"
   ]
  },
  {
   "cell_type": "code",
   "execution_count": null,
   "metadata": {},
   "outputs": [],
   "source": [
    "l2 = (1 - 0.1) * l1/2"
   ]
  },
  {
   "cell_type": "code",
   "execution_count": null,
   "metadata": {},
   "outputs": [],
   "source": [
    "l2"
   ]
  },
  {
   "cell_type": "code",
   "execution_count": 4,
   "metadata": {},
   "outputs": [],
   "source": [
    "from pyuoi.linear_model import UoI_ElasticNet\n",
    "from pyuoi.linear_model import casso_en"
   ]
  },
  {
   "cell_type": "code",
   "execution_count": 5,
   "metadata": {},
   "outputs": [],
   "source": [
    "uoi1 = casso_en.UoI_ElasticNet()"
   ]
  },
  {
   "cell_type": "code",
   "execution_count": null,
   "metadata": {},
   "outputs": [],
   "source": [
    "%time uoi1.fit(X, y.ravel())"
   ]
  },
  {
   "cell_type": "code",
   "execution_count": 7,
   "metadata": {},
   "outputs": [],
   "source": [
    "import pycasso\n",
    "from sklearn.linear_model.coordinate_descent import _alpha_grid"
   ]
  },
  {
   "cell_type": "code",
   "execution_count": 78,
   "metadata": {},
   "outputs": [
    {
     "name": "stdout",
     "output_type": "stream",
     "text": [
      "Training is over.\n",
      "Training is over.\n",
      "Training is over.\n",
      "Training is over.\n",
      "Training is over.\n",
      "Training is over.\n",
      "Training is over.\n",
      "Training is over.\n",
      "Training is over.\n",
      "Training is over.\n",
      "Training is over.\n",
      "Training is over.\n",
      "Training is over.\n",
      "Training is over.\n",
      "Training is over.\n",
      "Training is over.\n",
      "Training is over.\n",
      "Training is over.\n",
      "Training is over.\n",
      "Training is over.\n",
      "Training is over.\n",
      "Training is over.\n",
      "Training is over.\n",
      "Training is over.\n",
      "Training is over.\n",
      "Training is over.\n",
      "Training is over.\n",
      "Training is over.\n",
      "Training is over.\n",
      "Training is over.\n",
      "Training is over.\n",
      "Training is over.\n",
      "Training is over.\n",
      "Training is over.\n",
      "Training is over.\n",
      "Training is over.\n",
      "Training is over.\n",
      "Training is over.\n",
      "Training is over.\n",
      "Training is over.\n",
      "Training is over.\n",
      "Training is over.\n",
      "Training is over.\n",
      "Training is over.\n",
      "Training is over.\n",
      "Training is over.\n",
      "Training is over.\n",
      "Training is over.\n",
      "Training is over.\n",
      "Training is over.\n",
      "Training is over.\n",
      "Training is over.\n",
      "Training is over.\n",
      "Training is over.\n",
      "Training is over.\n",
      "Training is over.\n",
      "Training is over.\n",
      "Training is over.\n",
      "Training is over.\n",
      "Training is over.\n",
      "Training is over.\n",
      "Training is over.\n",
      "Training is over.\n",
      "Training is over.\n",
      "Training is over.\n",
      "Training is over.\n",
      "Training is over.\n",
      "Training is over.\n",
      "Training is over.\n",
      "Training is over.\n",
      "Training is over.\n",
      "Training is over.\n",
      "Training is over.\n",
      "Training is over.\n",
      "Training is over.\n",
      "Training is over.\n",
      "Training is over.\n",
      "Training is over.\n",
      "Training is over.\n",
      "Training is over.\n",
      "Training is over.\n",
      "Training is over.\n",
      "Training is over.\n",
      "Training is over.\n",
      "Training is over.\n",
      "Training is over.\n",
      "Training is over.\n",
      "Training is over.\n",
      "Training is over.\n",
      "Training is over.\n",
      "Training is over.\n",
      "Training is over.\n",
      "Training is over.\n",
      "Training is over.\n",
      "Training is over.\n",
      "Training is over.\n",
      "Training is over.\n",
      "Training is over.\n",
      "Training is over.\n"
     ]
    }
   ],
   "source": [
    "# Figure : Compare the max selection accuracy along solution paths for Lasso and MCP for various concavity \n",
    "# parameters\n",
    "\n",
    "# First : No correlated design\n",
    "\n",
    "n_features = 50\n",
    "ns = 200\n",
    "sparsity = np.linspace(0.05, 1, 11)\n",
    "\n",
    "n_alphas = 48\n",
    "\n",
    "# Covariance of design matrix\n",
    "sigma = gen_covariance(n_features, 0, 5, 5, 1)\n",
    "\n",
    "gamma = np.array([1.01, 3, 10, 30])\n",
    "gamma_SCAD = np.array([2.1, 5, 10, 30])\n",
    "\n",
    "lasso_sa = np.zeros((sparsity.size))\n",
    "mcp_sa = np.zeros((sparsity.size, gamma.size))\n",
    "scad_sa = np.zeros((sparsity.size, gamma.size))\n",
    "\n",
    "for i, s in enumerate(sparsity):\n",
    "    t0 = time.time()\n",
    "    beta = gen_beta2(n_features, n_features, sparsity = s, betawidth = np.inf)\n",
    "    X, X_test, y, y_test, ss = gen_data(ns, n_features, kappa = 10, \n",
    "                                        covariance = sigma, beta = beta)\n",
    "    \n",
    "    X = StandardScaler().fit_transform(X)\n",
    "    y -= np.mean(y)\n",
    "    \n",
    "    alphas = _alpha_grid(X, y, n_alphas = n_alphas)\n",
    "    s_lasso = pycasso.Solver(X, y, family = 'gaussian', useintercept = False, \n",
    "                             lambdas = alphas, penalty = 'l1')\n",
    "    s_lasso.train()\n",
    "    \n",
    "    lasso_sa[i] = np.max(selection_accuracy(beta.ravel(), s_lasso.result['beta']))\n",
    "    \n",
    "    for j, g in enumerate(gamma):\n",
    "        s_mcp = pycasso.Solver(X, y, family = 'gaussian', useintercept = False, \n",
    "                               gamma = g, penalty = 'mcp')\n",
    "        s_mcp.train()\n",
    "        mcp_sa[i, j] = np.max(selection_accuracy(beta.ravel(), s_mcp.result['beta']))\n",
    "\n",
    "        s_scad = pycasso.Solver(X, y, family = 'gaussian', useintercept = False, \n",
    "                               gamma = gamma_SCAD[j], penalty = 'scad')\n",
    "        s_scad.train()\n",
    "        scad_sa[i, j] = np.max(selection_accuracy(beta.ravel(), s_scad.result['beta']))\n",
    "\n",
    " "
   ]
  },
  {
   "cell_type": "code",
   "execution_count": 84,
   "metadata": {},
   "outputs": [
    {
     "data": {
      "text/plain": [
       "<matplotlib.legend.Legend at 0x7fc39c054780>"
      ]
     },
     "execution_count": 84,
     "metadata": {},
     "output_type": "execute_result"
    },
    {
     "data": {
      "image/png": "[encoded data removed]",
      "text/plain": [
       "<Figure size 720x432 with 1 Axes>"
      ]
     },
     "metadata": {
      "needs_background": "light"
     },
     "output_type": "display_data"
    }
   ],
   "source": [
    "fig, ax = plt.subplots(figsize = (10, 6))\n",
    "ax.plot(sparsity, lasso_sa)\n",
    "ax.plot(sparsity, mcp_sa[:, 0])\n",
    "ax.plot(sparsity, mcp_sa[:, 1])\n",
    "ax.plot(sparsity, mcp_sa[:, 2])\n",
    "\n",
    "ax.set_ylabel('Selection Accuracy', fontsize = 16)\n",
    "ax.set_xlabel('Density (k/p)', fontsize = 16)\n",
    "ax.legend(['Lasso', 'MCP, Gamma = 1', 'MCP, Gamma = 3', 'MCP, Gamma = 10', 'MCP, Gamma = 30'])\n",
    "# plt.savefig('LassovMCPCase2.png', bbox_inches = 'tight', pad_inches = 0)"
   ]
  },
  {
   "cell_type": "code",
   "execution_count": null,
   "metadata": {},
   "outputs": [],
   "source": [
    "# Move on to adaptive lasso-type regularizations."
   ]
  },
  {
   "cell_type": "code",
   "execution_count": 43,
   "metadata": {},
   "outputs": [],
   "source": [
    "from sklearn.linear_model import RidgeCV"
   ]
  },
  {
   "cell_type": "code",
   "execution_count": 55,
   "metadata": {},
   "outputs": [],
   "source": [
    "from sklearn.linear_model import ElasticNet"
   ]
  },
  {
   "cell_type": "code",
   "execution_count": 70,
   "metadata": {},
   "outputs": [
    {
     "name": "stdout",
     "output_type": "stream",
     "text": [
      "Training is over.\n",
      "Training is over.\n",
      "Training is over.\n",
      "Training is over.\n",
      "Training is over.\n",
      "Training is over.\n",
      "Training is over.\n",
      "Training is over.\n",
      "Training is over.\n",
      "Training is over.\n",
      "Training is over.\n",
      "Training is over.\n",
      "Training is over.\n",
      "Training is over.\n",
      "Training is over.\n",
      "Training is over.\n",
      "Training is over.\n",
      "Training is over.\n",
      "Training is over.\n",
      "Training is over.\n",
      "Training is over.\n",
      "Training is over.\n",
      "Training is over.\n",
      "Training is over.\n",
      "Training is over.\n",
      "Training is over.\n",
      "Training is over.\n",
      "Training is over.\n",
      "Training is over.\n",
      "Training is over.\n",
      "Training is over.\n",
      "Training is over.\n",
      "Training is over.\n"
     ]
    }
   ],
   "source": [
    "# Figure : Compare the max selection accuracy along solution paths for Lasso and MCP for various concavity \n",
    "# parameters\n",
    "\n",
    "n_features = 50\n",
    "ns = 200\n",
    "sparsity = np.linspace(0.05, 1, 11)\n",
    "\n",
    "n_alphas = 48\n",
    "\n",
    "# Covariance of design matrix\n",
    "sigma = gen_covariance(n_features, 0.33, 5, 5, 0)\n",
    "\n",
    "# Precision matrix\n",
    "D = np.linalg.inv(sigma)\n",
    "dd = np.diag(D)\n",
    "\n",
    "lasso_sa = np.zeros((sparsity.size))\n",
    "alasso_sa = np.zeros((sparsity.size))\n",
    "spac_sa = np.zeros((sparsity.size))\n",
    "en_sa = np.zeros((sparsity.size))\n",
    "\n",
    "for i, s in enumerate(sparsity):\n",
    "    t0 = time.time()\n",
    "    beta = gen_beta2(n_features, n_features, sparsity = s, betawidth = np.inf)\n",
    "    X, X_test, y, y_test, ss = gen_data(ns, n_features, kappa = 5, \n",
    "                                        covariance = sigma, beta = beta)\n",
    "    \n",
    "    X = StandardScaler().fit_transform(X)\n",
    "    y -= np.mean(y)\n",
    "    \n",
    "    alphas = _alpha_grid(X, y, n_alphas = n_alphas)\n",
    "    s_lasso = pycasso.Solver(X, y, family = 'gaussian', useintercept = False, \n",
    "                             lambdas = alphas, penalty = 'l1')\n",
    "    s_lasso.train()\n",
    "    \n",
    "    lasso_sa[i] = np.max(selection_accuracy(beta.ravel(), s_lasso.result['beta']))\n",
    "    \n",
    "    # For adaptive lasso, initialize estimates with CV Ridge fit\n",
    "    #r = RidgeCV(fit_intercept = False)\n",
    "    r = LinearRegression(fit_intercept = False)\n",
    "    r.fit(X, y)\n",
    "\n",
    "    # Reweight the design matrix using the ridge coefficients\n",
    "    xx = np.multiply(X, np.abs(r.coef_.ravel()))\n",
    "\n",
    "    s_alasso = pycasso.Solver(xx, y, family = 'gaussian', useintercept = False, \n",
    "                              penalty = 'l1')\n",
    "    \n",
    "    s_alasso.train()\n",
    "    alasso_sa[i] = np.max(selection_accuracy(beta.ravel(), np.multiply(s_alasso.result['beta'],\n",
    "                                                                    np.abs(r.coef_.ravel()))))\n",
    "    \n",
    "    # For SPAC, transform the design matrix using the precision matrix\n",
    "\n",
    "    xx = np.multiply(X, np.power(dd, 0.5))\n",
    "    s_spac = pycasso.Solver(xx, y, family = 'gaussian', useintercept = False, penalty = 'l1')\n",
    "    \n",
    "    s_spac.train()\n",
    "    spac_sa[i] = np.max(selection_accuracy(beta.ravel(), np.multiply(s_spac.result['beta'],\n",
    "                                                                     np.power(dd, -0.5))))\n",
    "    \n",
    "    # Solve elastic net along a number of l1_ratio coefficient paths, take the maximum along \n",
    "    # all paths:\n",
    "    l1_ratios = [0.1, 0.5, 0.7, 0.9, 0.95, 0.99]\n",
    "    en_sa_ = np.zeros((len(l1_ratios), n_alphas))\n",
    "    for j, l1_ratio in enumerate(l1_ratios):\n",
    "        alphas = _alpha_grid(X, y, n_alphas = n_alphas, l1_ratio = l1_ratio)\n",
    "        for k, alpha in enumerate(alphas):\n",
    "            en = ElasticNet(alpha = alpha, l1_ratio = l1_ratio, fit_intercept = False).fit(X, y)\n",
    "            en_sa_[j, k] = selection_accuracy(beta.ravel(), en.coef_.ravel())\n",
    "    en_sa[i] = np.max(en_sa_)\n",
    "        \n",
    "        \n",
    "        "
   ]
  },
  {
   "cell_type": "code",
   "execution_count": 71,
   "metadata": {},
   "outputs": [
    {
     "data": {
      "image/png": "[encoded data removed]",
      "text/plain": [
       "<Figure size 720x432 with 1 Axes>"
      ]
     },
     "metadata": {
      "needs_background": "light"
     },
     "output_type": "display_data"
    }
   ],
   "source": [
    "fig, ax = plt.subplots(figsize = (10, 6))\n",
    "\n",
    "ax.plot(lasso_sa)\n",
    "ax.plot(alasso_sa)\n",
    "ax.plot(spac_sa)\n",
    "ax.plot(en_sa)\n",
    "\n",
    "ax.set_ylabel('Selection Accuracy', fontsize = 16)\n",
    "ax.set_xlabel('Density (k/p)', fontsize = 16)\n",
    "ax.legend(['Lasso', 'Adaptive Lasso', 'SPAC', 'Elastic Net'])\n",
    "plt.savefig('LassovOthersCase2.png', bbox_inches = 'tight', pad_inches = 0)"
   ]
  },
  {
   "cell_type": "code",
   "execution_count": 72,
   "metadata": {},
   "outputs": [],
   "source": [
    "# Validate MCP against matlab results\n",
    "from scipy.io import loadmat"
   ]
  },
  {
   "cell_type": "code",
   "execution_count": 79,
   "metadata": {},
   "outputs": [],
   "source": [
    "d = loadmat('mcp_coefs.mat')"
   ]
  },
  {
   "cell_type": "code",
   "execution_count": 81,
   "metadata": {},
   "outputs": [
    {
     "data": {
      "text/plain": [
       "(72, 50)"
      ]
     },
     "execution_count": 81,
     "metadata": {},
     "output_type": "execute_result"
    }
   ],
   "source": [
    "d['bh'][0, 0].shape"
   ]
  },
  {
   "cell_type": "code",
   "execution_count": 82,
   "metadata": {},
   "outputs": [],
   "source": [
    "# Assess selection accuracy on each sparsity\n",
    "matlab_sa = np.zeros((11, 4))\n",
    "for i in range(11):\n",
    "    for j in range(4):\n",
    "        matlab_sa[i, j] = np.max(selection_accuracy(d['b'][i, :].ravel(), d['bh'][i, j]))"
   ]
  },
  {
   "cell_type": "code",
   "execution_count": 87,
   "metadata": {},
   "outputs": [
    {
     "data": {
      "text/plain": [
       "[<matplotlib.lines.Line2D at 0x7fc395df8ba8>]"
      ]
     },
     "execution_count": 87,
     "metadata": {},
     "output_type": "execute_result"
    },
    {
     "data": {
      "image/png": "[encoded data removed]",
      "text/plain": [
       "<Figure size 432x288 with 1 Axes>"
      ]
     },
     "metadata": {
      "needs_background": "light"
     },
     "output_type": "display_data"
    }
   ],
   "source": [
    "plt.plot(matlab_sa[:, 3])"
   ]
  },
  {
   "cell_type": "code",
   "execution_count": null,
   "metadata": {},
   "outputs": [],
   "source": [
    "# Confirm the matlab L1 solver vs. sklearn"
   ]
  }
 ],
 "metadata": {
  "kernelspec": {
   "display_name": "Python 3",
   "language": "python",
   "name": "python3"
  },
  "language_info": {
   "codemirror_mode": {
    "name": "ipython",
    "version": 3
   },
   "file_extension": ".py",
   "mimetype": "text/x-python",
   "name": "python",
   "nbconvert_exporter": "python",
   "pygments_lexer": "ipython3",
   "version": "3.6.7"
  }
 },
 "nbformat": 4,
 "nbformat_minor": 2
}
