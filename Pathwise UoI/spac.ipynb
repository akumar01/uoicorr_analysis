import numpy as np
from pyuoi.linear_model.lbfgs import fmin_lbfgs
import torch

# Solver of SPAC-Lasso using fmin lbfgs
def solver()