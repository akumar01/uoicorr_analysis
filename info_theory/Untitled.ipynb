{
 "cells": [
  {
   "cell_type": "code",
   "execution_count": 1,
   "metadata": {},
   "outputs": [],
   "source": [
    "%load_ext autoreload\n",
    "%autoreload 2"
   ]
  },
  {
   "cell_type": "code",
   "execution_count": 2,
   "metadata": {},
   "outputs": [],
   "source": [
    "# %load ../loaders/imports.py\n",
    "import sys, os\n",
    "import numpy as np\n",
    "import matplotlib.pyplot as plt\n",
    "import time\n",
    "import pdb\n",
    "\n",
    "from numerics import calc_error_probabilities\n",
    "import itertools"
   ]
  },
  {
   "cell_type": "code",
   "execution_count": 3,
   "metadata": {},
   "outputs": [],
   "source": [
    "# Calculate the CDF across a few values of gamma and sigma, as well as fixed T, and T scaling with n\n",
    "sigma = [1, 10, 100]\n",
    "gamma = [1, 0.1, 0.01]\n",
    "n = [100, 200, 500, 1000, 5000]"
   ]
  },
  {
   "cell_type": "code",
   "execution_count": null,
   "metadata": {},
   "outputs": [
    {
     "name": "stderr",
     "output_type": "stream",
     "text": [
      "/home/akumar/nse/uoicorr_analysis/info_theory/numerics.py:41: RuntimeWarning: divide by zero encountered in log\n",
      "  t * (sigma**2 * T - gamma*2 * (n - T)) - t * Delta\n",
      "/home/akumar/nse/uoicorr_analysis/info_theory/numerics.py:41: RuntimeWarning: invalid value encountered in log\n",
      "  t * (sigma**2 * T - gamma*2 * (n - T)) - t * Delta\n"
     ]
    },
    {
     "name": "stdout",
     "output_type": "stream",
     "text": [
      "22.503823041915894\n",
      "22.093485593795776\n",
      "35.74941301345825\n",
      "43.452879190444946\n",
      "83.19963550567627\n",
      "21.9984929561615\n"
     ]
    },
    {
     "name": "stderr",
     "output_type": "stream",
     "text": [
      "/home/akumar/nse/uoicorr_analysis/info_theory/numerics.py:41: RuntimeWarning: divide by zero encountered in log\n",
      "  t * (sigma**2 * T - gamma*2 * (n - T)) - t * Delta\n",
      "/home/akumar/nse/uoicorr_analysis/info_theory/numerics.py:41: RuntimeWarning: invalid value encountered in log\n",
      "  t * (sigma**2 * T - gamma*2 * (n - T)) - t * Delta\n",
      "/home/akumar/nse/uoicorr_analysis/info_theory/numerics.py:41: RuntimeWarning: divide by zero encountered in log\n",
      "  t * (sigma**2 * T - gamma*2 * (n - T)) - t * Delta\n",
      "/home/akumar/nse/uoicorr_analysis/info_theory/numerics.py:41: RuntimeWarning: invalid value encountered in log\n",
      "  t * (sigma**2 * T - gamma*2 * (n - T)) - t * Delta\n"
     ]
    },
    {
     "name": "stdout",
     "output_type": "stream",
     "text": [
      "33.055330991744995\n"
     ]
    },
    {
     "name": "stderr",
     "output_type": "stream",
     "text": [
      "/home/akumar/nse/uoicorr_analysis/info_theory/numerics.py:41: RuntimeWarning: divide by zero encountered in log\n",
      "  t * (sigma**2 * T - gamma*2 * (n - T)) - t * Delta\n",
      "/home/akumar/nse/uoicorr_analysis/info_theory/numerics.py:41: RuntimeWarning: invalid value encountered in log\n",
      "  t * (sigma**2 * T - gamma*2 * (n - T)) - t * Delta\n"
     ]
    },
    {
     "name": "stdout",
     "output_type": "stream",
     "text": [
      "50.6639518737793\n"
     ]
    },
    {
     "name": "stderr",
     "output_type": "stream",
     "text": [
      "/home/akumar/nse/uoicorr_analysis/info_theory/numerics.py:41: RuntimeWarning: divide by zero encountered in log\n",
      "  t * (sigma**2 * T - gamma*2 * (n - T)) - t * Delta\n",
      "/home/akumar/nse/uoicorr_analysis/info_theory/numerics.py:41: RuntimeWarning: invalid value encountered in log\n",
      "  t * (sigma**2 * T - gamma*2 * (n - T)) - t * Delta\n"
     ]
    },
    {
     "name": "stdout",
     "output_type": "stream",
     "text": [
      "58.08450222015381\n",
      "80.25330185890198\n"
     ]
    },
    {
     "name": "stderr",
     "output_type": "stream",
     "text": [
      "/home/akumar/nse/uoicorr_analysis/info_theory/numerics.py:41: RuntimeWarning: divide by zero encountered in log\n",
      "  t * (sigma**2 * T - gamma*2 * (n - T)) - t * Delta\n",
      "/home/akumar/nse/uoicorr_analysis/info_theory/numerics.py:41: RuntimeWarning: invalid value encountered in log\n",
      "  t * (sigma**2 * T - gamma*2 * (n - T)) - t * Delta\n",
      "/home/akumar/nse/uoicorr_analysis/info_theory/numerics.py:41: RuntimeWarning: divide by zero encountered in log\n",
      "  t * (sigma**2 * T - gamma*2 * (n - T)) - t * Delta\n",
      "/home/akumar/nse/uoicorr_analysis/info_theory/numerics.py:41: RuntimeWarning: invalid value encountered in log\n",
      "  t * (sigma**2 * T - gamma*2 * (n - T)) - t * Delta\n",
      "/home/akumar/nse/uoicorr_analysis/info_theory/numerics.py:41: RuntimeWarning: divide by zero encountered in log\n",
      "  t * (sigma**2 * T - gamma*2 * (n - T)) - t * Delta\n",
      "/home/akumar/nse/uoicorr_analysis/info_theory/numerics.py:41: RuntimeWarning: invalid value encountered in log\n",
      "  t * (sigma**2 * T - gamma*2 * (n - T)) - t * Delta\n"
     ]
    },
    {
     "name": "stdout",
     "output_type": "stream",
     "text": [
      "20.81709122657776\n"
     ]
    },
    {
     "name": "stderr",
     "output_type": "stream",
     "text": [
      "/home/akumar/nse/uoicorr_analysis/info_theory/numerics.py:41: RuntimeWarning: divide by zero encountered in log\n",
      "  t * (sigma**2 * T - gamma*2 * (n - T)) - t * Delta\n",
      "/home/akumar/nse/uoicorr_analysis/info_theory/numerics.py:41: RuntimeWarning: invalid value encountered in log\n",
      "  t * (sigma**2 * T - gamma*2 * (n - T)) - t * Delta\n"
     ]
    },
    {
     "name": "stdout",
     "output_type": "stream",
     "text": [
      "33.008140325546265\n"
     ]
    },
    {
     "name": "stderr",
     "output_type": "stream",
     "text": [
      "/home/akumar/nse/uoicorr_analysis/info_theory/numerics.py:41: RuntimeWarning: divide by zero encountered in log\n",
      "  t * (sigma**2 * T - gamma*2 * (n - T)) - t * Delta\n",
      "/home/akumar/nse/uoicorr_analysis/info_theory/numerics.py:41: RuntimeWarning: invalid value encountered in log\n",
      "  t * (sigma**2 * T - gamma*2 * (n - T)) - t * Delta\n",
      "/home/akumar/nse/uoicorr_analysis/info_theory/numerics.py:41: RuntimeWarning: divide by zero encountered in log\n",
      "  t * (sigma**2 * T - gamma*2 * (n - T)) - t * Delta\n",
      "/home/akumar/nse/uoicorr_analysis/info_theory/numerics.py:41: RuntimeWarning: invalid value encountered in log\n",
      "  t * (sigma**2 * T - gamma*2 * (n - T)) - t * Delta\n"
     ]
    },
    {
     "name": "stdout",
     "output_type": "stream",
     "text": [
      "49.72248649597168\n"
     ]
    },
    {
     "name": "stderr",
     "output_type": "stream",
     "text": [
      "/home/akumar/nse/uoicorr_analysis/info_theory/numerics.py:41: RuntimeWarning: divide by zero encountered in log\n",
      "  t * (sigma**2 * T - gamma*2 * (n - T)) - t * Delta\n",
      "/home/akumar/nse/uoicorr_analysis/info_theory/numerics.py:41: RuntimeWarning: invalid value encountered in log\n",
      "  t * (sigma**2 * T - gamma*2 * (n - T)) - t * Delta\n"
     ]
    },
    {
     "name": "stdout",
     "output_type": "stream",
     "text": [
      "56.48530411720276\n"
     ]
    },
    {
     "name": "stderr",
     "output_type": "stream",
     "text": [
      "/home/akumar/nse/uoicorr_analysis/info_theory/numerics.py:41: RuntimeWarning: divide by zero encountered in log\n",
      "  t * (sigma**2 * T - gamma*2 * (n - T)) - t * Delta\n",
      "/home/akumar/nse/uoicorr_analysis/info_theory/numerics.py:41: RuntimeWarning: invalid value encountered in log\n",
      "  t * (sigma**2 * T - gamma*2 * (n - T)) - t * Delta\n"
     ]
    },
    {
     "name": "stdout",
     "output_type": "stream",
     "text": [
      "74.26432371139526\n",
      "22.818732500076294\n",
      "33.30282974243164\n",
      "52.4679856300354\n",
      "60.27880525588989\n",
      "84.05854845046997\n",
      "23.337994813919067\n",
      "33.60067081451416\n"
     ]
    },
    {
     "name": "stderr",
     "output_type": "stream",
     "text": [
      "/home/akumar/nse/uoicorr_analysis/info_theory/numerics.py:41: RuntimeWarning: divide by zero encountered in log\n",
      "  t * (sigma**2 * T - gamma*2 * (n - T)) - t * Delta\n",
      "/home/akumar/nse/uoicorr_analysis/info_theory/numerics.py:41: RuntimeWarning: invalid value encountered in log\n",
      "  t * (sigma**2 * T - gamma*2 * (n - T)) - t * Delta\n"
     ]
    },
    {
     "name": "stdout",
     "output_type": "stream",
     "text": [
      "51.21168518066406\n",
      "58.510915994644165\n",
      "75.21764063835144\n",
      "21.808605432510376\n",
      "36.672473430633545\n",
      "54.26157808303833\n",
      "60.31458783149719\n",
      "75.7481644153595\n",
      "879.0150310993195\n",
      "1303.5697872638702\n",
      "1976.0414083003998\n",
      "2263.7007126808167\n",
      "2933.4628269672394\n",
      "903.3619122505188\n",
      "1299.0305938720703\n",
      "1949.675035238266\n",
      "2241.273313522339\n",
      "2913.024662733078\n",
      "821.6220655441284\n"
     ]
    }
   ],
   "source": [
    "# case 1: No scaling\n",
    "T = 100\n",
    "S = 50\n",
    "npenalties = 25\n",
    "\n",
    "combinations = list(itertools.product(sigma, gamma, n))\n",
    "actual_probs = np.zeros((len(combinations), npenalties))\n",
    "chernoff_probs = np.zeros((len(combinations), npenalties))\n",
    "mcdarmiad_probs = np.zeros((len(combinations), npenalties))\n",
    "\n",
    "for i, combo in enumerate(combinations):\n",
    "\n",
    "    sigma_, gamma_, n_ = combo\n",
    "    penalties = np.linspace(0, 2 * np.log(n_), npenalties)\n",
    "    t0 = time.time()\n",
    "    for j, penalty in enumerate(penalties):\n",
    "        Delta = sigma_**2 * penalty * (T - S)\n",
    "        Delta0 = sigma_**2 * penalty * (S - T)\n",
    "        mu = sigma_**2 * T - gamma_**2 * (n_ - T)\n",
    "\n",
    "        p1, p2, p3 = calc_error_probabilities(n_, sigma_, T, gamma_, Delta - mu, Delta0)\n",
    "        actual_probs[i, j] = p1\n",
    "        chernoff_probs[i, j]= p2\n",
    "        mcdarmiad_probs[i, j] = p3        \n",
    "    print(time.time() - t0)\n"
   ]
  },
  {
   "cell_type": "code",
   "execution_count": null,
   "metadata": {},
   "outputs": [],
   "source": []
  }
 ],
 "metadata": {
  "kernelspec": {
   "display_name": "Python 3",
   "language": "python",
   "name": "python3"
  },
  "language_info": {
   "codemirror_mode": {
    "name": "ipython",
    "version": 3
   },
   "file_extension": ".py",
   "mimetype": "text/x-python",
   "name": "python",
   "nbconvert_exporter": "python",
   "pygments_lexer": "ipython3",
   "version": "3.6.7"
  }
 },
 "nbformat": 4,
 "nbformat_minor": 2
}
